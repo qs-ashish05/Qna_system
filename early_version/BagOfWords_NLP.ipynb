{
  "nbformat": 4,
  "nbformat_minor": 0,
  "metadata": {
    "colab": {
      "name": "BagOfWords_NLP.ipynb",
      "provenance": [],
      "collapsed_sections": [
        "0jeFwP2L3xRu"
      ],
      "toc_visible": true
    },
    "kernelspec": {
      "name": "python3",
      "display_name": "Python 3"
    }
  },
  "cells": [
    {
      "cell_type": "markdown",
      "metadata": {
        "id": "Q4GqflU5BvX4"
      },
      "source": [
        "#Dataset1-Big(85282 rows)"
      ]
    },
    {
      "cell_type": "markdown",
      "metadata": {
        "id": "fZ3ut8XCatI8"
      },
      "source": [
        "##Import Dataset"
      ]
    },
    {
      "cell_type": "code",
      "metadata": {
        "id": "b2ri6RQELPui",
        "outputId": "5e1d4964-6930-47ac-9bdd-2ca5bf897ce3",
        "colab": {
          "base_uri": "https://localhost:8080/",
          "height": 0
        }
      },
      "source": [
        "import pandas as pd;\n",
        "\n",
        "#Load dataset , rename columns \n",
        "\n",
        "df=pd.read_excel(\"healthtapQAs_v1.xlsx\");\n",
        "df.columns=[\"questions\",\"answers\"];\n",
        "\n",
        "df"
      ],
      "execution_count": 6,
      "outputs": [
        {
          "output_type": "execute_result",
          "data": {
            "text/html": [
              "<div>\n",
              "<style scoped>\n",
              "    .dataframe tbody tr th:only-of-type {\n",
              "        vertical-align: middle;\n",
              "    }\n",
              "\n",
              "    .dataframe tbody tr th {\n",
              "        vertical-align: top;\n",
              "    }\n",
              "\n",
              "    .dataframe thead th {\n",
              "        text-align: right;\n",
              "    }\n",
              "</style>\n",
              "<table border=\"1\" class=\"dataframe\">\n",
              "  <thead>\n",
              "    <tr style=\"text-align: right;\">\n",
              "      <th></th>\n",
              "      <th>questions</th>\n",
              "      <th>answers</th>\n",
              "    </tr>\n",
              "  </thead>\n",
              "  <tbody>\n",
              "    <tr>\n",
              "      <th>0</th>\n",
              "      <td>zirconium dental implants. how common is it us...</td>\n",
              "      <td>a majority of the dental implants placed are t...</td>\n",
              "    </tr>\n",
              "    <tr>\n",
              "      <th>1</th>\n",
              "      <td>zoloft/ sertaline cause heart racing can't sit...</td>\n",
              "      <td>check with your doc could be side effect of th...</td>\n",
              "    </tr>\n",
              "    <tr>\n",
              "      <th>2</th>\n",
              "      <td>zoloft (sertraline) side effects? does it make...</td>\n",
              "      <td>it can be related to either weight gain or los...</td>\n",
              "    </tr>\n",
              "    <tr>\n",
              "      <th>3</th>\n",
              "      <td>yellow skin around wound from cat bite. why?</td>\n",
              "      <td>this may be the secondary result of a resolvin...</td>\n",
              "    </tr>\n",
              "    <tr>\n",
              "      <th>4</th>\n",
              "      <td>yeast infection and open sores major swelling ...</td>\n",
              "      <td>bathing in a bath with baking soda may help de...</td>\n",
              "    </tr>\n",
              "    <tr>\n",
              "      <th>...</th>\n",
              "      <td>...</td>\n",
              "      <td>...</td>\n",
              "    </tr>\n",
              "    <tr>\n",
              "      <th>85277</th>\n",
              "      <td>what is the best: a conventional angiography o...</td>\n",
              "      <td>for small vessels conventional angiography is ...</td>\n",
              "    </tr>\n",
              "    <tr>\n",
              "      <th>85278</th>\n",
              "      <td>what is unique about taking medicine every 24 ...</td>\n",
              "      <td>try taking one half tab every day. but 10mg si...</td>\n",
              "    </tr>\n",
              "    <tr>\n",
              "      <th>85279</th>\n",
              "      <td>what treat should be of following sypmtoms pai...</td>\n",
              "      <td>your description of the pain sounds neuropathi...</td>\n",
              "    </tr>\n",
              "    <tr>\n",
              "      <th>85280</th>\n",
              "      <td>can you explain incomplete right bundle branch...</td>\n",
              "      <td>the righty and left ventricles are induced to ...</td>\n",
              "    </tr>\n",
              "    <tr>\n",
              "      <th>85281</th>\n",
              "      <td>can someone with a pacemaker receive radiation...</td>\n",
              "      <td>it is not safe to be in direct field of radiat...</td>\n",
              "    </tr>\n",
              "  </tbody>\n",
              "</table>\n",
              "<p>85282 rows × 2 columns</p>\n",
              "</div>"
            ],
            "text/plain": [
              "                                               questions                                            answers\n",
              "0      zirconium dental implants. how common is it us...  a majority of the dental implants placed are t...\n",
              "1      zoloft/ sertaline cause heart racing can't sit...  check with your doc could be side effect of th...\n",
              "2      zoloft (sertraline) side effects? does it make...  it can be related to either weight gain or los...\n",
              "3           yellow skin around wound from cat bite. why?  this may be the secondary result of a resolvin...\n",
              "4      yeast infection and open sores major swelling ...  bathing in a bath with baking soda may help de...\n",
              "...                                                  ...                                                ...\n",
              "85277  what is the best: a conventional angiography o...  for small vessels conventional angiography is ...\n",
              "85278  what is unique about taking medicine every 24 ...  try taking one half tab every day. but 10mg si...\n",
              "85279  what treat should be of following sypmtoms pai...  your description of the pain sounds neuropathi...\n",
              "85280  can you explain incomplete right bundle branch...  the righty and left ventricles are induced to ...\n",
              "85281  can someone with a pacemaker receive radiation...  it is not safe to be in direct field of radiat...\n",
              "\n",
              "[85282 rows x 2 columns]"
            ]
          },
          "metadata": {
            "tags": []
          },
          "execution_count": 6
        }
      ]
    },
    {
      "cell_type": "markdown",
      "metadata": {
        "id": "jx8GakBta1ba"
      },
      "source": [
        "##Data Preprocessing"
      ]
    },
    {
      "cell_type": "code",
      "metadata": {
        "id": "CKYjAjKIMNuD",
        "outputId": "beee443a-3567-4f8f-99dc-1d5a8b7c7f76",
        "colab": {
          "base_uri": "https://localhost:8080/"
        }
      },
      "source": [
        "import re\n",
        "import gensim \n",
        "from gensim.parsing.preprocessing import remove_stopwords\n",
        "\n",
        "#keeping only words in the sentence and removing punctuations.\n",
        "def clean_sentence(sentence, stopwords=False):\n",
        "    \n",
        "    sentence = sentence.lower().strip()\n",
        "    sentence = re.sub(r'[^a-z0-9\\s]', '', sentence)\n",
        "\n",
        "    \n",
        "    if stopwords:\n",
        "         sentence = remove_stopwords(sentence)\n",
        "    \n",
        "    \n",
        "    return sentence\n",
        "                    \n",
        "def get_cleaned_sentences(df,stopwords=False):    \n",
        "    sents=df[[\"questions\"]];\n",
        "    cleaned_sentences=[]\n",
        "\n",
        "    for index,row in df.iterrows():\n",
        "        #print(index,row)\n",
        "        cleaned=clean_sentence(row[\"questions\"],stopwords);\n",
        "        cleaned_sentences.append(cleaned);\n",
        "    return cleaned_sentences;\n",
        "\n",
        "cleaned_sentences=get_cleaned_sentences(df,stopwords=True)\n",
        "#print(cleaned_sentences);\n",
        "\n",
        "print(\"\\n\")\n",
        "\n",
        "cleaned_sentences_with_stopwords=get_cleaned_sentences(df,stopwords=False)\n",
        "print(cleaned_sentences_with_stopwords[0]);"
      ],
      "execution_count": 7,
      "outputs": [
        {
          "output_type": "stream",
          "text": [
            "\n",
            "\n",
            "zirconium dental implants how common is it used now is there any advantages or benefits over titanium implants cons  pros please thanks\n"
          ],
          "name": "stdout"
        }
      ]
    },
    {
      "cell_type": "code",
      "metadata": {
        "id": "W60k9PEUckz_",
        "outputId": "7bcc807c-22a1-4b1b-fa32-8bca767ebc9d",
        "colab": {
          "base_uri": "https://localhost:8080/"
        }
      },
      "source": [
        "print(cleaned_sentences_with_stopwords[0]);"
      ],
      "execution_count": 8,
      "outputs": [
        {
          "output_type": "stream",
          "text": [
            "zirconium dental implants how common is it used now is there any advantages or benefits over titanium implants cons  pros please thanks\n"
          ],
          "name": "stdout"
        }
      ]
    },
    {
      "cell_type": "markdown",
      "metadata": {
        "id": "SS61TmP2a8oY"
      },
      "source": [
        "##Bag of words Model"
      ]
    },
    {
      "cell_type": "code",
      "metadata": {
        "id": "1mDHIuJsMWHY",
        "outputId": "acc994b0-d4eb-4018-f999-87b884febdb0",
        "colab": {
          "base_uri": "https://localhost:8080/",
          "height": 0
        }
      },
      "source": [
        "import numpy\n",
        "import pprint\n",
        "\n",
        "sentences=cleaned_sentences_with_stopwords\n",
        "#creating bag of words model\n",
        "\n",
        "# Split it by white space \n",
        "sentence_words = [[word for word in document.split() ]\n",
        "         for document in sentences]\n",
        "\n",
        "from gensim import corpora\n",
        "\n",
        "dictionary = corpora.Dictionary(sentence_words)\n",
        "'''\n",
        "for key, value in dictionary.items():\n",
        "    print(key, ' : ', value)\n",
        "'''\n",
        "\n",
        "bow_corpus = [dictionary.doc2bow(text) for text in sentence_words]\n",
        "'''\n",
        "for sent,embedding in zip(sentences,bow_corpus):\n",
        "    print(sent)\n",
        "    print(embedding)\n",
        "'''\n"
      ],
      "execution_count": 9,
      "outputs": [
        {
          "output_type": "execute_result",
          "data": {
            "application/vnd.google.colaboratory.intrinsic+json": {
              "type": "string"
            },
            "text/plain": [
              "'\\nfor sent,embedding in zip(sentences,bow_corpus):\\n    print(sent)\\n    print(embedding)\\n'"
            ]
          },
          "metadata": {
            "tags": []
          },
          "execution_count": 9
        }
      ]
    },
    {
      "cell_type": "code",
      "metadata": {
        "id": "YIdGXDso0VNs",
        "outputId": "b1aa86d9-0e6b-488c-8593-165a807fc2c9",
        "colab": {
          "base_uri": "https://localhost:8080/"
        }
      },
      "source": [
        "question_orig=\"How to remain healthy?\"\n",
        "#question_orig=input()\n",
        "question=clean_sentence(question_orig,stopwords=False);\n",
        "print(question)\n",
        "question_embedding = dictionary.doc2bow(question.split())\n",
        "\n",
        "\n",
        "print(\"\\n\\n\",question,\"\\n\",question_embedding)"
      ],
      "execution_count": 10,
      "outputs": [
        {
          "output_type": "stream",
          "text": [
            "how to remain healthy\n",
            "\n",
            "\n",
            " how to remain healthy \n",
            " [(6, 1), (65, 1), (971, 1), (3013, 1)]\n"
          ],
          "name": "stdout"
        }
      ]
    },
    {
      "cell_type": "code",
      "metadata": {
        "id": "wgvY8yx5NAbf",
        "outputId": "f368af44-d1b2-4bf0-a92e-025f501ec700",
        "colab": {
          "base_uri": "https://localhost:8080/"
        }
      },
      "source": [
        "import sklearn\n",
        "from sklearn.metrics.pairwise import cosine_similarity;\n",
        "def retrieveAndPrintFAQAnswer(question_embedding,sentence_embeddings,FAQdf,sentences):\n",
        "    max_sim=-1;\n",
        "    index_sim=-1;\n",
        "    for index,faq_embedding in enumerate(sentence_embeddings):\n",
        "        \n",
        "        sim=cosine_similarity(faq_embedding,question_embedding)[0][0];\n",
        "        #print(index, sim, sentences[index])\n",
        "        if sim>max_sim:\n",
        "            max_sim=sim;\n",
        "            index_sim=index;\n",
        "       \n",
        "    print(\"\\n\")\n",
        "    print(\"Question: \",question)\n",
        "    print(\"\\n\");\n",
        "    print(\"Retrieved: \",FAQdf.iloc[index_sim,0]) \n",
        "    print(\"Answer:\",FAQdf.iloc[index_sim,1])        \n",
        "    \n",
        "retrieveAndPrintFAQAnswer(question_embedding,bow_corpus,df,sentences);"
      ],
      "execution_count": 11,
      "outputs": [
        {
          "output_type": "stream",
          "text": [
            "\n",
            "\n",
            "Question:  how to remain healthy\n",
            "\n",
            "\n",
            "Retrieved:  yesterday i got cut on a rusty barbed wire fence. my last tetanus shot was 4 years ago. do i need a booster? how could the germs live out in the sun?\n",
            "Answer: you get at least 5 years from a booster so you should be ok if you cleaned the wound well. it is not the germs of tetanis but the \"eggs\" or spores of the germ that can survive for years in the dust & \"hatch\" when they are in the presence of the serum from tissues in a wound.\n"
          ],
          "name": "stdout"
        }
      ]
    },
    {
      "cell_type": "markdown",
      "metadata": {
        "id": "0jeFwP2L3xRu"
      },
      "source": [
        "#Implementing Chatbot using Bag of Words"
      ]
    },
    {
      "cell_type": "code",
      "metadata": {
        "id": "WkCp93h93U4b",
        "outputId": "c6b12535-9e4f-410f-9f32-d7b4bdafd237",
        "colab": {
          "base_uri": "https://localhost:8080/"
        }
      },
      "source": [
        "import sklearn\n",
        "from sklearn.metrics.pairwise import cosine_similarity;\n",
        "import time\n",
        "\n",
        "print(\"Welcome to the Question Answering System\")      \n",
        "\n",
        "while True:\n",
        "  print(\"Question:\") \n",
        "  \n",
        "  question_orig=input()\n",
        "  \n",
        "  if (question_orig.lower()=='quit'):\n",
        "    break\n",
        "  measure1 = time.time()\n",
        "  question=clean_sentence(question_orig,stopwords=False);\n",
        "  question_embedding = dictionary.doc2bow(question.split())        \n",
        "  def retrieveAndPrintFAQAnswer(question_embedding,sentence_embeddings,FAQdf,sentences):\n",
        "    max_sim=-1;\n",
        "    index_sim=-1;\n",
        "    for index,faq_embedding in enumerate(sentence_embeddings):\n",
        "      sim=cosine_similarity(faq_embedding,question_embedding)[0][0];\n",
        "      #print(index, sim, sentences[index])\n",
        "      if sim>max_sim:\n",
        "        max_sim=sim;\n",
        "        index_sim=index;\n",
        "    #print(\"\\n\")\n",
        "    #print(\"Question: \",question)\n",
        "    #print(\"\\n\");\n",
        "    #print(\"Retrieved: \",FAQdf.iloc[index_sim,0])\n",
        "    \n",
        "    print(\"Answer:\",FAQdf.iloc[index_sim,1])\n",
        "    print(\"----------------------\")\n",
        "    measure2 = time.time()\n",
        "    print(\"Response Time\",measure2 - measure1)\n",
        "    print(\"----------------------\")\n",
        "    print(\"\\n\");\n",
        "    print(\"Enter Quit to exit: \")\n",
        "    \n",
        "  retrieveAndPrintFAQAnswer(question_embedding,bow_corpus,df,sentences);  \n",
        "\n",
        "  \n",
        "  \n",
        "  \n",
        "\n",
        "print(\"----------------------\")\n",
        "print(\"Thank You\")\n",
        "print(\"----------------------\")"
      ],
      "execution_count": 12,
      "outputs": [
        {
          "output_type": "stream",
          "text": [
            "Welcome to the Question Answering System\n",
            "Question:\n",
            "How is your health?\n",
            "Answer: you get at least 5 years from a booster so you should be ok if you cleaned the wound well. it is not the germs of tetanis but the \"eggs\" or spores of the germ that can survive for years in the dust & \"hatch\" when they are in the presence of the serum from tissues in a wound.\n",
            "----------------------\n",
            "Response Time 18.00569987297058\n",
            "----------------------\n",
            "\n",
            "\n",
            "Enter Quit to exit: \n",
            "Question:\n",
            "How to eat which keeps you healthy for longer time?\n",
            "Answer: you get at least 5 years from a booster so you should be ok if you cleaned the wound well. it is not the germs of tetanis but the \"eggs\" or spores of the germ that can survive for years in the dust & \"hatch\" when they are in the presence of the serum from tissues in a wound.\n",
            "----------------------\n",
            "Response Time 19.53119659423828\n",
            "----------------------\n",
            "\n",
            "\n",
            "Enter Quit to exit: \n",
            "Question:\n",
            "Quit\n",
            "----------------------\n",
            "Thank You\n",
            "----------------------\n"
          ],
          "name": "stdout"
        }
      ]
    },
    {
      "cell_type": "markdown",
      "metadata": {
        "id": "N1THzZRhCb4r"
      },
      "source": [
        "#Dataset2-Easy"
      ]
    },
    {
      "cell_type": "markdown",
      "metadata": {
        "id": "uefdPmJ5Y5mY"
      },
      "source": [
        "## Importing Data"
      ]
    },
    {
      "cell_type": "code",
      "metadata": {
        "id": "2pJpkY8GBzE3",
        "outputId": "f5296c2b-43b8-4e65-cacd-fd4c199b1427",
        "colab": {
          "base_uri": "https://localhost:8080/",
          "height": 0
        }
      },
      "source": [
        "import pandas as pd;\n",
        "#Loading dataset and renaming columns\n",
        "\n",
        "df=pd.read_csv(\"FAQ_standard.csv\");\n",
        "df.columns=[\"questions\",\"answers\",\"AnswerCode\"];\n",
        "\n",
        "df"
      ],
      "execution_count": 29,
      "outputs": [
        {
          "output_type": "execute_result",
          "data": {
            "text/html": [
              "<div>\n",
              "<style scoped>\n",
              "    .dataframe tbody tr th:only-of-type {\n",
              "        vertical-align: middle;\n",
              "    }\n",
              "\n",
              "    .dataframe tbody tr th {\n",
              "        vertical-align: top;\n",
              "    }\n",
              "\n",
              "    .dataframe thead th {\n",
              "        text-align: right;\n",
              "    }\n",
              "</style>\n",
              "<table border=\"1\" class=\"dataframe\">\n",
              "  <thead>\n",
              "    <tr style=\"text-align: right;\">\n",
              "      <th></th>\n",
              "      <th>questions</th>\n",
              "      <th>answers</th>\n",
              "      <th>AnswerCode</th>\n",
              "    </tr>\n",
              "  </thead>\n",
              "  <tbody>\n",
              "    <tr>\n",
              "      <th>0</th>\n",
              "      <td>What does the job hunting experience look like ?</td>\n",
              "      <td>Job hunting experience involves networking to ...</td>\n",
              "      <td>1</td>\n",
              "    </tr>\n",
              "    <tr>\n",
              "      <th>1</th>\n",
              "      <td>Any insights you can offer about the DS job ma...</td>\n",
              "      <td>There are many kinds of roles, data scientist,...</td>\n",
              "      <td>2</td>\n",
              "    </tr>\n",
              "    <tr>\n",
              "      <th>2</th>\n",
              "      <td>What's the impact of Covid on hiring for DS ro...</td>\n",
              "      <td>Hiring is going to slow down. First in small c...</td>\n",
              "      <td>3</td>\n",
              "    </tr>\n",
              "    <tr>\n",
              "      <th>3</th>\n",
              "      <td>What skills and qualities do employers look fo...</td>\n",
              "      <td>The following are some skills employers usuall...</td>\n",
              "      <td>4</td>\n",
              "    </tr>\n",
              "    <tr>\n",
              "      <th>4</th>\n",
              "      <td>Do employers look for an advanced ML degree?</td>\n",
              "      <td>For more senior roles: People typically look f...</td>\n",
              "      <td>5</td>\n",
              "    </tr>\n",
              "    <tr>\n",
              "      <th>5</th>\n",
              "      <td>How does a typical day of a data scientist loo...</td>\n",
              "      <td>Here are some tasks in the typical day of a da...</td>\n",
              "      <td>6</td>\n",
              "    </tr>\n",
              "    <tr>\n",
              "      <th>6</th>\n",
              "      <td>Is preparation of algorithms and data structur...</td>\n",
              "      <td>Yes. In many data science interviews (ML Scien...</td>\n",
              "      <td>7</td>\n",
              "    </tr>\n",
              "    <tr>\n",
              "      <th>7</th>\n",
              "      <td>What is the mathematical background required t...</td>\n",
              "      <td>The following three are the basic building blo...</td>\n",
              "      <td>8</td>\n",
              "    </tr>\n",
              "    <tr>\n",
              "      <th>8</th>\n",
              "      <td>What are the various rounds in a data scientis...</td>\n",
              "      <td>Usually the data science interview has a subse...</td>\n",
              "      <td>9</td>\n",
              "    </tr>\n",
              "    <tr>\n",
              "      <th>9</th>\n",
              "      <td>What level of proficiency is needed for a data...</td>\n",
              "      <td>Needs to be reasonably proficient. Again, a da...</td>\n",
              "      <td>10</td>\n",
              "    </tr>\n",
              "  </tbody>\n",
              "</table>\n",
              "</div>"
            ],
            "text/plain": [
              "                                           questions  ... AnswerCode\n",
              "0   What does the job hunting experience look like ?  ...          1\n",
              "1  Any insights you can offer about the DS job ma...  ...          2\n",
              "2  What's the impact of Covid on hiring for DS ro...  ...          3\n",
              "3  What skills and qualities do employers look fo...  ...          4\n",
              "4       Do employers look for an advanced ML degree?  ...          5\n",
              "5  How does a typical day of a data scientist loo...  ...          6\n",
              "6  Is preparation of algorithms and data structur...  ...          7\n",
              "7  What is the mathematical background required t...  ...          8\n",
              "8  What are the various rounds in a data scientis...  ...          9\n",
              "9  What level of proficiency is needed for a data...  ...         10\n",
              "\n",
              "[10 rows x 3 columns]"
            ]
          },
          "metadata": {
            "tags": []
          },
          "execution_count": 29
        }
      ]
    },
    {
      "cell_type": "code",
      "metadata": {
        "id": "SkautkBGaDyc",
        "outputId": "747dab89-81a6-4d00-9121-b7fc05f9e07c",
        "colab": {
          "base_uri": "https://localhost:8080/",
          "height": 0
        }
      },
      "source": [
        "import pandas as pd;\n",
        "\n",
        "#Load dataset and rename columns \n",
        "\n",
        "df_test=pd.read_excel(\"FAQ_test_Easy.xlsx\")\n",
        "df_test.columns=[\"questions\",\"ActualCode\",\"PredictedCode\",\"Prediction?\",\"ActualQuestion\",\"PredictedQuestion\"]\n",
        "\n",
        "df_test"
      ],
      "execution_count": 30,
      "outputs": [
        {
          "output_type": "execute_result",
          "data": {
            "text/html": [
              "<div>\n",
              "<style scoped>\n",
              "    .dataframe tbody tr th:only-of-type {\n",
              "        vertical-align: middle;\n",
              "    }\n",
              "\n",
              "    .dataframe tbody tr th {\n",
              "        vertical-align: top;\n",
              "    }\n",
              "\n",
              "    .dataframe thead th {\n",
              "        text-align: right;\n",
              "    }\n",
              "</style>\n",
              "<table border=\"1\" class=\"dataframe\">\n",
              "  <thead>\n",
              "    <tr style=\"text-align: right;\">\n",
              "      <th></th>\n",
              "      <th>questions</th>\n",
              "      <th>ActualCode</th>\n",
              "      <th>PredictedCode</th>\n",
              "      <th>Prediction?</th>\n",
              "      <th>ActualQuestion</th>\n",
              "      <th>PredictedQuestion</th>\n",
              "    </tr>\n",
              "  </thead>\n",
              "  <tbody>\n",
              "    <tr>\n",
              "      <th>0</th>\n",
              "      <td>How is the job searching experience nowadays?</td>\n",
              "      <td>1</td>\n",
              "      <td>NaN</td>\n",
              "      <td>NaN</td>\n",
              "      <td>What does the job hunting experience look like ?</td>\n",
              "      <td>NaN</td>\n",
              "    </tr>\n",
              "    <tr>\n",
              "      <th>1</th>\n",
              "      <td>How are the DS jobs on the market, please?</td>\n",
              "      <td>2</td>\n",
              "      <td>NaN</td>\n",
              "      <td>NaN</td>\n",
              "      <td>Any insights you can offer about the DS job ma...</td>\n",
              "      <td>NaN</td>\n",
              "    </tr>\n",
              "    <tr>\n",
              "      <th>2</th>\n",
              "      <td>How is DS hiring impacted due to Covid?</td>\n",
              "      <td>3</td>\n",
              "      <td>NaN</td>\n",
              "      <td>NaN</td>\n",
              "      <td>What's the impact of Covid on hiring for DS ro...</td>\n",
              "      <td>NaN</td>\n",
              "    </tr>\n",
              "    <tr>\n",
              "      <th>3</th>\n",
              "      <td>In a data scientist what qualifications and at...</td>\n",
              "      <td>4</td>\n",
              "      <td>NaN</td>\n",
              "      <td>NaN</td>\n",
              "      <td>What skills and qualities do employers look fo...</td>\n",
              "      <td>NaN</td>\n",
              "    </tr>\n",
              "    <tr>\n",
              "      <th>4</th>\n",
              "      <td>Are employers looking for an advanced ML degree?</td>\n",
              "      <td>5</td>\n",
              "      <td>NaN</td>\n",
              "      <td>NaN</td>\n",
              "      <td>Do employers look for an advanced ML degree?</td>\n",
              "      <td>NaN</td>\n",
              "    </tr>\n",
              "    <tr>\n",
              "      <th>5</th>\n",
              "      <td>On a typical day what does a data scientist do?</td>\n",
              "      <td>6</td>\n",
              "      <td>NaN</td>\n",
              "      <td>NaN</td>\n",
              "      <td>How does a typical day of a data scientist loo...</td>\n",
              "      <td>NaN</td>\n",
              "    </tr>\n",
              "    <tr>\n",
              "      <th>6</th>\n",
              "      <td>Do we need to study algorithms for a data scie...</td>\n",
              "      <td>7</td>\n",
              "      <td>NaN</td>\n",
              "      <td>NaN</td>\n",
              "      <td>Is preparation of algorithms and data structur...</td>\n",
              "      <td>NaN</td>\n",
              "    </tr>\n",
              "    <tr>\n",
              "      <th>7</th>\n",
              "      <td>What is the mathematical background needed to ...</td>\n",
              "      <td>8</td>\n",
              "      <td>NaN</td>\n",
              "      <td>NaN</td>\n",
              "      <td>What is the mathematical background required t...</td>\n",
              "      <td>NaN</td>\n",
              "    </tr>\n",
              "    <tr>\n",
              "      <th>8</th>\n",
              "      <td>How many rounds of interview are in a data sc...</td>\n",
              "      <td>9</td>\n",
              "      <td>NaN</td>\n",
              "      <td>NaN</td>\n",
              "      <td>What are the various rounds in a data scientis...</td>\n",
              "      <td>NaN</td>\n",
              "    </tr>\n",
              "    <tr>\n",
              "      <th>9</th>\n",
              "      <td>How proficient a data scientist has to be in c...</td>\n",
              "      <td>10</td>\n",
              "      <td>NaN</td>\n",
              "      <td>NaN</td>\n",
              "      <td>What level of proficiency is needed for a data...</td>\n",
              "      <td>NaN</td>\n",
              "    </tr>\n",
              "  </tbody>\n",
              "</table>\n",
              "</div>"
            ],
            "text/plain": [
              "                                           questions  ...  PredictedQuestion\n",
              "0      How is the job searching experience nowadays?  ...                NaN\n",
              "1         How are the DS jobs on the market, please?  ...                NaN\n",
              "2            How is DS hiring impacted due to Covid?  ...                NaN\n",
              "3  In a data scientist what qualifications and at...  ...                NaN\n",
              "4   Are employers looking for an advanced ML degree?  ...                NaN\n",
              "5    On a typical day what does a data scientist do?  ...                NaN\n",
              "6  Do we need to study algorithms for a data scie...  ...                NaN\n",
              "7  What is the mathematical background needed to ...  ...                NaN\n",
              "8   How many rounds of interview are in a data sc...  ...                NaN\n",
              "9  How proficient a data scientist has to be in c...  ...                NaN\n",
              "\n",
              "[10 rows x 6 columns]"
            ]
          },
          "metadata": {
            "tags": []
          },
          "execution_count": 30
        }
      ]
    },
    {
      "cell_type": "markdown",
      "metadata": {
        "id": "_QiqlXzXYdSW"
      },
      "source": [
        "##Data Processing"
      ]
    },
    {
      "cell_type": "code",
      "metadata": {
        "id": "t0W8NA0ccZSA",
        "outputId": "27560ec8-6530-4ba2-ef31-fca4d582d3c0",
        "colab": {
          "base_uri": "https://localhost:8080/"
        }
      },
      "source": [
        "import re\n",
        "import gensim \n",
        "from gensim.parsing.preprocessing import remove_stopwords\n",
        "\n",
        "\n",
        "def clean_sentence(sentence, stopwords=False):\n",
        "    \n",
        "    sentence = sentence.lower().strip()\n",
        "    sentence = re.sub(r'[^a-z0-9\\s]', '', sentence)\n",
        "\n",
        "    \n",
        "    if stopwords:\n",
        "         sentence = remove_stopwords(sentence)\n",
        "    \n",
        "    \n",
        "    return sentence\n",
        "                    \n",
        "def get_cleaned_sentences(tf,stopwords=False):    \n",
        "    sents=tf[[\"questions\"]];\n",
        "    cleaned_sentences=[]\n",
        "\n",
        "    for index,row in tf.iterrows():\n",
        "        #print(index,row)\n",
        "        cleaned=clean_sentence(row[\"questions\"],stopwords);\n",
        "        cleaned_sentences.append(cleaned);\n",
        "    return cleaned_sentences;\n",
        "\n",
        "cleaned_sentences=get_cleaned_sentences(df,stopwords=True)\n",
        "print(cleaned_sentences);\n",
        "\n",
        "print(\"\\n\")\n",
        "\n",
        "cleaned_sentences_with_stopwords=get_cleaned_sentences(df,stopwords=False)\n",
        "print(cleaned_sentences_with_stopwords);"
      ],
      "execution_count": 31,
      "outputs": [
        {
          "output_type": "stream",
          "text": [
            "['job hunting experience look like', 'insights offer ds job market', 'whats impact covid hiring ds roles', 'skills qualities employers look data scientist', 'employers look advanced ml degree', 'typical day data scientist look like', 'preparation algorithms data structures needed data science interview', 'mathematical background required data scientist', 'rounds data scientist interview', 'level proficiency needed data scientist coding']\n",
            "\n",
            "\n",
            "['what does the job hunting experience look like ', 'any insights you can offer about the ds job market ', 'whats the impact of covid on hiring for ds roles', 'what skills and qualities do employers look for in a data scientist', 'do employers look for an advanced ml degree', 'how does a typical day of a data scientist look like', 'is preparation of algorithms and data structures needed for a data science interview ', 'what is the mathematical background required to be a data scientist ', 'what are the various rounds in a data scientist interview ', 'what level of proficiency is needed for a data scientist in coding']\n"
          ],
          "name": "stdout"
        }
      ]
    },
    {
      "cell_type": "code",
      "metadata": {
        "id": "TSHW_6jAcZdI",
        "outputId": "7fc3a235-0efd-4e3c-a6e3-08ecd0013f3c",
        "colab": {
          "base_uri": "https://localhost:8080/"
        }
      },
      "source": [
        "print(cleaned_sentences_with_stopwords[0]);"
      ],
      "execution_count": 32,
      "outputs": [
        {
          "output_type": "stream",
          "text": [
            "what does the job hunting experience look like \n"
          ],
          "name": "stdout"
        }
      ]
    },
    {
      "cell_type": "markdown",
      "metadata": {
        "id": "YB4WHSQuYpzx"
      },
      "source": [
        "##Bag of Words Model"
      ]
    },
    {
      "cell_type": "code",
      "metadata": {
        "id": "YvHt8QpXcpR1",
        "outputId": "1b68d1c2-fe53-46fb-8ef7-61026ec9ff5c",
        "colab": {
          "base_uri": "https://localhost:8080/",
          "height": 0
        }
      },
      "source": [
        "import numpy\n",
        "import pprint\n",
        "\n",
        "sentences=cleaned_sentences_with_stopwords\n",
        "\n",
        "\n",
        "# Split it by white space \n",
        "sentence_words = [[word for word in document.split() ]\n",
        "         for document in sentences]\n",
        "\n",
        "from gensim import corpora\n",
        "\n",
        "dictionary = corpora.Dictionary(sentence_words)\n",
        "'''\n",
        "for key, value in dictionary.items():\n",
        "    print(key, ' : ', value)\n",
        "'''\n",
        "\n",
        "bow_corpus = [dictionary.doc2bow(text) for text in sentence_words]\n",
        "'''\n",
        "for sent,embedding in zip(sentences,bow_corpus):\n",
        "    print(sent)\n",
        "    print(embedding)\n",
        "'''\n"
      ],
      "execution_count": 33,
      "outputs": [
        {
          "output_type": "execute_result",
          "data": {
            "application/vnd.google.colaboratory.intrinsic+json": {
              "type": "string"
            },
            "text/plain": [
              "'\\nfor sent,embedding in zip(sentences,bow_corpus):\\n    print(sent)\\n    print(embedding)\\n'"
            ]
          },
          "metadata": {
            "tags": []
          },
          "execution_count": 33
        }
      ]
    },
    {
      "cell_type": "code",
      "metadata": {
        "id": "dhUJrlBlYr1r",
        "outputId": "dc3ce09a-c929-4eb0-ed47-6f03b5b9c8c0",
        "colab": {
          "base_uri": "https://localhost:8080/"
        }
      },
      "source": [
        "#question_orig=\"What does a data scientist usually do ?\"\n",
        "#question_orig=input()\n",
        "cleaned_sentences_test=get_cleaned_sentences(df_test,stopwords=False)\n",
        "print(cleaned_sentences_test);\n",
        "\n"
      ],
      "execution_count": 34,
      "outputs": [
        {
          "output_type": "stream",
          "text": [
            "['how is the job searching experience nowadays', 'how are the ds jobs on the market please', 'how is ds hiring impacted due to covid', 'in a data scientist what qualifications and attributes do employers look for', 'are employers looking for an advanced ml degree', 'on a typical day what does a data scientist do', 'do we need to study algorithms for a data science interview', 'what is the mathematical background needed to be a data scientist ', 'how many rounds of interview are in a data science interview ', 'how proficient a data scientist has to be in coding']\n"
          ],
          "name": "stdout"
        }
      ]
    },
    {
      "cell_type": "code",
      "metadata": {
        "id": "meR8o9rQiq1j",
        "outputId": "1a9bb62a-0509-4c3b-b139-c65a9a1333d2",
        "colab": {
          "base_uri": "https://localhost:8080/"
        }
      },
      "source": [
        "import numpy\n",
        "import pprint\n",
        "\n",
        "sentences_test=cleaned_sentences_test\n",
        "\n",
        "\n",
        "# Split it by white space \n",
        "sentence_words_test = [[word for word in document.split() ]\n",
        "         for document in sentences_test]\n",
        "\n",
        "from gensim import corpora\n",
        "\n",
        "dictionary_test = corpora.Dictionary(sentence_words_test)\n",
        "\n",
        "for key, value in dictionary_test.items():\n",
        "    print(key, ' : ', value)\n",
        "\n",
        "\n",
        "bow_corpus_test = [dictionary_test.doc2bow(text) for text in sentence_words_test]\n",
        "\n",
        "for sent,embedding in zip(sentences_test,bow_corpus_test):\n",
        "    print(sent)\n",
        "    print(embedding)\n",
        "\n"
      ],
      "execution_count": 35,
      "outputs": [
        {
          "output_type": "stream",
          "text": [
            "0  :  experience\n",
            "1  :  how\n",
            "2  :  is\n",
            "3  :  job\n",
            "4  :  nowadays\n",
            "5  :  searching\n",
            "6  :  the\n",
            "7  :  are\n",
            "8  :  ds\n",
            "9  :  jobs\n",
            "10  :  market\n",
            "11  :  on\n",
            "12  :  please\n",
            "13  :  covid\n",
            "14  :  due\n",
            "15  :  hiring\n",
            "16  :  impacted\n",
            "17  :  to\n",
            "18  :  a\n",
            "19  :  and\n",
            "20  :  attributes\n",
            "21  :  data\n",
            "22  :  do\n",
            "23  :  employers\n",
            "24  :  for\n",
            "25  :  in\n",
            "26  :  look\n",
            "27  :  qualifications\n",
            "28  :  scientist\n",
            "29  :  what\n",
            "30  :  advanced\n",
            "31  :  an\n",
            "32  :  degree\n",
            "33  :  looking\n",
            "34  :  ml\n",
            "35  :  day\n",
            "36  :  does\n",
            "37  :  typical\n",
            "38  :  algorithms\n",
            "39  :  interview\n",
            "40  :  need\n",
            "41  :  science\n",
            "42  :  study\n",
            "43  :  we\n",
            "44  :  background\n",
            "45  :  be\n",
            "46  :  mathematical\n",
            "47  :  needed\n",
            "48  :  many\n",
            "49  :  of\n",
            "50  :  rounds\n",
            "51  :  coding\n",
            "52  :  has\n",
            "53  :  proficient\n",
            "how is the job searching experience nowadays\n",
            "[(0, 1), (1, 1), (2, 1), (3, 1), (4, 1), (5, 1), (6, 1)]\n",
            "how are the ds jobs on the market please\n",
            "[(1, 1), (6, 2), (7, 1), (8, 1), (9, 1), (10, 1), (11, 1), (12, 1)]\n",
            "how is ds hiring impacted due to covid\n",
            "[(1, 1), (2, 1), (8, 1), (13, 1), (14, 1), (15, 1), (16, 1), (17, 1)]\n",
            "in a data scientist what qualifications and attributes do employers look for\n",
            "[(18, 1), (19, 1), (20, 1), (21, 1), (22, 1), (23, 1), (24, 1), (25, 1), (26, 1), (27, 1), (28, 1), (29, 1)]\n",
            "are employers looking for an advanced ml degree\n",
            "[(7, 1), (23, 1), (24, 1), (30, 1), (31, 1), (32, 1), (33, 1), (34, 1)]\n",
            "on a typical day what does a data scientist do\n",
            "[(11, 1), (18, 2), (21, 1), (22, 1), (28, 1), (29, 1), (35, 1), (36, 1), (37, 1)]\n",
            "do we need to study algorithms for a data science interview\n",
            "[(17, 1), (18, 1), (21, 1), (22, 1), (24, 1), (38, 1), (39, 1), (40, 1), (41, 1), (42, 1), (43, 1)]\n",
            "what is the mathematical background needed to be a data scientist \n",
            "[(2, 1), (6, 1), (17, 1), (18, 1), (21, 1), (28, 1), (29, 1), (44, 1), (45, 1), (46, 1), (47, 1)]\n",
            "how many rounds of interview are in a data science interview \n",
            "[(1, 1), (7, 1), (18, 1), (21, 1), (25, 1), (39, 2), (41, 1), (48, 1), (49, 1), (50, 1)]\n",
            "how proficient a data scientist has to be in coding\n",
            "[(1, 1), (17, 1), (18, 1), (21, 1), (25, 1), (28, 1), (45, 1), (51, 1), (52, 1), (53, 1)]\n"
          ],
          "name": "stdout"
        }
      ]
    },
    {
      "cell_type": "code",
      "metadata": {
        "id": "qPtRL7zxYzKo",
        "outputId": "d1973885-c0b6-431e-aa82-ac50d30eb64a",
        "colab": {
          "base_uri": "https://localhost:8080/"
        }
      },
      "source": [
        "import sklearn\n",
        "from sklearn.metrics.pairwise import cosine_similarity;\n",
        "def retrieveAndPrintFAQAnswer(question_embeddings_test,sentence_embeddings,FAQdf,sentences,FAQdf_test,sentences_test):\n",
        "  for index_test,faq_embedding_test in enumerate(question_embeddings_test):\n",
        "    max_sim=-1;\n",
        "    index_sim=-1;\n",
        "    for index,faq_embedding in enumerate(sentence_embeddings):\n",
        "        \n",
        "      sim=cosine_similarity(faq_embedding,faq_embedding_test)[0][0];\n",
        "      #print(index, sim, sentences[index])\n",
        "      if sim>max_sim:\n",
        "        max_sim=sim;\n",
        "        index_sim=index;\n",
        "\n",
        "    FAQdf_test.iloc[index_test,2]=FAQdf.iloc[index_sim,2]\n",
        "    FAQdf_test.iloc[index_test,5]=FAQdf.iloc[index_sim,0]\n",
        "    print(\"\\n\")\n",
        "    print(\"Question: \",sentences_test[index_test])\n",
        "    print(\"\\n\");\n",
        "    print(\"Retrieved: \",FAQdf.iloc[index_sim,0]) \n",
        "    print(\"Answer:\",FAQdf.iloc[index_sim,1])        \n",
        "  df_test=FAQdf_test \n",
        "retrieveAndPrintFAQAnswer(bow_corpus_test,bow_corpus,df,sentences,df_test,sentences_test);"
      ],
      "execution_count": 36,
      "outputs": [
        {
          "output_type": "stream",
          "text": [
            "\n",
            "\n",
            "Question:  how is the job searching experience nowadays\n",
            "\n",
            "\n",
            "Retrieved:  What does the job hunting experience look like ?\n",
            "Answer: Job hunting experience involves networking to get in touch with the right people in various companies, applying to lots of jobs through various channels, preparing for interviews – while interviews are uncertain it is necessary to prepare well what you CAN prepare, smart scheduling of interviews to get the best job and salary you can.\n",
            "\n",
            "\n",
            "Question:  how are the ds jobs on the market please\n",
            "\n",
            "\n",
            "Retrieved:  Any insights you can offer about the DS job market ?\n",
            "Answer: There are many kinds of roles, data scientist, analyst, data engineer and so on. There are many levels of companies. In smaller companies the roles are usually combined into one while in larger companies there are more nuanced roles. Since more and more companies are just getting started on their data journey, the overall demand is expected to increase in the next few years.\n",
            "\n",
            "\n",
            "Question:  how is ds hiring impacted due to covid\n",
            "\n",
            "\n",
            "Retrieved:  Any insights you can offer about the DS job market ?\n",
            "Answer: There are many kinds of roles, data scientist, analyst, data engineer and so on. There are many levels of companies. In smaller companies the roles are usually combined into one while in larger companies there are more nuanced roles. Since more and more companies are just getting started on their data journey, the overall demand is expected to increase in the next few years.\n",
            "\n",
            "\n",
            "Question:  in a data scientist what qualifications and attributes do employers look for\n",
            "\n",
            "\n",
            "Retrieved:  Is preparation of algorithms and data structures needed for a data science interview ?\n",
            "Answer: Yes. In many data science interviews (ML Scientist, data scientist, ML Engineer, Data engineer) there is a coding round and an algorithms round. So preparing algorithms and data structures is necessary. Some of the Analyst interviews, such as a data analyst and a business analyst might not have an algorithms and data structures round.\n",
            "\n",
            "\n",
            "Question:  are employers looking for an advanced ml degree\n",
            "\n",
            "\n",
            "Retrieved:  What level of proficiency is needed for a data scientist in coding?\n",
            "Answer: Needs to be reasonably proficient. Again, a data scientist is a developer ++. Usually expected to have the basic skills a developer has including understanding algorithms and data structures and being able to write clean, understable, efficient, well documented code.\n",
            "\n",
            "In many cases, the data scientist is expected to write production ready code and be able to understand the deployment process. In some cases, the coding could be for decision support.\n",
            "\n",
            "\n",
            "Question:  on a typical day what does a data scientist do\n",
            "\n",
            "\n",
            "Retrieved:  Is preparation of algorithms and data structures needed for a data science interview ?\n",
            "Answer: Yes. In many data science interviews (ML Scientist, data scientist, ML Engineer, Data engineer) there is a coding round and an algorithms round. So preparing algorithms and data structures is necessary. Some of the Analyst interviews, such as a data analyst and a business analyst might not have an algorithms and data structures round.\n",
            "\n",
            "\n",
            "Question:  do we need to study algorithms for a data science interview\n",
            "\n",
            "\n",
            "Retrieved:  Is preparation of algorithms and data structures needed for a data science interview ?\n",
            "Answer: Yes. In many data science interviews (ML Scientist, data scientist, ML Engineer, Data engineer) there is a coding round and an algorithms round. So preparing algorithms and data structures is necessary. Some of the Analyst interviews, such as a data analyst and a business analyst might not have an algorithms and data structures round.\n",
            "\n",
            "\n",
            "Question:  what is the mathematical background needed to be a data scientist \n",
            "\n",
            "\n",
            "Retrieved:  Any insights you can offer about the DS job market ?\n",
            "Answer: There are many kinds of roles, data scientist, analyst, data engineer and so on. There are many levels of companies. In smaller companies the roles are usually combined into one while in larger companies there are more nuanced roles. Since more and more companies are just getting started on their data journey, the overall demand is expected to increase in the next few years.\n",
            "\n",
            "\n",
            "Question:  how many rounds of interview are in a data science interview \n",
            "\n",
            "\n",
            "Retrieved:  Any insights you can offer about the DS job market ?\n",
            "Answer: There are many kinds of roles, data scientist, analyst, data engineer and so on. There are many levels of companies. In smaller companies the roles are usually combined into one while in larger companies there are more nuanced roles. Since more and more companies are just getting started on their data journey, the overall demand is expected to increase in the next few years.\n",
            "\n",
            "\n",
            "Question:  how proficient a data scientist has to be in coding\n",
            "\n",
            "\n",
            "Retrieved:  Any insights you can offer about the DS job market ?\n",
            "Answer: There are many kinds of roles, data scientist, analyst, data engineer and so on. There are many levels of companies. In smaller companies the roles are usually combined into one while in larger companies there are more nuanced roles. Since more and more companies are just getting started on their data journey, the overall demand is expected to increase in the next few years.\n"
          ],
          "name": "stdout"
        }
      ]
    },
    {
      "cell_type": "code",
      "metadata": {
        "id": "imvmUsvYAtXD",
        "outputId": "69b657b3-e32a-4328-807c-36ed073e1a25",
        "colab": {
          "base_uri": "https://localhost:8080/",
          "height": 0
        }
      },
      "source": [
        "df_test"
      ],
      "execution_count": 37,
      "outputs": [
        {
          "output_type": "execute_result",
          "data": {
            "text/html": [
              "<div>\n",
              "<style scoped>\n",
              "    .dataframe tbody tr th:only-of-type {\n",
              "        vertical-align: middle;\n",
              "    }\n",
              "\n",
              "    .dataframe tbody tr th {\n",
              "        vertical-align: top;\n",
              "    }\n",
              "\n",
              "    .dataframe thead th {\n",
              "        text-align: right;\n",
              "    }\n",
              "</style>\n",
              "<table border=\"1\" class=\"dataframe\">\n",
              "  <thead>\n",
              "    <tr style=\"text-align: right;\">\n",
              "      <th></th>\n",
              "      <th>questions</th>\n",
              "      <th>ActualCode</th>\n",
              "      <th>PredictedCode</th>\n",
              "      <th>Prediction?</th>\n",
              "      <th>ActualQuestion</th>\n",
              "      <th>PredictedQuestion</th>\n",
              "    </tr>\n",
              "  </thead>\n",
              "  <tbody>\n",
              "    <tr>\n",
              "      <th>0</th>\n",
              "      <td>How is the job searching experience nowadays?</td>\n",
              "      <td>1</td>\n",
              "      <td>1.0</td>\n",
              "      <td>NaN</td>\n",
              "      <td>What does the job hunting experience look like ?</td>\n",
              "      <td>What does the job hunting experience look like ?</td>\n",
              "    </tr>\n",
              "    <tr>\n",
              "      <th>1</th>\n",
              "      <td>How are the DS jobs on the market, please?</td>\n",
              "      <td>2</td>\n",
              "      <td>2.0</td>\n",
              "      <td>NaN</td>\n",
              "      <td>Any insights you can offer about the DS job ma...</td>\n",
              "      <td>Any insights you can offer about the DS job ma...</td>\n",
              "    </tr>\n",
              "    <tr>\n",
              "      <th>2</th>\n",
              "      <td>How is DS hiring impacted due to Covid?</td>\n",
              "      <td>3</td>\n",
              "      <td>2.0</td>\n",
              "      <td>NaN</td>\n",
              "      <td>What's the impact of Covid on hiring for DS ro...</td>\n",
              "      <td>Any insights you can offer about the DS job ma...</td>\n",
              "    </tr>\n",
              "    <tr>\n",
              "      <th>3</th>\n",
              "      <td>In a data scientist what qualifications and at...</td>\n",
              "      <td>4</td>\n",
              "      <td>7.0</td>\n",
              "      <td>NaN</td>\n",
              "      <td>What skills and qualities do employers look fo...</td>\n",
              "      <td>Is preparation of algorithms and data structur...</td>\n",
              "    </tr>\n",
              "    <tr>\n",
              "      <th>4</th>\n",
              "      <td>Are employers looking for an advanced ML degree?</td>\n",
              "      <td>5</td>\n",
              "      <td>10.0</td>\n",
              "      <td>NaN</td>\n",
              "      <td>Do employers look for an advanced ML degree?</td>\n",
              "      <td>What level of proficiency is needed for a data...</td>\n",
              "    </tr>\n",
              "    <tr>\n",
              "      <th>5</th>\n",
              "      <td>On a typical day what does a data scientist do?</td>\n",
              "      <td>6</td>\n",
              "      <td>7.0</td>\n",
              "      <td>NaN</td>\n",
              "      <td>How does a typical day of a data scientist loo...</td>\n",
              "      <td>Is preparation of algorithms and data structur...</td>\n",
              "    </tr>\n",
              "    <tr>\n",
              "      <th>6</th>\n",
              "      <td>Do we need to study algorithms for a data scie...</td>\n",
              "      <td>7</td>\n",
              "      <td>7.0</td>\n",
              "      <td>NaN</td>\n",
              "      <td>Is preparation of algorithms and data structur...</td>\n",
              "      <td>Is preparation of algorithms and data structur...</td>\n",
              "    </tr>\n",
              "    <tr>\n",
              "      <th>7</th>\n",
              "      <td>What is the mathematical background needed to ...</td>\n",
              "      <td>8</td>\n",
              "      <td>2.0</td>\n",
              "      <td>NaN</td>\n",
              "      <td>What is the mathematical background required t...</td>\n",
              "      <td>Any insights you can offer about the DS job ma...</td>\n",
              "    </tr>\n",
              "    <tr>\n",
              "      <th>8</th>\n",
              "      <td>How many rounds of interview are in a data sc...</td>\n",
              "      <td>9</td>\n",
              "      <td>2.0</td>\n",
              "      <td>NaN</td>\n",
              "      <td>What are the various rounds in a data scientis...</td>\n",
              "      <td>Any insights you can offer about the DS job ma...</td>\n",
              "    </tr>\n",
              "    <tr>\n",
              "      <th>9</th>\n",
              "      <td>How proficient a data scientist has to be in c...</td>\n",
              "      <td>10</td>\n",
              "      <td>2.0</td>\n",
              "      <td>NaN</td>\n",
              "      <td>What level of proficiency is needed for a data...</td>\n",
              "      <td>Any insights you can offer about the DS job ma...</td>\n",
              "    </tr>\n",
              "  </tbody>\n",
              "</table>\n",
              "</div>"
            ],
            "text/plain": [
              "                                           questions  ...                                  PredictedQuestion\n",
              "0      How is the job searching experience nowadays?  ...   What does the job hunting experience look like ?\n",
              "1         How are the DS jobs on the market, please?  ...  Any insights you can offer about the DS job ma...\n",
              "2            How is DS hiring impacted due to Covid?  ...  Any insights you can offer about the DS job ma...\n",
              "3  In a data scientist what qualifications and at...  ...  Is preparation of algorithms and data structur...\n",
              "4   Are employers looking for an advanced ML degree?  ...  What level of proficiency is needed for a data...\n",
              "5    On a typical day what does a data scientist do?  ...  Is preparation of algorithms and data structur...\n",
              "6  Do we need to study algorithms for a data scie...  ...  Is preparation of algorithms and data structur...\n",
              "7  What is the mathematical background needed to ...  ...  Any insights you can offer about the DS job ma...\n",
              "8   How many rounds of interview are in a data sc...  ...  Any insights you can offer about the DS job ma...\n",
              "9  How proficient a data scientist has to be in c...  ...  Any insights you can offer about the DS job ma...\n",
              "\n",
              "[10 rows x 6 columns]"
            ]
          },
          "metadata": {
            "tags": []
          },
          "execution_count": 37
        }
      ]
    },
    {
      "cell_type": "code",
      "metadata": {
        "id": "rRY-ZptdB5v3"
      },
      "source": [
        "for i in range(df_test.shape[0]):\n",
        " if df_test.iloc[i,1]!=df_test.iloc[i,2]:\n",
        "   df_test.iloc[i,3]='InCorrect'\n",
        " else:\n",
        "   df_test.iloc[i,3]='correct'\n"
      ],
      "execution_count": 38,
      "outputs": []
    },
    {
      "cell_type": "code",
      "metadata": {
        "id": "GyzH7u71Cqy9",
        "outputId": "91882fb9-19b4-4a25-c290-f85e7a485341",
        "colab": {
          "base_uri": "https://localhost:8080/",
          "height": 0
        }
      },
      "source": [
        "df_test"
      ],
      "execution_count": 39,
      "outputs": [
        {
          "output_type": "execute_result",
          "data": {
            "text/html": [
              "<div>\n",
              "<style scoped>\n",
              "    .dataframe tbody tr th:only-of-type {\n",
              "        vertical-align: middle;\n",
              "    }\n",
              "\n",
              "    .dataframe tbody tr th {\n",
              "        vertical-align: top;\n",
              "    }\n",
              "\n",
              "    .dataframe thead th {\n",
              "        text-align: right;\n",
              "    }\n",
              "</style>\n",
              "<table border=\"1\" class=\"dataframe\">\n",
              "  <thead>\n",
              "    <tr style=\"text-align: right;\">\n",
              "      <th></th>\n",
              "      <th>questions</th>\n",
              "      <th>ActualCode</th>\n",
              "      <th>PredictedCode</th>\n",
              "      <th>Prediction?</th>\n",
              "      <th>ActualQuestion</th>\n",
              "      <th>PredictedQuestion</th>\n",
              "    </tr>\n",
              "  </thead>\n",
              "  <tbody>\n",
              "    <tr>\n",
              "      <th>0</th>\n",
              "      <td>How is the job searching experience nowadays?</td>\n",
              "      <td>1</td>\n",
              "      <td>1.0</td>\n",
              "      <td>correct</td>\n",
              "      <td>What does the job hunting experience look like ?</td>\n",
              "      <td>What does the job hunting experience look like ?</td>\n",
              "    </tr>\n",
              "    <tr>\n",
              "      <th>1</th>\n",
              "      <td>How are the DS jobs on the market, please?</td>\n",
              "      <td>2</td>\n",
              "      <td>2.0</td>\n",
              "      <td>correct</td>\n",
              "      <td>Any insights you can offer about the DS job ma...</td>\n",
              "      <td>Any insights you can offer about the DS job ma...</td>\n",
              "    </tr>\n",
              "    <tr>\n",
              "      <th>2</th>\n",
              "      <td>How is DS hiring impacted due to Covid?</td>\n",
              "      <td>3</td>\n",
              "      <td>2.0</td>\n",
              "      <td>InCorrect</td>\n",
              "      <td>What's the impact of Covid on hiring for DS ro...</td>\n",
              "      <td>Any insights you can offer about the DS job ma...</td>\n",
              "    </tr>\n",
              "    <tr>\n",
              "      <th>3</th>\n",
              "      <td>In a data scientist what qualifications and at...</td>\n",
              "      <td>4</td>\n",
              "      <td>7.0</td>\n",
              "      <td>InCorrect</td>\n",
              "      <td>What skills and qualities do employers look fo...</td>\n",
              "      <td>Is preparation of algorithms and data structur...</td>\n",
              "    </tr>\n",
              "    <tr>\n",
              "      <th>4</th>\n",
              "      <td>Are employers looking for an advanced ML degree?</td>\n",
              "      <td>5</td>\n",
              "      <td>10.0</td>\n",
              "      <td>InCorrect</td>\n",
              "      <td>Do employers look for an advanced ML degree?</td>\n",
              "      <td>What level of proficiency is needed for a data...</td>\n",
              "    </tr>\n",
              "    <tr>\n",
              "      <th>5</th>\n",
              "      <td>On a typical day what does a data scientist do?</td>\n",
              "      <td>6</td>\n",
              "      <td>7.0</td>\n",
              "      <td>InCorrect</td>\n",
              "      <td>How does a typical day of a data scientist loo...</td>\n",
              "      <td>Is preparation of algorithms and data structur...</td>\n",
              "    </tr>\n",
              "    <tr>\n",
              "      <th>6</th>\n",
              "      <td>Do we need to study algorithms for a data scie...</td>\n",
              "      <td>7</td>\n",
              "      <td>7.0</td>\n",
              "      <td>correct</td>\n",
              "      <td>Is preparation of algorithms and data structur...</td>\n",
              "      <td>Is preparation of algorithms and data structur...</td>\n",
              "    </tr>\n",
              "    <tr>\n",
              "      <th>7</th>\n",
              "      <td>What is the mathematical background needed to ...</td>\n",
              "      <td>8</td>\n",
              "      <td>2.0</td>\n",
              "      <td>InCorrect</td>\n",
              "      <td>What is the mathematical background required t...</td>\n",
              "      <td>Any insights you can offer about the DS job ma...</td>\n",
              "    </tr>\n",
              "    <tr>\n",
              "      <th>8</th>\n",
              "      <td>How many rounds of interview are in a data sc...</td>\n",
              "      <td>9</td>\n",
              "      <td>2.0</td>\n",
              "      <td>InCorrect</td>\n",
              "      <td>What are the various rounds in a data scientis...</td>\n",
              "      <td>Any insights you can offer about the DS job ma...</td>\n",
              "    </tr>\n",
              "    <tr>\n",
              "      <th>9</th>\n",
              "      <td>How proficient a data scientist has to be in c...</td>\n",
              "      <td>10</td>\n",
              "      <td>2.0</td>\n",
              "      <td>InCorrect</td>\n",
              "      <td>What level of proficiency is needed for a data...</td>\n",
              "      <td>Any insights you can offer about the DS job ma...</td>\n",
              "    </tr>\n",
              "  </tbody>\n",
              "</table>\n",
              "</div>"
            ],
            "text/plain": [
              "                                           questions  ...                                  PredictedQuestion\n",
              "0      How is the job searching experience nowadays?  ...   What does the job hunting experience look like ?\n",
              "1         How are the DS jobs on the market, please?  ...  Any insights you can offer about the DS job ma...\n",
              "2            How is DS hiring impacted due to Covid?  ...  Any insights you can offer about the DS job ma...\n",
              "3  In a data scientist what qualifications and at...  ...  Is preparation of algorithms and data structur...\n",
              "4   Are employers looking for an advanced ML degree?  ...  What level of proficiency is needed for a data...\n",
              "5    On a typical day what does a data scientist do?  ...  Is preparation of algorithms and data structur...\n",
              "6  Do we need to study algorithms for a data scie...  ...  Is preparation of algorithms and data structur...\n",
              "7  What is the mathematical background needed to ...  ...  Any insights you can offer about the DS job ma...\n",
              "8   How many rounds of interview are in a data sc...  ...  Any insights you can offer about the DS job ma...\n",
              "9  How proficient a data scientist has to be in c...  ...  Any insights you can offer about the DS job ma...\n",
              "\n",
              "[10 rows x 6 columns]"
            ]
          },
          "metadata": {
            "tags": []
          },
          "execution_count": 39
        }
      ]
    },
    {
      "cell_type": "code",
      "metadata": {
        "id": "6biujAFNF4ni"
      },
      "source": [
        "list_data_answers=df_test.ActualCode.values.tolist()\n",
        "list_data_FoundCode=df_test.PredictedCode.values.tolist()"
      ],
      "execution_count": 40,
      "outputs": []
    },
    {
      "cell_type": "code",
      "metadata": {
        "id": "Trf13DYVG4qY",
        "outputId": "e80f96d9-99fa-4360-80a3-1443f45e3060",
        "colab": {
          "base_uri": "https://localhost:8080/"
        }
      },
      "source": [
        "list_data_FoundCode"
      ],
      "execution_count": 41,
      "outputs": [
        {
          "output_type": "execute_result",
          "data": {
            "text/plain": [
              "[1.0, 2.0, 2.0, 7.0, 10.0, 7.0, 7.0, 2.0, 2.0, 2.0]"
            ]
          },
          "metadata": {
            "tags": []
          },
          "execution_count": 41
        }
      ]
    },
    {
      "cell_type": "code",
      "metadata": {
        "id": "dwKLskBBEPZQ",
        "outputId": "2e006742-59a3-417c-8268-86faed24b0b7",
        "colab": {
          "base_uri": "https://localhost:8080/"
        }
      },
      "source": [
        "from sklearn.metrics import multilabel_confusion_matrix\n",
        "from sklearn import metrics\n",
        "multilabel_confusion_matrix(list_data_answers, list_data_FoundCode)\n",
        "#tn, fp, fn, tp = confusion_matrix([1, 2, 3, 4, 5, 6, 7, 8, 9, 10], [1.0, 2.0, 2.0, 10.0, 4.0, 1.0, 2.0, 1.0, 2.0, 2.0]).ravel()\n",
        "#print(metrics.classification_report(list_data_answers, list_data_FoundCode))"
      ],
      "execution_count": 42,
      "outputs": [
        {
          "output_type": "execute_result",
          "data": {
            "text/plain": [
              "array([[[9, 0],\n",
              "        [0, 1]],\n",
              "\n",
              "       [[5, 4],\n",
              "        [0, 1]],\n",
              "\n",
              "       [[9, 0],\n",
              "        [1, 0]],\n",
              "\n",
              "       [[9, 0],\n",
              "        [1, 0]],\n",
              "\n",
              "       [[9, 0],\n",
              "        [1, 0]],\n",
              "\n",
              "       [[9, 0],\n",
              "        [1, 0]],\n",
              "\n",
              "       [[7, 2],\n",
              "        [0, 1]],\n",
              "\n",
              "       [[9, 0],\n",
              "        [1, 0]],\n",
              "\n",
              "       [[9, 0],\n",
              "        [1, 0]],\n",
              "\n",
              "       [[8, 1],\n",
              "        [1, 0]]])"
            ]
          },
          "metadata": {
            "tags": []
          },
          "execution_count": 42
        }
      ]
    },
    {
      "cell_type": "code",
      "metadata": {
        "id": "8n-CsySMN_3W"
      },
      "source": [
        "import matplotlib.pyplot as plt\n",
        "from mlxtend.evaluate import confusion_matrix\n",
        "\n",
        "\n",
        "cm = confusion_matrix(list_data_answers, list_data_FoundCode, binary=False)"
      ],
      "execution_count": 43,
      "outputs": []
    },
    {
      "cell_type": "code",
      "metadata": {
        "id": "SvALN4xxOQxR",
        "outputId": "2579a3ee-6932-41c2-c309-4c90648a447d",
        "colab": {
          "base_uri": "https://localhost:8080/",
          "height": 0
        }
      },
      "source": [
        "import matplotlib.pyplot as plt\n",
        "from mlxtend.evaluate import confusion_matrix\n",
        "from mlxtend.plotting import plot_confusion_matrix\n",
        "fig, ax = plot_confusion_matrix(conf_mat=cm)\n",
        "plt.show()"
      ],
      "execution_count": 44,
      "outputs": [
        {
          "output_type": "display_data",
          "data": {
            "image/png": "[encoded data removed]",
            "text/plain": [
              "<Figure size 432x288 with 1 Axes>"
            ]
          },
          "metadata": {
            "tags": [],
            "needs_background": "light"
          }
        }
      ]
    },
    {
      "cell_type": "code",
      "metadata": {
        "id": "0WRAMnPlTAlC",
        "outputId": "1c2d4e5c-cdd7-4736-dc90-a3eb8b98bcef",
        "colab": {
          "base_uri": "https://localhost:8080/"
        }
      },
      "source": [
        "print(metrics.classification_report(list_data_answers, list_data_FoundCode))"
      ],
      "execution_count": 45,
      "outputs": [
        {
          "output_type": "stream",
          "text": [
            "              precision    recall  f1-score   support\n",
            "\n",
            "           1       1.00      1.00      1.00         1\n",
            "           2       0.20      1.00      0.33         1\n",
            "           3       0.00      0.00      0.00         1\n",
            "           4       0.00      0.00      0.00         1\n",
            "           5       0.00      0.00      0.00         1\n",
            "           6       0.00      0.00      0.00         1\n",
            "           7       0.33      1.00      0.50         1\n",
            "           8       0.00      0.00      0.00         1\n",
            "           9       0.00      0.00      0.00         1\n",
            "          10       0.00      0.00      0.00         1\n",
            "\n",
            "    accuracy                           0.30        10\n",
            "   macro avg       0.15      0.30      0.18        10\n",
            "weighted avg       0.15      0.30      0.18        10\n",
            "\n"
          ],
          "name": "stdout"
        },
        {
          "output_type": "stream",
          "text": [
            "/usr/local/lib/python3.6/dist-packages/sklearn/metrics/_classification.py:1272: UndefinedMetricWarning: Precision and F-score are ill-defined and being set to 0.0 in labels with no predicted samples. Use `zero_division` parameter to control this behavior.\n",
            "  _warn_prf(average, modifier, msg_start, len(result))\n"
          ],
          "name": "stderr"
        }
      ]
    },
    {
      "cell_type": "markdown",
      "metadata": {
        "id": "8F1ggUkfZI1i"
      },
      "source": [
        "#Dataset2-Medium"
      ]
    },
    {
      "cell_type": "markdown",
      "metadata": {
        "id": "9ooIdohvZI1j"
      },
      "source": [
        "## Importing Data"
      ]
    },
    {
      "cell_type": "code",
      "metadata": {
        "id": "vrCBfUqVZI1k",
        "outputId": "6d47787c-8a3b-44b7-8ce1-13185ee75952",
        "colab": {
          "base_uri": "https://localhost:8080/",
          "height": 0
        }
      },
      "source": [
        "import pandas as pd;\n",
        "#Loading dataset and renaming columns\n",
        "\n",
        "df=pd.read_csv(\"FAQ_standard.csv\");\n",
        "df.columns=[\"questions\",\"answers\",\"AnswerCode\"];\n",
        "\n",
        "df"
      ],
      "execution_count": 46,
      "outputs": [
        {
          "output_type": "execute_result",
          "data": {
            "text/html": [
              "<div>\n",
              "<style scoped>\n",
              "    .dataframe tbody tr th:only-of-type {\n",
              "        vertical-align: middle;\n",
              "    }\n",
              "\n",
              "    .dataframe tbody tr th {\n",
              "        vertical-align: top;\n",
              "    }\n",
              "\n",
              "    .dataframe thead th {\n",
              "        text-align: right;\n",
              "    }\n",
              "</style>\n",
              "<table border=\"1\" class=\"dataframe\">\n",
              "  <thead>\n",
              "    <tr style=\"text-align: right;\">\n",
              "      <th></th>\n",
              "      <th>questions</th>\n",
              "      <th>answers</th>\n",
              "      <th>AnswerCode</th>\n",
              "    </tr>\n",
              "  </thead>\n",
              "  <tbody>\n",
              "    <tr>\n",
              "      <th>0</th>\n",
              "      <td>What does the job hunting experience look like ?</td>\n",
              "      <td>Job hunting experience involves networking to ...</td>\n",
              "      <td>1</td>\n",
              "    </tr>\n",
              "    <tr>\n",
              "      <th>1</th>\n",
              "      <td>Any insights you can offer about the DS job ma...</td>\n",
              "      <td>There are many kinds of roles, data scientist,...</td>\n",
              "      <td>2</td>\n",
              "    </tr>\n",
              "    <tr>\n",
              "      <th>2</th>\n",
              "      <td>What's the impact of Covid on hiring for DS ro...</td>\n",
              "      <td>Hiring is going to slow down. First in small c...</td>\n",
              "      <td>3</td>\n",
              "    </tr>\n",
              "    <tr>\n",
              "      <th>3</th>\n",
              "      <td>What skills and qualities do employers look fo...</td>\n",
              "      <td>The following are some skills employers usuall...</td>\n",
              "      <td>4</td>\n",
              "    </tr>\n",
              "    <tr>\n",
              "      <th>4</th>\n",
              "      <td>Do employers look for an advanced ML degree?</td>\n",
              "      <td>For more senior roles: People typically look f...</td>\n",
              "      <td>5</td>\n",
              "    </tr>\n",
              "    <tr>\n",
              "      <th>5</th>\n",
              "      <td>How does a typical day of a data scientist loo...</td>\n",
              "      <td>Here are some tasks in the typical day of a da...</td>\n",
              "      <td>6</td>\n",
              "    </tr>\n",
              "    <tr>\n",
              "      <th>6</th>\n",
              "      <td>Is preparation of algorithms and data structur...</td>\n",
              "      <td>Yes. In many data science interviews (ML Scien...</td>\n",
              "      <td>7</td>\n",
              "    </tr>\n",
              "    <tr>\n",
              "      <th>7</th>\n",
              "      <td>What is the mathematical background required t...</td>\n",
              "      <td>The following three are the basic building blo...</td>\n",
              "      <td>8</td>\n",
              "    </tr>\n",
              "    <tr>\n",
              "      <th>8</th>\n",
              "      <td>What are the various rounds in a data scientis...</td>\n",
              "      <td>Usually the data science interview has a subse...</td>\n",
              "      <td>9</td>\n",
              "    </tr>\n",
              "    <tr>\n",
              "      <th>9</th>\n",
              "      <td>What level of proficiency is needed for a data...</td>\n",
              "      <td>Needs to be reasonably proficient. Again, a da...</td>\n",
              "      <td>10</td>\n",
              "    </tr>\n",
              "  </tbody>\n",
              "</table>\n",
              "</div>"
            ],
            "text/plain": [
              "                                           questions  ... AnswerCode\n",
              "0   What does the job hunting experience look like ?  ...          1\n",
              "1  Any insights you can offer about the DS job ma...  ...          2\n",
              "2  What's the impact of Covid on hiring for DS ro...  ...          3\n",
              "3  What skills and qualities do employers look fo...  ...          4\n",
              "4       Do employers look for an advanced ML degree?  ...          5\n",
              "5  How does a typical day of a data scientist loo...  ...          6\n",
              "6  Is preparation of algorithms and data structur...  ...          7\n",
              "7  What is the mathematical background required t...  ...          8\n",
              "8  What are the various rounds in a data scientis...  ...          9\n",
              "9  What level of proficiency is needed for a data...  ...         10\n",
              "\n",
              "[10 rows x 3 columns]"
            ]
          },
          "metadata": {
            "tags": []
          },
          "execution_count": 46
        }
      ]
    },
    {
      "cell_type": "code",
      "metadata": {
        "id": "2i24jCTjZI1o",
        "outputId": "1eec2893-9836-4d6c-d125-a6ecf0901d81",
        "colab": {
          "base_uri": "https://localhost:8080/",
          "height": 0
        }
      },
      "source": [
        "import pandas as pd;\n",
        "\n",
        "#Load dataset and rename columns \n",
        "\n",
        "df_test=pd.read_excel(\"FAQ_test_Medium.xlsx\")\n",
        "df_test.columns=[\"questions\",\"ActualCode\",\"PredictedCode\",\"Prediction?\",\"ActualQuestion\",\"PredictedQuestion\"]\n",
        "\n",
        "df_test"
      ],
      "execution_count": 47,
      "outputs": [
        {
          "output_type": "execute_result",
          "data": {
            "text/html": [
              "<div>\n",
              "<style scoped>\n",
              "    .dataframe tbody tr th:only-of-type {\n",
              "        vertical-align: middle;\n",
              "    }\n",
              "\n",
              "    .dataframe tbody tr th {\n",
              "        vertical-align: top;\n",
              "    }\n",
              "\n",
              "    .dataframe thead th {\n",
              "        text-align: right;\n",
              "    }\n",
              "</style>\n",
              "<table border=\"1\" class=\"dataframe\">\n",
              "  <thead>\n",
              "    <tr style=\"text-align: right;\">\n",
              "      <th></th>\n",
              "      <th>questions</th>\n",
              "      <th>ActualCode</th>\n",
              "      <th>PredictedCode</th>\n",
              "      <th>Prediction?</th>\n",
              "      <th>ActualQuestion</th>\n",
              "      <th>PredictedQuestion</th>\n",
              "    </tr>\n",
              "  </thead>\n",
              "  <tbody>\n",
              "    <tr>\n",
              "      <th>0</th>\n",
              "      <td>How does job searching experience would look?</td>\n",
              "      <td>1</td>\n",
              "      <td>NaN</td>\n",
              "      <td>NaN</td>\n",
              "      <td>What does the job hunting experience look like ?</td>\n",
              "      <td>NaN</td>\n",
              "    </tr>\n",
              "    <tr>\n",
              "      <th>1</th>\n",
              "      <td>Please provide how DS jobs are in the market?</td>\n",
              "      <td>2</td>\n",
              "      <td>NaN</td>\n",
              "      <td>NaN</td>\n",
              "      <td>Any insights you can offer about the DS job ma...</td>\n",
              "      <td>NaN</td>\n",
              "    </tr>\n",
              "    <tr>\n",
              "      <th>2</th>\n",
              "      <td>How has the Covid impacted DS hiring?</td>\n",
              "      <td>3</td>\n",
              "      <td>NaN</td>\n",
              "      <td>NaN</td>\n",
              "      <td>What's the impact of Covid on hiring for DS ro...</td>\n",
              "      <td>NaN</td>\n",
              "    </tr>\n",
              "    <tr>\n",
              "      <th>3</th>\n",
              "      <td>What skills do employers want from data scienc...</td>\n",
              "      <td>4</td>\n",
              "      <td>NaN</td>\n",
              "      <td>NaN</td>\n",
              "      <td>What skills and qualities do employers look fo...</td>\n",
              "      <td>NaN</td>\n",
              "    </tr>\n",
              "    <tr>\n",
              "      <th>4</th>\n",
              "      <td>Is advanced degree in ML required?</td>\n",
              "      <td>5</td>\n",
              "      <td>NaN</td>\n",
              "      <td>NaN</td>\n",
              "      <td>Do employers look for an advanced ML degree?</td>\n",
              "      <td>NaN</td>\n",
              "    </tr>\n",
              "    <tr>\n",
              "      <th>5</th>\n",
              "      <td>What data scientist do in a typical day?</td>\n",
              "      <td>6</td>\n",
              "      <td>NaN</td>\n",
              "      <td>NaN</td>\n",
              "      <td>How does a typical day of a data scientist loo...</td>\n",
              "      <td>NaN</td>\n",
              "    </tr>\n",
              "    <tr>\n",
              "      <th>6</th>\n",
              "      <td>For an interview in data science are we requir...</td>\n",
              "      <td>7</td>\n",
              "      <td>NaN</td>\n",
              "      <td>NaN</td>\n",
              "      <td>Is preparation of algorithms and data structur...</td>\n",
              "      <td>NaN</td>\n",
              "    </tr>\n",
              "    <tr>\n",
              "      <th>7</th>\n",
              "      <td>What is the mathematical background required t...</td>\n",
              "      <td>8</td>\n",
              "      <td>NaN</td>\n",
              "      <td>NaN</td>\n",
              "      <td>What is the mathematical background required t...</td>\n",
              "      <td>NaN</td>\n",
              "    </tr>\n",
              "    <tr>\n",
              "      <th>8</th>\n",
              "      <td>How many rounds of interview are required to c...</td>\n",
              "      <td>9</td>\n",
              "      <td>NaN</td>\n",
              "      <td>NaN</td>\n",
              "      <td>What are the various rounds in a data scientis...</td>\n",
              "      <td>NaN</td>\n",
              "    </tr>\n",
              "    <tr>\n",
              "      <th>9</th>\n",
              "      <td>How much proficient a data scientist should be...</td>\n",
              "      <td>10</td>\n",
              "      <td>NaN</td>\n",
              "      <td>NaN</td>\n",
              "      <td>What level of proficiency is needed for a data...</td>\n",
              "      <td>NaN</td>\n",
              "    </tr>\n",
              "  </tbody>\n",
              "</table>\n",
              "</div>"
            ],
            "text/plain": [
              "                                           questions  ...  PredictedQuestion\n",
              "0      How does job searching experience would look?  ...                NaN\n",
              "1      Please provide how DS jobs are in the market?  ...                NaN\n",
              "2              How has the Covid impacted DS hiring?  ...                NaN\n",
              "3  What skills do employers want from data scienc...  ...                NaN\n",
              "4                 Is advanced degree in ML required?  ...                NaN\n",
              "5           What data scientist do in a typical day?  ...                NaN\n",
              "6  For an interview in data science are we requir...  ...                NaN\n",
              "7  What is the mathematical background required t...  ...                NaN\n",
              "8  How many rounds of interview are required to c...  ...                NaN\n",
              "9  How much proficient a data scientist should be...  ...                NaN\n",
              "\n",
              "[10 rows x 6 columns]"
            ]
          },
          "metadata": {
            "tags": []
          },
          "execution_count": 47
        }
      ]
    },
    {
      "cell_type": "markdown",
      "metadata": {
        "id": "VGfT8-HXZI1r"
      },
      "source": [
        "##Data Processing"
      ]
    },
    {
      "cell_type": "code",
      "metadata": {
        "id": "oeOxqMimZI1r",
        "outputId": "9a7e4cc9-422a-4805-842f-7d1cd52456be",
        "colab": {
          "base_uri": "https://localhost:8080/"
        }
      },
      "source": [
        "import re\n",
        "import gensim \n",
        "from gensim.parsing.preprocessing import remove_stopwords\n",
        "\n",
        "\n",
        "def clean_sentence(sentence, stopwords=False):\n",
        "    \n",
        "    sentence = sentence.lower().strip()\n",
        "    sentence = re.sub(r'[^a-z0-9\\s]', '', sentence)\n",
        "\n",
        "    \n",
        "    if stopwords:\n",
        "         sentence = remove_stopwords(sentence)\n",
        "    \n",
        "    \n",
        "    return sentence\n",
        "                    \n",
        "def get_cleaned_sentences(tf,stopwords=False):    \n",
        "    sents=tf[[\"questions\"]];\n",
        "    cleaned_sentences=[]\n",
        "\n",
        "    for index,row in tf.iterrows():\n",
        "        #print(index,row)\n",
        "        cleaned=clean_sentence(row[\"questions\"],stopwords);\n",
        "        cleaned_sentences.append(cleaned);\n",
        "    return cleaned_sentences;\n",
        "\n",
        "cleaned_sentences=get_cleaned_sentences(df,stopwords=True)\n",
        "print(cleaned_sentences);\n",
        "\n",
        "print(\"\\n\")\n",
        "\n",
        "cleaned_sentences_with_stopwords=get_cleaned_sentences(df,stopwords=False)\n",
        "print(cleaned_sentences_with_stopwords);"
      ],
      "execution_count": 48,
      "outputs": [
        {
          "output_type": "stream",
          "text": [
            "['job hunting experience look like', 'insights offer ds job market', 'whats impact covid hiring ds roles', 'skills qualities employers look data scientist', 'employers look advanced ml degree', 'typical day data scientist look like', 'preparation algorithms data structures needed data science interview', 'mathematical background required data scientist', 'rounds data scientist interview', 'level proficiency needed data scientist coding']\n",
            "\n",
            "\n",
            "['what does the job hunting experience look like ', 'any insights you can offer about the ds job market ', 'whats the impact of covid on hiring for ds roles', 'what skills and qualities do employers look for in a data scientist', 'do employers look for an advanced ml degree', 'how does a typical day of a data scientist look like', 'is preparation of algorithms and data structures needed for a data science interview ', 'what is the mathematical background required to be a data scientist ', 'what are the various rounds in a data scientist interview ', 'what level of proficiency is needed for a data scientist in coding']\n"
          ],
          "name": "stdout"
        }
      ]
    },
    {
      "cell_type": "code",
      "metadata": {
        "id": "l59YzNmwZI1t",
        "outputId": "9a95f675-66c7-4f33-9e50-8e2352c95547",
        "colab": {
          "base_uri": "https://localhost:8080/"
        }
      },
      "source": [
        "print(cleaned_sentences_with_stopwords[0]);"
      ],
      "execution_count": 49,
      "outputs": [
        {
          "output_type": "stream",
          "text": [
            "what does the job hunting experience look like \n"
          ],
          "name": "stdout"
        }
      ]
    },
    {
      "cell_type": "markdown",
      "metadata": {
        "id": "_FNbmtTTZI1v"
      },
      "source": [
        "##Bag of Words Model"
      ]
    },
    {
      "cell_type": "code",
      "metadata": {
        "id": "-qA89UVhZI1v",
        "outputId": "26c3a5d1-8e29-478e-f9c1-87f0986bba1e",
        "colab": {
          "base_uri": "https://localhost:8080/",
          "height": 0
        }
      },
      "source": [
        "import numpy\n",
        "import pprint\n",
        "\n",
        "sentences=cleaned_sentences_with_stopwords\n",
        "\n",
        "\n",
        "# Split it by white space \n",
        "sentence_words = [[word for word in document.split() ]\n",
        "         for document in sentences]\n",
        "\n",
        "from gensim import corpora\n",
        "\n",
        "dictionary = corpora.Dictionary(sentence_words)\n",
        "'''\n",
        "for key, value in dictionary.items():\n",
        "    print(key, ' : ', value)\n",
        "'''\n",
        "\n",
        "bow_corpus = [dictionary.doc2bow(text) for text in sentence_words]\n",
        "'''\n",
        "for sent,embedding in zip(sentences,bow_corpus):\n",
        "    print(sent)\n",
        "    print(embedding)\n",
        "'''\n"
      ],
      "execution_count": 50,
      "outputs": [
        {
          "output_type": "execute_result",
          "data": {
            "application/vnd.google.colaboratory.intrinsic+json": {
              "type": "string"
            },
            "text/plain": [
              "'\\nfor sent,embedding in zip(sentences,bow_corpus):\\n    print(sent)\\n    print(embedding)\\n'"
            ]
          },
          "metadata": {
            "tags": []
          },
          "execution_count": 50
        }
      ]
    },
    {
      "cell_type": "code",
      "metadata": {
        "id": "iiDWLNNUZI1x",
        "outputId": "93f4e51e-ff85-43d8-93b1-303647a342ec",
        "colab": {
          "base_uri": "https://localhost:8080/"
        }
      },
      "source": [
        "#question_orig=\"What does a data scientist usually do ?\"\n",
        "#question_orig=input()\n",
        "cleaned_sentences_test=get_cleaned_sentences(df_test,stopwords=False)\n",
        "print(cleaned_sentences_test);\n",
        "\n"
      ],
      "execution_count": 51,
      "outputs": [
        {
          "output_type": "stream",
          "text": [
            "['how does job searching experience would look', 'please provide how ds jobs are in the market', 'how has the covid impacted ds hiring', 'what skills do employers want from data science positions', 'is advanced degree in ml required', 'what data scientist do in a typical day', 'for an interview in data science are we required to study algorithms', 'what is the mathematical background required to be a data scientist ', 'how many rounds of interview are required to clear data scientist interview ', 'how much proficient a data scientist should be in coding']\n"
          ],
          "name": "stdout"
        }
      ]
    },
    {
      "cell_type": "code",
      "metadata": {
        "id": "ZYYx39rlZI1z",
        "outputId": "9c981a97-3b93-4d37-9053-9f4a6786ca18",
        "colab": {
          "base_uri": "https://localhost:8080/"
        }
      },
      "source": [
        "import numpy\n",
        "import pprint\n",
        "\n",
        "sentences_test=cleaned_sentences_test\n",
        "\n",
        "\n",
        "# Split it by white space \n",
        "sentence_words_test = [[word for word in document.split() ]\n",
        "         for document in sentences_test]\n",
        "\n",
        "from gensim import corpora\n",
        "\n",
        "dictionary_test = corpora.Dictionary(sentence_words_test)\n",
        "\n",
        "for key, value in dictionary_test.items():\n",
        "    print(key, ' : ', value)\n",
        "\n",
        "\n",
        "bow_corpus_test = [dictionary_test.doc2bow(text) for text in sentence_words_test]\n",
        "\n",
        "for sent,embedding in zip(sentences_test,bow_corpus_test):\n",
        "    print(sent)\n",
        "    print(embedding)\n",
        "\n"
      ],
      "execution_count": 52,
      "outputs": [
        {
          "output_type": "stream",
          "text": [
            "0  :  does\n",
            "1  :  experience\n",
            "2  :  how\n",
            "3  :  job\n",
            "4  :  look\n",
            "5  :  searching\n",
            "6  :  would\n",
            "7  :  are\n",
            "8  :  ds\n",
            "9  :  in\n",
            "10  :  jobs\n",
            "11  :  market\n",
            "12  :  please\n",
            "13  :  provide\n",
            "14  :  the\n",
            "15  :  covid\n",
            "16  :  has\n",
            "17  :  hiring\n",
            "18  :  impacted\n",
            "19  :  data\n",
            "20  :  do\n",
            "21  :  employers\n",
            "22  :  from\n",
            "23  :  positions\n",
            "24  :  science\n",
            "25  :  skills\n",
            "26  :  want\n",
            "27  :  what\n",
            "28  :  advanced\n",
            "29  :  degree\n",
            "30  :  is\n",
            "31  :  ml\n",
            "32  :  required\n",
            "33  :  a\n",
            "34  :  day\n",
            "35  :  scientist\n",
            "36  :  typical\n",
            "37  :  algorithms\n",
            "38  :  an\n",
            "39  :  for\n",
            "40  :  interview\n",
            "41  :  study\n",
            "42  :  to\n",
            "43  :  we\n",
            "44  :  background\n",
            "45  :  be\n",
            "46  :  mathematical\n",
            "47  :  clear\n",
            "48  :  many\n",
            "49  :  of\n",
            "50  :  rounds\n",
            "51  :  coding\n",
            "52  :  much\n",
            "53  :  proficient\n",
            "54  :  should\n",
            "how does job searching experience would look\n",
            "[(0, 1), (1, 1), (2, 1), (3, 1), (4, 1), (5, 1), (6, 1)]\n",
            "please provide how ds jobs are in the market\n",
            "[(2, 1), (7, 1), (8, 1), (9, 1), (10, 1), (11, 1), (12, 1), (13, 1), (14, 1)]\n",
            "how has the covid impacted ds hiring\n",
            "[(2, 1), (8, 1), (14, 1), (15, 1), (16, 1), (17, 1), (18, 1)]\n",
            "what skills do employers want from data science positions\n",
            "[(19, 1), (20, 1), (21, 1), (22, 1), (23, 1), (24, 1), (25, 1), (26, 1), (27, 1)]\n",
            "is advanced degree in ml required\n",
            "[(9, 1), (28, 1), (29, 1), (30, 1), (31, 1), (32, 1)]\n",
            "what data scientist do in a typical day\n",
            "[(9, 1), (19, 1), (20, 1), (27, 1), (33, 1), (34, 1), (35, 1), (36, 1)]\n",
            "for an interview in data science are we required to study algorithms\n",
            "[(7, 1), (9, 1), (19, 1), (24, 1), (32, 1), (37, 1), (38, 1), (39, 1), (40, 1), (41, 1), (42, 1), (43, 1)]\n",
            "what is the mathematical background required to be a data scientist \n",
            "[(14, 1), (19, 1), (27, 1), (30, 1), (32, 1), (33, 1), (35, 1), (42, 1), (44, 1), (45, 1), (46, 1)]\n",
            "how many rounds of interview are required to clear data scientist interview \n",
            "[(2, 1), (7, 1), (19, 1), (32, 1), (35, 1), (40, 2), (42, 1), (47, 1), (48, 1), (49, 1), (50, 1)]\n",
            "how much proficient a data scientist should be in coding\n",
            "[(2, 1), (9, 1), (19, 1), (33, 1), (35, 1), (45, 1), (51, 1), (52, 1), (53, 1), (54, 1)]\n"
          ],
          "name": "stdout"
        }
      ]
    },
    {
      "cell_type": "code",
      "metadata": {
        "id": "vXXxIdprZI12",
        "outputId": "c60ea6a9-a18d-4486-bfa0-373b8233461f",
        "colab": {
          "base_uri": "https://localhost:8080/"
        }
      },
      "source": [
        "import sklearn\n",
        "from sklearn.metrics.pairwise import cosine_similarity;\n",
        "def retrieveAndPrintFAQAnswer(question_embeddings_test,sentence_embeddings,FAQdf,sentences,FAQdf_test,sentences_test):\n",
        "  for index_test,faq_embedding_test in enumerate(question_embeddings_test):\n",
        "    max_sim=-1;\n",
        "    index_sim=-1;\n",
        "    for index,faq_embedding in enumerate(sentence_embeddings):\n",
        "        \n",
        "      sim=cosine_similarity(faq_embedding,faq_embedding_test)[0][0];\n",
        "      #print(index, sim, sentences[index])\n",
        "      if sim>max_sim:\n",
        "        max_sim=sim;\n",
        "        index_sim=index;\n",
        "\n",
        "    FAQdf_test.iloc[index_test,2]=FAQdf.iloc[index_sim,2]\n",
        "    FAQdf_test.iloc[index_test,5]=FAQdf.iloc[index_sim,0]\n",
        "    print(\"\\n\")\n",
        "    print(\"Question: \",sentences_test[index_test])\n",
        "    print(\"\\n\");\n",
        "    print(\"Retrieved: \",FAQdf.iloc[index_sim,0]) \n",
        "    print(\"Answer:\",FAQdf.iloc[index_sim,1])        \n",
        "  df_test=FAQdf_test \n",
        "retrieveAndPrintFAQAnswer(bow_corpus_test,bow_corpus,df,sentences,df_test,sentences_test);"
      ],
      "execution_count": 53,
      "outputs": [
        {
          "output_type": "stream",
          "text": [
            "\n",
            "\n",
            "Question:  how does job searching experience would look\n",
            "\n",
            "\n",
            "Retrieved:  What does the job hunting experience look like ?\n",
            "Answer: Job hunting experience involves networking to get in touch with the right people in various companies, applying to lots of jobs through various channels, preparing for interviews – while interviews are uncertain it is necessary to prepare well what you CAN prepare, smart scheduling of interviews to get the best job and salary you can.\n",
            "\n",
            "\n",
            "Question:  please provide how ds jobs are in the market\n",
            "\n",
            "\n",
            "Retrieved:  Any insights you can offer about the DS job market ?\n",
            "Answer: There are many kinds of roles, data scientist, analyst, data engineer and so on. There are many levels of companies. In smaller companies the roles are usually combined into one while in larger companies there are more nuanced roles. Since more and more companies are just getting started on their data journey, the overall demand is expected to increase in the next few years.\n",
            "\n",
            "\n",
            "Question:  how has the covid impacted ds hiring\n",
            "\n",
            "\n",
            "Retrieved:  Any insights you can offer about the DS job market ?\n",
            "Answer: There are many kinds of roles, data scientist, analyst, data engineer and so on. There are many levels of companies. In smaller companies the roles are usually combined into one while in larger companies there are more nuanced roles. Since more and more companies are just getting started on their data journey, the overall demand is expected to increase in the next few years.\n",
            "\n",
            "\n",
            "Question:  what skills do employers want from data science positions\n",
            "\n",
            "\n",
            "Retrieved:  Is preparation of algorithms and data structures needed for a data science interview ?\n",
            "Answer: Yes. In many data science interviews (ML Scientist, data scientist, ML Engineer, Data engineer) there is a coding round and an algorithms round. So preparing algorithms and data structures is necessary. Some of the Analyst interviews, such as a data analyst and a business analyst might not have an algorithms and data structures round.\n",
            "\n",
            "\n",
            "Question:  is advanced degree in ml required\n",
            "\n",
            "\n",
            "Retrieved:  What level of proficiency is needed for a data scientist in coding?\n",
            "Answer: Needs to be reasonably proficient. Again, a data scientist is a developer ++. Usually expected to have the basic skills a developer has including understanding algorithms and data structures and being able to write clean, understable, efficient, well documented code.\n",
            "\n",
            "In many cases, the data scientist is expected to write production ready code and be able to understand the deployment process. In some cases, the coding could be for decision support.\n",
            "\n",
            "\n",
            "Question:  what data scientist do in a typical day\n",
            "\n",
            "\n",
            "Retrieved:  What level of proficiency is needed for a data scientist in coding?\n",
            "Answer: Needs to be reasonably proficient. Again, a data scientist is a developer ++. Usually expected to have the basic skills a developer has including understanding algorithms and data structures and being able to write clean, understable, efficient, well documented code.\n",
            "\n",
            "In many cases, the data scientist is expected to write production ready code and be able to understand the deployment process. In some cases, the coding could be for decision support.\n",
            "\n",
            "\n",
            "Question:  for an interview in data science are we required to study algorithms\n",
            "\n",
            "\n",
            "Retrieved:  What level of proficiency is needed for a data scientist in coding?\n",
            "Answer: Needs to be reasonably proficient. Again, a data scientist is a developer ++. Usually expected to have the basic skills a developer has including understanding algorithms and data structures and being able to write clean, understable, efficient, well documented code.\n",
            "\n",
            "In many cases, the data scientist is expected to write production ready code and be able to understand the deployment process. In some cases, the coding could be for decision support.\n",
            "\n",
            "\n",
            "Question:  what is the mathematical background required to be a data scientist \n",
            "\n",
            "\n",
            "Retrieved:  Is preparation of algorithms and data structures needed for a data science interview ?\n",
            "Answer: Yes. In many data science interviews (ML Scientist, data scientist, ML Engineer, Data engineer) there is a coding round and an algorithms round. So preparing algorithms and data structures is necessary. Some of the Analyst interviews, such as a data analyst and a business analyst might not have an algorithms and data structures round.\n",
            "\n",
            "\n",
            "Question:  how many rounds of interview are required to clear data scientist interview \n",
            "\n",
            "\n",
            "Retrieved:  Any insights you can offer about the DS job market ?\n",
            "Answer: There are many kinds of roles, data scientist, analyst, data engineer and so on. There are many levels of companies. In smaller companies the roles are usually combined into one while in larger companies there are more nuanced roles. Since more and more companies are just getting started on their data journey, the overall demand is expected to increase in the next few years.\n",
            "\n",
            "\n",
            "Question:  how much proficient a data scientist should be in coding\n",
            "\n",
            "\n",
            "Retrieved:  Any insights you can offer about the DS job market ?\n",
            "Answer: There are many kinds of roles, data scientist, analyst, data engineer and so on. There are many levels of companies. In smaller companies the roles are usually combined into one while in larger companies there are more nuanced roles. Since more and more companies are just getting started on their data journey, the overall demand is expected to increase in the next few years.\n"
          ],
          "name": "stdout"
        }
      ]
    },
    {
      "cell_type": "code",
      "metadata": {
        "id": "dRxQiyvjZI14",
        "outputId": "28aac79f-6dca-48ea-f200-05ddf8efc78d",
        "colab": {
          "base_uri": "https://localhost:8080/",
          "height": 0
        }
      },
      "source": [
        "df_test"
      ],
      "execution_count": 54,
      "outputs": [
        {
          "output_type": "execute_result",
          "data": {
            "text/html": [
              "<div>\n",
              "<style scoped>\n",
              "    .dataframe tbody tr th:only-of-type {\n",
              "        vertical-align: middle;\n",
              "    }\n",
              "\n",
              "    .dataframe tbody tr th {\n",
              "        vertical-align: top;\n",
              "    }\n",
              "\n",
              "    .dataframe thead th {\n",
              "        text-align: right;\n",
              "    }\n",
              "</style>\n",
              "<table border=\"1\" class=\"dataframe\">\n",
              "  <thead>\n",
              "    <tr style=\"text-align: right;\">\n",
              "      <th></th>\n",
              "      <th>questions</th>\n",
              "      <th>ActualCode</th>\n",
              "      <th>PredictedCode</th>\n",
              "      <th>Prediction?</th>\n",
              "      <th>ActualQuestion</th>\n",
              "      <th>PredictedQuestion</th>\n",
              "    </tr>\n",
              "  </thead>\n",
              "  <tbody>\n",
              "    <tr>\n",
              "      <th>0</th>\n",
              "      <td>How does job searching experience would look?</td>\n",
              "      <td>1</td>\n",
              "      <td>1.0</td>\n",
              "      <td>NaN</td>\n",
              "      <td>What does the job hunting experience look like ?</td>\n",
              "      <td>What does the job hunting experience look like ?</td>\n",
              "    </tr>\n",
              "    <tr>\n",
              "      <th>1</th>\n",
              "      <td>Please provide how DS jobs are in the market?</td>\n",
              "      <td>2</td>\n",
              "      <td>2.0</td>\n",
              "      <td>NaN</td>\n",
              "      <td>Any insights you can offer about the DS job ma...</td>\n",
              "      <td>Any insights you can offer about the DS job ma...</td>\n",
              "    </tr>\n",
              "    <tr>\n",
              "      <th>2</th>\n",
              "      <td>How has the Covid impacted DS hiring?</td>\n",
              "      <td>3</td>\n",
              "      <td>2.0</td>\n",
              "      <td>NaN</td>\n",
              "      <td>What's the impact of Covid on hiring for DS ro...</td>\n",
              "      <td>Any insights you can offer about the DS job ma...</td>\n",
              "    </tr>\n",
              "    <tr>\n",
              "      <th>3</th>\n",
              "      <td>What skills do employers want from data scienc...</td>\n",
              "      <td>4</td>\n",
              "      <td>7.0</td>\n",
              "      <td>NaN</td>\n",
              "      <td>What skills and qualities do employers look fo...</td>\n",
              "      <td>Is preparation of algorithms and data structur...</td>\n",
              "    </tr>\n",
              "    <tr>\n",
              "      <th>4</th>\n",
              "      <td>Is advanced degree in ML required?</td>\n",
              "      <td>5</td>\n",
              "      <td>10.0</td>\n",
              "      <td>NaN</td>\n",
              "      <td>Do employers look for an advanced ML degree?</td>\n",
              "      <td>What level of proficiency is needed for a data...</td>\n",
              "    </tr>\n",
              "    <tr>\n",
              "      <th>5</th>\n",
              "      <td>What data scientist do in a typical day?</td>\n",
              "      <td>6</td>\n",
              "      <td>10.0</td>\n",
              "      <td>NaN</td>\n",
              "      <td>How does a typical day of a data scientist loo...</td>\n",
              "      <td>What level of proficiency is needed for a data...</td>\n",
              "    </tr>\n",
              "    <tr>\n",
              "      <th>6</th>\n",
              "      <td>For an interview in data science are we requir...</td>\n",
              "      <td>7</td>\n",
              "      <td>10.0</td>\n",
              "      <td>NaN</td>\n",
              "      <td>Is preparation of algorithms and data structur...</td>\n",
              "      <td>What level of proficiency is needed for a data...</td>\n",
              "    </tr>\n",
              "    <tr>\n",
              "      <th>7</th>\n",
              "      <td>What is the mathematical background required t...</td>\n",
              "      <td>8</td>\n",
              "      <td>7.0</td>\n",
              "      <td>NaN</td>\n",
              "      <td>What is the mathematical background required t...</td>\n",
              "      <td>Is preparation of algorithms and data structur...</td>\n",
              "    </tr>\n",
              "    <tr>\n",
              "      <th>8</th>\n",
              "      <td>How many rounds of interview are required to c...</td>\n",
              "      <td>9</td>\n",
              "      <td>2.0</td>\n",
              "      <td>NaN</td>\n",
              "      <td>What are the various rounds in a data scientis...</td>\n",
              "      <td>Any insights you can offer about the DS job ma...</td>\n",
              "    </tr>\n",
              "    <tr>\n",
              "      <th>9</th>\n",
              "      <td>How much proficient a data scientist should be...</td>\n",
              "      <td>10</td>\n",
              "      <td>2.0</td>\n",
              "      <td>NaN</td>\n",
              "      <td>What level of proficiency is needed for a data...</td>\n",
              "      <td>Any insights you can offer about the DS job ma...</td>\n",
              "    </tr>\n",
              "  </tbody>\n",
              "</table>\n",
              "</div>"
            ],
            "text/plain": [
              "                                           questions  ...                                  PredictedQuestion\n",
              "0      How does job searching experience would look?  ...   What does the job hunting experience look like ?\n",
              "1      Please provide how DS jobs are in the market?  ...  Any insights you can offer about the DS job ma...\n",
              "2              How has the Covid impacted DS hiring?  ...  Any insights you can offer about the DS job ma...\n",
              "3  What skills do employers want from data scienc...  ...  Is preparation of algorithms and data structur...\n",
              "4                 Is advanced degree in ML required?  ...  What level of proficiency is needed for a data...\n",
              "5           What data scientist do in a typical day?  ...  What level of proficiency is needed for a data...\n",
              "6  For an interview in data science are we requir...  ...  What level of proficiency is needed for a data...\n",
              "7  What is the mathematical background required t...  ...  Is preparation of algorithms and data structur...\n",
              "8  How many rounds of interview are required to c...  ...  Any insights you can offer about the DS job ma...\n",
              "9  How much proficient a data scientist should be...  ...  Any insights you can offer about the DS job ma...\n",
              "\n",
              "[10 rows x 6 columns]"
            ]
          },
          "metadata": {
            "tags": []
          },
          "execution_count": 54
        }
      ]
    },
    {
      "cell_type": "code",
      "metadata": {
        "id": "L4-dxCHjZI16"
      },
      "source": [
        "for i in range(df_test.shape[0]):\n",
        " if df_test.iloc[i,1]!=df_test.iloc[i,2]:\n",
        "   df_test.iloc[i,3]='InCorrect'\n",
        " else:\n",
        "   df_test.iloc[i,3]='correct'\n"
      ],
      "execution_count": 55,
      "outputs": []
    },
    {
      "cell_type": "code",
      "metadata": {
        "id": "22gB10jrZI17",
        "outputId": "1e58abb2-e065-4465-eb92-0bfec41555cc",
        "colab": {
          "base_uri": "https://localhost:8080/",
          "height": 0
        }
      },
      "source": [
        "df_test"
      ],
      "execution_count": 56,
      "outputs": [
        {
          "output_type": "execute_result",
          "data": {
            "text/html": [
              "<div>\n",
              "<style scoped>\n",
              "    .dataframe tbody tr th:only-of-type {\n",
              "        vertical-align: middle;\n",
              "    }\n",
              "\n",
              "    .dataframe tbody tr th {\n",
              "        vertical-align: top;\n",
              "    }\n",
              "\n",
              "    .dataframe thead th {\n",
              "        text-align: right;\n",
              "    }\n",
              "</style>\n",
              "<table border=\"1\" class=\"dataframe\">\n",
              "  <thead>\n",
              "    <tr style=\"text-align: right;\">\n",
              "      <th></th>\n",
              "      <th>questions</th>\n",
              "      <th>ActualCode</th>\n",
              "      <th>PredictedCode</th>\n",
              "      <th>Prediction?</th>\n",
              "      <th>ActualQuestion</th>\n",
              "      <th>PredictedQuestion</th>\n",
              "    </tr>\n",
              "  </thead>\n",
              "  <tbody>\n",
              "    <tr>\n",
              "      <th>0</th>\n",
              "      <td>How does job searching experience would look?</td>\n",
              "      <td>1</td>\n",
              "      <td>1.0</td>\n",
              "      <td>correct</td>\n",
              "      <td>What does the job hunting experience look like ?</td>\n",
              "      <td>What does the job hunting experience look like ?</td>\n",
              "    </tr>\n",
              "    <tr>\n",
              "      <th>1</th>\n",
              "      <td>Please provide how DS jobs are in the market?</td>\n",
              "      <td>2</td>\n",
              "      <td>2.0</td>\n",
              "      <td>correct</td>\n",
              "      <td>Any insights you can offer about the DS job ma...</td>\n",
              "      <td>Any insights you can offer about the DS job ma...</td>\n",
              "    </tr>\n",
              "    <tr>\n",
              "      <th>2</th>\n",
              "      <td>How has the Covid impacted DS hiring?</td>\n",
              "      <td>3</td>\n",
              "      <td>2.0</td>\n",
              "      <td>InCorrect</td>\n",
              "      <td>What's the impact of Covid on hiring for DS ro...</td>\n",
              "      <td>Any insights you can offer about the DS job ma...</td>\n",
              "    </tr>\n",
              "    <tr>\n",
              "      <th>3</th>\n",
              "      <td>What skills do employers want from data scienc...</td>\n",
              "      <td>4</td>\n",
              "      <td>7.0</td>\n",
              "      <td>InCorrect</td>\n",
              "      <td>What skills and qualities do employers look fo...</td>\n",
              "      <td>Is preparation of algorithms and data structur...</td>\n",
              "    </tr>\n",
              "    <tr>\n",
              "      <th>4</th>\n",
              "      <td>Is advanced degree in ML required?</td>\n",
              "      <td>5</td>\n",
              "      <td>10.0</td>\n",
              "      <td>InCorrect</td>\n",
              "      <td>Do employers look for an advanced ML degree?</td>\n",
              "      <td>What level of proficiency is needed for a data...</td>\n",
              "    </tr>\n",
              "    <tr>\n",
              "      <th>5</th>\n",
              "      <td>What data scientist do in a typical day?</td>\n",
              "      <td>6</td>\n",
              "      <td>10.0</td>\n",
              "      <td>InCorrect</td>\n",
              "      <td>How does a typical day of a data scientist loo...</td>\n",
              "      <td>What level of proficiency is needed for a data...</td>\n",
              "    </tr>\n",
              "    <tr>\n",
              "      <th>6</th>\n",
              "      <td>For an interview in data science are we requir...</td>\n",
              "      <td>7</td>\n",
              "      <td>10.0</td>\n",
              "      <td>InCorrect</td>\n",
              "      <td>Is preparation of algorithms and data structur...</td>\n",
              "      <td>What level of proficiency is needed for a data...</td>\n",
              "    </tr>\n",
              "    <tr>\n",
              "      <th>7</th>\n",
              "      <td>What is the mathematical background required t...</td>\n",
              "      <td>8</td>\n",
              "      <td>7.0</td>\n",
              "      <td>InCorrect</td>\n",
              "      <td>What is the mathematical background required t...</td>\n",
              "      <td>Is preparation of algorithms and data structur...</td>\n",
              "    </tr>\n",
              "    <tr>\n",
              "      <th>8</th>\n",
              "      <td>How many rounds of interview are required to c...</td>\n",
              "      <td>9</td>\n",
              "      <td>2.0</td>\n",
              "      <td>InCorrect</td>\n",
              "      <td>What are the various rounds in a data scientis...</td>\n",
              "      <td>Any insights you can offer about the DS job ma...</td>\n",
              "    </tr>\n",
              "    <tr>\n",
              "      <th>9</th>\n",
              "      <td>How much proficient a data scientist should be...</td>\n",
              "      <td>10</td>\n",
              "      <td>2.0</td>\n",
              "      <td>InCorrect</td>\n",
              "      <td>What level of proficiency is needed for a data...</td>\n",
              "      <td>Any insights you can offer about the DS job ma...</td>\n",
              "    </tr>\n",
              "  </tbody>\n",
              "</table>\n",
              "</div>"
            ],
            "text/plain": [
              "                                           questions  ...                                  PredictedQuestion\n",
              "0      How does job searching experience would look?  ...   What does the job hunting experience look like ?\n",
              "1      Please provide how DS jobs are in the market?  ...  Any insights you can offer about the DS job ma...\n",
              "2              How has the Covid impacted DS hiring?  ...  Any insights you can offer about the DS job ma...\n",
              "3  What skills do employers want from data scienc...  ...  Is preparation of algorithms and data structur...\n",
              "4                 Is advanced degree in ML required?  ...  What level of proficiency is needed for a data...\n",
              "5           What data scientist do in a typical day?  ...  What level of proficiency is needed for a data...\n",
              "6  For an interview in data science are we requir...  ...  What level of proficiency is needed for a data...\n",
              "7  What is the mathematical background required t...  ...  Is preparation of algorithms and data structur...\n",
              "8  How many rounds of interview are required to c...  ...  Any insights you can offer about the DS job ma...\n",
              "9  How much proficient a data scientist should be...  ...  Any insights you can offer about the DS job ma...\n",
              "\n",
              "[10 rows x 6 columns]"
            ]
          },
          "metadata": {
            "tags": []
          },
          "execution_count": 56
        }
      ]
    },
    {
      "cell_type": "code",
      "metadata": {
        "id": "MkztZSMSZI19"
      },
      "source": [
        "list_data_answers=df_test.ActualCode.values.tolist()\n",
        "list_data_FoundCode=df_test.PredictedCode.values.tolist()"
      ],
      "execution_count": 57,
      "outputs": []
    },
    {
      "cell_type": "code",
      "metadata": {
        "id": "b_U8JfHoZI1_",
        "outputId": "a426ab60-8ab2-42ec-8341-d145e79c73bc",
        "colab": {
          "base_uri": "https://localhost:8080/"
        }
      },
      "source": [
        "list_data_FoundCode"
      ],
      "execution_count": 58,
      "outputs": [
        {
          "output_type": "execute_result",
          "data": {
            "text/plain": [
              "[1.0, 2.0, 2.0, 7.0, 10.0, 10.0, 10.0, 7.0, 2.0, 2.0]"
            ]
          },
          "metadata": {
            "tags": []
          },
          "execution_count": 58
        }
      ]
    },
    {
      "cell_type": "code",
      "metadata": {
        "id": "g60PwMD_ZI2C",
        "outputId": "83847228-080a-4550-9da9-7e18ff8bda3e",
        "colab": {
          "base_uri": "https://localhost:8080/"
        }
      },
      "source": [
        "from sklearn.metrics import multilabel_confusion_matrix\n",
        "from sklearn import metrics\n",
        "multilabel_confusion_matrix(list_data_answers, list_data_FoundCode)\n",
        "#tn, fp, fn, tp = confusion_matrix([1, 2, 3, 4, 5, 6, 7, 8, 9, 10], [1.0, 2.0, 2.0, 10.0, 4.0, 1.0, 2.0, 1.0, 2.0, 2.0]).ravel()\n",
        "#print(metrics.classification_report(list_data_answers, list_data_FoundCode))"
      ],
      "execution_count": 59,
      "outputs": [
        {
          "output_type": "execute_result",
          "data": {
            "text/plain": [
              "array([[[9, 0],\n",
              "        [0, 1]],\n",
              "\n",
              "       [[6, 3],\n",
              "        [0, 1]],\n",
              "\n",
              "       [[9, 0],\n",
              "        [1, 0]],\n",
              "\n",
              "       [[9, 0],\n",
              "        [1, 0]],\n",
              "\n",
              "       [[9, 0],\n",
              "        [1, 0]],\n",
              "\n",
              "       [[9, 0],\n",
              "        [1, 0]],\n",
              "\n",
              "       [[7, 2],\n",
              "        [1, 0]],\n",
              "\n",
              "       [[9, 0],\n",
              "        [1, 0]],\n",
              "\n",
              "       [[9, 0],\n",
              "        [1, 0]],\n",
              "\n",
              "       [[6, 3],\n",
              "        [1, 0]]])"
            ]
          },
          "metadata": {
            "tags": []
          },
          "execution_count": 59
        }
      ]
    },
    {
      "cell_type": "code",
      "metadata": {
        "id": "m85Inv3mZI2D"
      },
      "source": [
        "import matplotlib.pyplot as plt\n",
        "from mlxtend.evaluate import confusion_matrix\n",
        "\n",
        "\n",
        "cm = confusion_matrix(list_data_answers, list_data_FoundCode, binary=False)"
      ],
      "execution_count": 60,
      "outputs": []
    },
    {
      "cell_type": "code",
      "metadata": {
        "id": "kkXVpWPEZI2F",
        "outputId": "ab09bb35-75eb-493f-ce8b-b0758573f129",
        "colab": {
          "base_uri": "https://localhost:8080/",
          "height": 0
        }
      },
      "source": [
        "import matplotlib.pyplot as plt\n",
        "from mlxtend.evaluate import confusion_matrix\n",
        "\n",
        "fig, ax = plot_confusion_matrix(conf_mat=cm)\n",
        "plt.show()"
      ],
      "execution_count": 61,
      "outputs": [
        {
          "output_type": "display_data",
          "data": {
            "image/png": "[encoded data removed]",
            "text/plain": [
              "<Figure size 432x288 with 1 Axes>"
            ]
          },
          "metadata": {
            "tags": [],
            "needs_background": "light"
          }
        }
      ]
    },
    {
      "cell_type": "code",
      "metadata": {
        "id": "qFzSWwQIZI2G",
        "outputId": "bb63838f-8683-46fd-fd7a-d2694c60ed88",
        "colab": {
          "base_uri": "https://localhost:8080/"
        }
      },
      "source": [
        "print(metrics.classification_report(list_data_answers, list_data_FoundCode))"
      ],
      "execution_count": 62,
      "outputs": [
        {
          "output_type": "stream",
          "text": [
            "              precision    recall  f1-score   support\n",
            "\n",
            "           1       1.00      1.00      1.00         1\n",
            "           2       0.25      1.00      0.40         1\n",
            "           3       0.00      0.00      0.00         1\n",
            "           4       0.00      0.00      0.00         1\n",
            "           5       0.00      0.00      0.00         1\n",
            "           6       0.00      0.00      0.00         1\n",
            "           7       0.00      0.00      0.00         1\n",
            "           8       0.00      0.00      0.00         1\n",
            "           9       0.00      0.00      0.00         1\n",
            "          10       0.00      0.00      0.00         1\n",
            "\n",
            "    accuracy                           0.20        10\n",
            "   macro avg       0.12      0.20      0.14        10\n",
            "weighted avg       0.12      0.20      0.14        10\n",
            "\n"
          ],
          "name": "stdout"
        },
        {
          "output_type": "stream",
          "text": [
            "/usr/local/lib/python3.6/dist-packages/sklearn/metrics/_classification.py:1272: UndefinedMetricWarning: Precision and F-score are ill-defined and being set to 0.0 in labels with no predicted samples. Use `zero_division` parameter to control this behavior.\n",
            "  _warn_prf(average, modifier, msg_start, len(result))\n"
          ],
          "name": "stderr"
        }
      ]
    },
    {
      "cell_type": "markdown",
      "metadata": {
        "id": "--6UKf7tZb-n"
      },
      "source": [
        "#Dataset2-Hard"
      ]
    },
    {
      "cell_type": "markdown",
      "metadata": {
        "id": "bpAsPTIHZb-p"
      },
      "source": [
        "## Importing Data"
      ]
    },
    {
      "cell_type": "code",
      "metadata": {
        "id": "rb6Zs47nZb-r",
        "outputId": "1fdfe841-749f-4bb2-ec40-278639422d95",
        "colab": {
          "base_uri": "https://localhost:8080/",
          "height": 0
        }
      },
      "source": [
        "import pandas as pd;\n",
        "#Loading dataset and renaming columns\n",
        "\n",
        "df=pd.read_csv(\"FAQ_standard.csv\");\n",
        "df.columns=[\"questions\",\"answers\",\"AnswerCode\"];\n",
        "\n",
        "df"
      ],
      "execution_count": 63,
      "outputs": [
        {
          "output_type": "execute_result",
          "data": {
            "text/html": [
              "<div>\n",
              "<style scoped>\n",
              "    .dataframe tbody tr th:only-of-type {\n",
              "        vertical-align: middle;\n",
              "    }\n",
              "\n",
              "    .dataframe tbody tr th {\n",
              "        vertical-align: top;\n",
              "    }\n",
              "\n",
              "    .dataframe thead th {\n",
              "        text-align: right;\n",
              "    }\n",
              "</style>\n",
              "<table border=\"1\" class=\"dataframe\">\n",
              "  <thead>\n",
              "    <tr style=\"text-align: right;\">\n",
              "      <th></th>\n",
              "      <th>questions</th>\n",
              "      <th>answers</th>\n",
              "      <th>AnswerCode</th>\n",
              "    </tr>\n",
              "  </thead>\n",
              "  <tbody>\n",
              "    <tr>\n",
              "      <th>0</th>\n",
              "      <td>What does the job hunting experience look like ?</td>\n",
              "      <td>Job hunting experience involves networking to ...</td>\n",
              "      <td>1</td>\n",
              "    </tr>\n",
              "    <tr>\n",
              "      <th>1</th>\n",
              "      <td>Any insights you can offer about the DS job ma...</td>\n",
              "      <td>There are many kinds of roles, data scientist,...</td>\n",
              "      <td>2</td>\n",
              "    </tr>\n",
              "    <tr>\n",
              "      <th>2</th>\n",
              "      <td>What's the impact of Covid on hiring for DS ro...</td>\n",
              "      <td>Hiring is going to slow down. First in small c...</td>\n",
              "      <td>3</td>\n",
              "    </tr>\n",
              "    <tr>\n",
              "      <th>3</th>\n",
              "      <td>What skills and qualities do employers look fo...</td>\n",
              "      <td>The following are some skills employers usuall...</td>\n",
              "      <td>4</td>\n",
              "    </tr>\n",
              "    <tr>\n",
              "      <th>4</th>\n",
              "      <td>Do employers look for an advanced ML degree?</td>\n",
              "      <td>For more senior roles: People typically look f...</td>\n",
              "      <td>5</td>\n",
              "    </tr>\n",
              "    <tr>\n",
              "      <th>5</th>\n",
              "      <td>How does a typical day of a data scientist loo...</td>\n",
              "      <td>Here are some tasks in the typical day of a da...</td>\n",
              "      <td>6</td>\n",
              "    </tr>\n",
              "    <tr>\n",
              "      <th>6</th>\n",
              "      <td>Is preparation of algorithms and data structur...</td>\n",
              "      <td>Yes. In many data science interviews (ML Scien...</td>\n",
              "      <td>7</td>\n",
              "    </tr>\n",
              "    <tr>\n",
              "      <th>7</th>\n",
              "      <td>What is the mathematical background required t...</td>\n",
              "      <td>The following three are the basic building blo...</td>\n",
              "      <td>8</td>\n",
              "    </tr>\n",
              "    <tr>\n",
              "      <th>8</th>\n",
              "      <td>What are the various rounds in a data scientis...</td>\n",
              "      <td>Usually the data science interview has a subse...</td>\n",
              "      <td>9</td>\n",
              "    </tr>\n",
              "    <tr>\n",
              "      <th>9</th>\n",
              "      <td>What level of proficiency is needed for a data...</td>\n",
              "      <td>Needs to be reasonably proficient. Again, a da...</td>\n",
              "      <td>10</td>\n",
              "    </tr>\n",
              "  </tbody>\n",
              "</table>\n",
              "</div>"
            ],
            "text/plain": [
              "                                           questions  ... AnswerCode\n",
              "0   What does the job hunting experience look like ?  ...          1\n",
              "1  Any insights you can offer about the DS job ma...  ...          2\n",
              "2  What's the impact of Covid on hiring for DS ro...  ...          3\n",
              "3  What skills and qualities do employers look fo...  ...          4\n",
              "4       Do employers look for an advanced ML degree?  ...          5\n",
              "5  How does a typical day of a data scientist loo...  ...          6\n",
              "6  Is preparation of algorithms and data structur...  ...          7\n",
              "7  What is the mathematical background required t...  ...          8\n",
              "8  What are the various rounds in a data scientis...  ...          9\n",
              "9  What level of proficiency is needed for a data...  ...         10\n",
              "\n",
              "[10 rows x 3 columns]"
            ]
          },
          "metadata": {
            "tags": []
          },
          "execution_count": 63
        }
      ]
    },
    {
      "cell_type": "code",
      "metadata": {
        "id": "tKy71npLZb-0",
        "outputId": "c7b2f562-e5e5-4dea-e20b-86545b1177a3",
        "colab": {
          "base_uri": "https://localhost:8080/",
          "height": 0
        }
      },
      "source": [
        "import pandas as pd;\n",
        "\n",
        "#Load dataset and rename columns \n",
        "\n",
        "df_test=pd.read_excel(\"FAQ_test_Hard.xlsx\")\n",
        "df_test.columns=[\"questions\",\"ActualCode\",\"PredictedCode\",\"Prediction?\",\"ActualQuestion\",\"PredictedQuestion\"]\n",
        "\n",
        "df_test"
      ],
      "execution_count": 64,
      "outputs": [
        {
          "output_type": "execute_result",
          "data": {
            "text/html": [
              "<div>\n",
              "<style scoped>\n",
              "    .dataframe tbody tr th:only-of-type {\n",
              "        vertical-align: middle;\n",
              "    }\n",
              "\n",
              "    .dataframe tbody tr th {\n",
              "        vertical-align: top;\n",
              "    }\n",
              "\n",
              "    .dataframe thead th {\n",
              "        text-align: right;\n",
              "    }\n",
              "</style>\n",
              "<table border=\"1\" class=\"dataframe\">\n",
              "  <thead>\n",
              "    <tr style=\"text-align: right;\">\n",
              "      <th></th>\n",
              "      <th>questions</th>\n",
              "      <th>ActualCode</th>\n",
              "      <th>PredictedCode</th>\n",
              "      <th>Prediction?</th>\n",
              "      <th>ActualQuestion</th>\n",
              "      <th>PredictedQuestion</th>\n",
              "    </tr>\n",
              "  </thead>\n",
              "  <tbody>\n",
              "    <tr>\n",
              "      <th>0</th>\n",
              "      <td>How difficult is it to find a job?</td>\n",
              "      <td>1</td>\n",
              "      <td>NaN</td>\n",
              "      <td>NaN</td>\n",
              "      <td>What does the job hunting experience look like ?</td>\n",
              "      <td>NaN</td>\n",
              "    </tr>\n",
              "    <tr>\n",
              "      <th>1</th>\n",
              "      <td>Please provide how data science jobs are in th...</td>\n",
              "      <td>2</td>\n",
              "      <td>NaN</td>\n",
              "      <td>NaN</td>\n",
              "      <td>Any insights you can offer about the DS job ma...</td>\n",
              "      <td>NaN</td>\n",
              "    </tr>\n",
              "    <tr>\n",
              "      <th>2</th>\n",
              "      <td>How has the Covid impacted job?</td>\n",
              "      <td>3</td>\n",
              "      <td>NaN</td>\n",
              "      <td>NaN</td>\n",
              "      <td>What's the impact of Covid on hiring for DS ro...</td>\n",
              "      <td>NaN</td>\n",
              "    </tr>\n",
              "    <tr>\n",
              "      <th>3</th>\n",
              "      <td>Tell me about the skills required for Data sci...</td>\n",
              "      <td>4</td>\n",
              "      <td>NaN</td>\n",
              "      <td>NaN</td>\n",
              "      <td>What skills and qualities do employers look fo...</td>\n",
              "      <td>NaN</td>\n",
              "    </tr>\n",
              "    <tr>\n",
              "      <th>4</th>\n",
              "      <td>Is advanced knowledge of ML required?</td>\n",
              "      <td>5</td>\n",
              "      <td>NaN</td>\n",
              "      <td>NaN</td>\n",
              "      <td>Do employers look for an advanced ML degree?</td>\n",
              "      <td>NaN</td>\n",
              "    </tr>\n",
              "    <tr>\n",
              "      <th>5</th>\n",
              "      <td>What are the tasks performed by a data scienti...</td>\n",
              "      <td>6</td>\n",
              "      <td>NaN</td>\n",
              "      <td>NaN</td>\n",
              "      <td>How does a typical day of a data scientist loo...</td>\n",
              "      <td>NaN</td>\n",
              "    </tr>\n",
              "    <tr>\n",
              "      <th>6</th>\n",
              "      <td>How much is data structure important for data ...</td>\n",
              "      <td>7</td>\n",
              "      <td>NaN</td>\n",
              "      <td>NaN</td>\n",
              "      <td>Is preparation of algorithms and data structur...</td>\n",
              "      <td>NaN</td>\n",
              "    </tr>\n",
              "    <tr>\n",
              "      <th>7</th>\n",
              "      <td>How much maths knowledge is required to get a ...</td>\n",
              "      <td>8</td>\n",
              "      <td>NaN</td>\n",
              "      <td>NaN</td>\n",
              "      <td>What is the mathematical background required t...</td>\n",
              "      <td>NaN</td>\n",
              "    </tr>\n",
              "    <tr>\n",
              "      <th>8</th>\n",
              "      <td>How many rounds of interview is done for data ...</td>\n",
              "      <td>9</td>\n",
              "      <td>NaN</td>\n",
              "      <td>NaN</td>\n",
              "      <td>What are the various rounds in a data scientis...</td>\n",
              "      <td>NaN</td>\n",
              "    </tr>\n",
              "    <tr>\n",
              "      <th>9</th>\n",
              "      <td>How much coding experience is required for dat...</td>\n",
              "      <td>10</td>\n",
              "      <td>NaN</td>\n",
              "      <td>NaN</td>\n",
              "      <td>What level of proficiency is needed for a data...</td>\n",
              "      <td>NaN</td>\n",
              "    </tr>\n",
              "  </tbody>\n",
              "</table>\n",
              "</div>"
            ],
            "text/plain": [
              "                                           questions  ...  PredictedQuestion\n",
              "0                 How difficult is it to find a job?  ...                NaN\n",
              "1  Please provide how data science jobs are in th...  ...                NaN\n",
              "2                    How has the Covid impacted job?  ...                NaN\n",
              "3  Tell me about the skills required for Data sci...  ...                NaN\n",
              "4              Is advanced knowledge of ML required?  ...                NaN\n",
              "5  What are the tasks performed by a data scienti...  ...                NaN\n",
              "6  How much is data structure important for data ...  ...                NaN\n",
              "7  How much maths knowledge is required to get a ...  ...                NaN\n",
              "8  How many rounds of interview is done for data ...  ...                NaN\n",
              "9  How much coding experience is required for dat...  ...                NaN\n",
              "\n",
              "[10 rows x 6 columns]"
            ]
          },
          "metadata": {
            "tags": []
          },
          "execution_count": 64
        }
      ]
    },
    {
      "cell_type": "markdown",
      "metadata": {
        "id": "70GOfxKMZb-8"
      },
      "source": [
        "##Data Processing"
      ]
    },
    {
      "cell_type": "code",
      "metadata": {
        "id": "uDzMbWm9Zb-9",
        "outputId": "93216723-b6bf-49f4-cdc4-f56265093258",
        "colab": {
          "base_uri": "https://localhost:8080/"
        }
      },
      "source": [
        "import re\n",
        "import gensim \n",
        "from gensim.parsing.preprocessing import remove_stopwords\n",
        "\n",
        "\n",
        "def clean_sentence(sentence, stopwords=False):\n",
        "    \n",
        "    sentence = sentence.lower().strip()\n",
        "    sentence = re.sub(r'[^a-z0-9\\s]', '', sentence)\n",
        "\n",
        "    \n",
        "    if stopwords:\n",
        "         sentence = remove_stopwords(sentence)\n",
        "    \n",
        "    \n",
        "    return sentence\n",
        "                    \n",
        "def get_cleaned_sentences(tf,stopwords=False):    \n",
        "    sents=tf[[\"questions\"]];\n",
        "    cleaned_sentences=[]\n",
        "\n",
        "    for index,row in tf.iterrows():\n",
        "        #print(index,row)\n",
        "        cleaned=clean_sentence(row[\"questions\"],stopwords);\n",
        "        cleaned_sentences.append(cleaned);\n",
        "    return cleaned_sentences;\n",
        "\n",
        "cleaned_sentences=get_cleaned_sentences(df,stopwords=True)\n",
        "print(cleaned_sentences);\n",
        "\n",
        "print(\"\\n\")\n",
        "\n",
        "cleaned_sentences_with_stopwords=get_cleaned_sentences(df,stopwords=False)\n",
        "print(cleaned_sentences_with_stopwords);"
      ],
      "execution_count": 65,
      "outputs": [
        {
          "output_type": "stream",
          "text": [
            "['job hunting experience look like', 'insights offer ds job market', 'whats impact covid hiring ds roles', 'skills qualities employers look data scientist', 'employers look advanced ml degree', 'typical day data scientist look like', 'preparation algorithms data structures needed data science interview', 'mathematical background required data scientist', 'rounds data scientist interview', 'level proficiency needed data scientist coding']\n",
            "\n",
            "\n",
            "['what does the job hunting experience look like ', 'any insights you can offer about the ds job market ', 'whats the impact of covid on hiring for ds roles', 'what skills and qualities do employers look for in a data scientist', 'do employers look for an advanced ml degree', 'how does a typical day of a data scientist look like', 'is preparation of algorithms and data structures needed for a data science interview ', 'what is the mathematical background required to be a data scientist ', 'what are the various rounds in a data scientist interview ', 'what level of proficiency is needed for a data scientist in coding']\n"
          ],
          "name": "stdout"
        }
      ]
    },
    {
      "cell_type": "code",
      "metadata": {
        "id": "j_iQHZcaZb_A",
        "outputId": "1323fb92-0c36-4e83-b960-5b46674a88f1",
        "colab": {
          "base_uri": "https://localhost:8080/"
        }
      },
      "source": [
        "print(cleaned_sentences_with_stopwords[0]);"
      ],
      "execution_count": 66,
      "outputs": [
        {
          "output_type": "stream",
          "text": [
            "what does the job hunting experience look like \n"
          ],
          "name": "stdout"
        }
      ]
    },
    {
      "cell_type": "markdown",
      "metadata": {
        "id": "UsWtaD0eZb_D"
      },
      "source": [
        "##Bag of Words Model"
      ]
    },
    {
      "cell_type": "code",
      "metadata": {
        "id": "IqudJpicZb_D",
        "outputId": "a51e7045-a01f-49ce-e7ee-b9c3e5192b50",
        "colab": {
          "base_uri": "https://localhost:8080/",
          "height": 0
        }
      },
      "source": [
        "import numpy\n",
        "import pprint\n",
        "\n",
        "sentences=cleaned_sentences_with_stopwords\n",
        "\n",
        "\n",
        "# Split it by white space \n",
        "sentence_words = [[word for word in document.split() ]\n",
        "         for document in sentences]\n",
        "\n",
        "from gensim import corpora\n",
        "\n",
        "dictionary = corpora.Dictionary(sentence_words)\n",
        "'''\n",
        "for key, value in dictionary.items():\n",
        "    print(key, ' : ', value)\n",
        "'''\n",
        "\n",
        "bow_corpus = [dictionary.doc2bow(text) for text in sentence_words]\n",
        "'''\n",
        "for sent,embedding in zip(sentences,bow_corpus):\n",
        "    print(sent)\n",
        "    print(embedding)\n",
        "'''\n"
      ],
      "execution_count": 67,
      "outputs": [
        {
          "output_type": "execute_result",
          "data": {
            "application/vnd.google.colaboratory.intrinsic+json": {
              "type": "string"
            },
            "text/plain": [
              "'\\nfor sent,embedding in zip(sentences,bow_corpus):\\n    print(sent)\\n    print(embedding)\\n'"
            ]
          },
          "metadata": {
            "tags": []
          },
          "execution_count": 67
        }
      ]
    },
    {
      "cell_type": "code",
      "metadata": {
        "id": "qoZHZHxrZb_G",
        "outputId": "b2c35ac5-f6a6-4cfe-f13a-82dcb0fe1daa",
        "colab": {
          "base_uri": "https://localhost:8080/"
        }
      },
      "source": [
        "#question_orig=\"What does a data scientist usually do ?\"\n",
        "#question_orig=input()\n",
        "cleaned_sentences_test=get_cleaned_sentences(df_test,stopwords=False)\n",
        "print(cleaned_sentences_test);\n",
        "\n"
      ],
      "execution_count": 68,
      "outputs": [
        {
          "output_type": "stream",
          "text": [
            "['how difficult is it to find a job', 'please provide how data science jobs are in the market', 'how has the covid impacted job', 'tell me about the skills required for data science in the industry', 'is advanced knowledge of ml required', 'what are the tasks performed by a data scientist in a day', 'how much is data structure important for data science positions', 'how much maths knowledge is required to get a data science job', 'how many rounds of interview is done for data science roles', 'how much coding experience is required for data science positions']\n"
          ],
          "name": "stdout"
        }
      ]
    },
    {
      "cell_type": "code",
      "metadata": {
        "id": "WBKtH-noZb_J",
        "outputId": "ced93f36-2550-44e2-df2a-940fef197d94",
        "colab": {
          "base_uri": "https://localhost:8080/"
        }
      },
      "source": [
        "import numpy\n",
        "import pprint\n",
        "\n",
        "sentences_test=cleaned_sentences_test\n",
        "\n",
        "\n",
        "# Split it by white space \n",
        "sentence_words_test = [[word for word in document.split() ]\n",
        "         for document in sentences_test]\n",
        "\n",
        "from gensim import corpora\n",
        "\n",
        "dictionary_test = corpora.Dictionary(sentence_words_test)\n",
        "\n",
        "for key, value in dictionary_test.items():\n",
        "    print(key, ' : ', value)\n",
        "\n",
        "\n",
        "bow_corpus_test = [dictionary_test.doc2bow(text) for text in sentence_words_test]\n",
        "\n",
        "for sent,embedding in zip(sentences_test,bow_corpus_test):\n",
        "    print(sent)\n",
        "    print(embedding)\n",
        "\n"
      ],
      "execution_count": 69,
      "outputs": [
        {
          "output_type": "stream",
          "text": [
            "0  :  a\n",
            "1  :  difficult\n",
            "2  :  find\n",
            "3  :  how\n",
            "4  :  is\n",
            "5  :  it\n",
            "6  :  job\n",
            "7  :  to\n",
            "8  :  are\n",
            "9  :  data\n",
            "10  :  in\n",
            "11  :  jobs\n",
            "12  :  market\n",
            "13  :  please\n",
            "14  :  provide\n",
            "15  :  science\n",
            "16  :  the\n",
            "17  :  covid\n",
            "18  :  has\n",
            "19  :  impacted\n",
            "20  :  about\n",
            "21  :  for\n",
            "22  :  industry\n",
            "23  :  me\n",
            "24  :  required\n",
            "25  :  skills\n",
            "26  :  tell\n",
            "27  :  advanced\n",
            "28  :  knowledge\n",
            "29  :  ml\n",
            "30  :  of\n",
            "31  :  by\n",
            "32  :  day\n",
            "33  :  performed\n",
            "34  :  scientist\n",
            "35  :  tasks\n",
            "36  :  what\n",
            "37  :  important\n",
            "38  :  much\n",
            "39  :  positions\n",
            "40  :  structure\n",
            "41  :  get\n",
            "42  :  maths\n",
            "43  :  done\n",
            "44  :  interview\n",
            "45  :  many\n",
            "46  :  roles\n",
            "47  :  rounds\n",
            "48  :  coding\n",
            "49  :  experience\n",
            "how difficult is it to find a job\n",
            "[(0, 1), (1, 1), (2, 1), (3, 1), (4, 1), (5, 1), (6, 1), (7, 1)]\n",
            "please provide how data science jobs are in the market\n",
            "[(3, 1), (8, 1), (9, 1), (10, 1), (11, 1), (12, 1), (13, 1), (14, 1), (15, 1), (16, 1)]\n",
            "how has the covid impacted job\n",
            "[(3, 1), (6, 1), (16, 1), (17, 1), (18, 1), (19, 1)]\n",
            "tell me about the skills required for data science in the industry\n",
            "[(9, 1), (10, 1), (15, 1), (16, 2), (20, 1), (21, 1), (22, 1), (23, 1), (24, 1), (25, 1), (26, 1)]\n",
            "is advanced knowledge of ml required\n",
            "[(4, 1), (24, 1), (27, 1), (28, 1), (29, 1), (30, 1)]\n",
            "what are the tasks performed by a data scientist in a day\n",
            "[(0, 2), (8, 1), (9, 1), (10, 1), (16, 1), (31, 1), (32, 1), (33, 1), (34, 1), (35, 1), (36, 1)]\n",
            "how much is data structure important for data science positions\n",
            "[(3, 1), (4, 1), (9, 2), (15, 1), (21, 1), (37, 1), (38, 1), (39, 1), (40, 1)]\n",
            "how much maths knowledge is required to get a data science job\n",
            "[(0, 1), (3, 1), (4, 1), (6, 1), (7, 1), (9, 1), (15, 1), (24, 1), (28, 1), (38, 1), (41, 1), (42, 1)]\n",
            "how many rounds of interview is done for data science roles\n",
            "[(3, 1), (4, 1), (9, 1), (15, 1), (21, 1), (30, 1), (43, 1), (44, 1), (45, 1), (46, 1), (47, 1)]\n",
            "how much coding experience is required for data science positions\n",
            "[(3, 1), (4, 1), (9, 1), (15, 1), (21, 1), (24, 1), (38, 1), (39, 1), (48, 1), (49, 1)]\n"
          ],
          "name": "stdout"
        }
      ]
    },
    {
      "cell_type": "code",
      "metadata": {
        "id": "gCRRti1VZb_L",
        "outputId": "07b1fb6e-8bfd-4ce4-b9c1-ffaadf54f044",
        "colab": {
          "base_uri": "https://localhost:8080/"
        }
      },
      "source": [
        "import sklearn\n",
        "from sklearn.metrics.pairwise import cosine_similarity;\n",
        "def retrieveAndPrintFAQAnswer(question_embeddings_test,sentence_embeddings,FAQdf,sentences,FAQdf_test,sentences_test):\n",
        "  for index_test,faq_embedding_test in enumerate(question_embeddings_test):\n",
        "    max_sim=-1;\n",
        "    index_sim=-1;\n",
        "    for index,faq_embedding in enumerate(sentence_embeddings):\n",
        "        \n",
        "      sim=cosine_similarity(faq_embedding,faq_embedding_test)[0][0];\n",
        "      #print(index, sim, sentences[index])\n",
        "      if sim>max_sim:\n",
        "        max_sim=sim;\n",
        "        index_sim=index;\n",
        "\n",
        "    FAQdf_test.iloc[index_test,2]=FAQdf.iloc[index_sim,2]\n",
        "    FAQdf_test.iloc[index_test,5]=FAQdf.iloc[index_sim,0]\n",
        "    print(\"\\n\")\n",
        "    print(\"Question: \",sentences_test[index_test])\n",
        "    print(\"\\n\");\n",
        "    print(\"Retrieved: \",FAQdf.iloc[index_sim,0]) \n",
        "    print(\"Answer:\",FAQdf.iloc[index_sim,1])        \n",
        "  df_test=FAQdf_test \n",
        "retrieveAndPrintFAQAnswer(bow_corpus_test,bow_corpus,df,sentences,df_test,sentences_test);"
      ],
      "execution_count": 70,
      "outputs": [
        {
          "output_type": "stream",
          "text": [
            "\n",
            "\n",
            "Question:  how difficult is it to find a job\n",
            "\n",
            "\n",
            "Retrieved:  What does the job hunting experience look like ?\n",
            "Answer: Job hunting experience involves networking to get in touch with the right people in various companies, applying to lots of jobs through various channels, preparing for interviews – while interviews are uncertain it is necessary to prepare well what you CAN prepare, smart scheduling of interviews to get the best job and salary you can.\n",
            "\n",
            "\n",
            "Question:  please provide how data science jobs are in the market\n",
            "\n",
            "\n",
            "Retrieved:  Any insights you can offer about the DS job market ?\n",
            "Answer: There are many kinds of roles, data scientist, analyst, data engineer and so on. There are many levels of companies. In smaller companies the roles are usually combined into one while in larger companies there are more nuanced roles. Since more and more companies are just getting started on their data journey, the overall demand is expected to increase in the next few years.\n",
            "\n",
            "\n",
            "Question:  how has the covid impacted job\n",
            "\n",
            "\n",
            "Retrieved:  Any insights you can offer about the DS job market ?\n",
            "Answer: There are many kinds of roles, data scientist, analyst, data engineer and so on. There are many levels of companies. In smaller companies the roles are usually combined into one while in larger companies there are more nuanced roles. Since more and more companies are just getting started on their data journey, the overall demand is expected to increase in the next few years.\n",
            "\n",
            "\n",
            "Question:  tell me about the skills required for data science in the industry\n",
            "\n",
            "\n",
            "Retrieved:  What level of proficiency is needed for a data scientist in coding?\n",
            "Answer: Needs to be reasonably proficient. Again, a data scientist is a developer ++. Usually expected to have the basic skills a developer has including understanding algorithms and data structures and being able to write clean, understable, efficient, well documented code.\n",
            "\n",
            "In many cases, the data scientist is expected to write production ready code and be able to understand the deployment process. In some cases, the coding could be for decision support.\n",
            "\n",
            "\n",
            "Question:  is advanced knowledge of ml required\n",
            "\n",
            "\n",
            "Retrieved:  What skills and qualities do employers look for in a data scientist?\n",
            "Answer: The following are some skills employers usually look for: \n",
            "\n",
            "(1) Should be good at coding \n",
            "(2) Should have good problem solving and analysis skills \n",
            "(3) Should be good with stats and building testing and deploying models. \n",
            "\n",
            "A data scientist is a software developer ++ with stats and modeling skills to build and deploy models and make inferences from data.\n",
            "\n",
            "\n",
            "Question:  what are the tasks performed by a data scientist in a day\n",
            "\n",
            "\n",
            "Retrieved:  What does the job hunting experience look like ?\n",
            "Answer: Job hunting experience involves networking to get in touch with the right people in various companies, applying to lots of jobs through various channels, preparing for interviews – while interviews are uncertain it is necessary to prepare well what you CAN prepare, smart scheduling of interviews to get the best job and salary you can.\n",
            "\n",
            "\n",
            "Question:  how much is data structure important for data science positions\n",
            "\n",
            "\n",
            "Retrieved:  Any insights you can offer about the DS job market ?\n",
            "Answer: There are many kinds of roles, data scientist, analyst, data engineer and so on. There are many levels of companies. In smaller companies the roles are usually combined into one while in larger companies there are more nuanced roles. Since more and more companies are just getting started on their data journey, the overall demand is expected to increase in the next few years.\n",
            "\n",
            "\n",
            "Question:  how much maths knowledge is required to get a data science job\n",
            "\n",
            "\n",
            "Retrieved:  What does the job hunting experience look like ?\n",
            "Answer: Job hunting experience involves networking to get in touch with the right people in various companies, applying to lots of jobs through various channels, preparing for interviews – while interviews are uncertain it is necessary to prepare well what you CAN prepare, smart scheduling of interviews to get the best job and salary you can.\n",
            "\n",
            "\n",
            "Question:  how many rounds of interview is done for data science roles\n",
            "\n",
            "\n",
            "Retrieved:  Any insights you can offer about the DS job market ?\n",
            "Answer: There are many kinds of roles, data scientist, analyst, data engineer and so on. There are many levels of companies. In smaller companies the roles are usually combined into one while in larger companies there are more nuanced roles. Since more and more companies are just getting started on their data journey, the overall demand is expected to increase in the next few years.\n",
            "\n",
            "\n",
            "Question:  how much coding experience is required for data science positions\n",
            "\n",
            "\n",
            "Retrieved:  Any insights you can offer about the DS job market ?\n",
            "Answer: There are many kinds of roles, data scientist, analyst, data engineer and so on. There are many levels of companies. In smaller companies the roles are usually combined into one while in larger companies there are more nuanced roles. Since more and more companies are just getting started on their data journey, the overall demand is expected to increase in the next few years.\n"
          ],
          "name": "stdout"
        }
      ]
    },
    {
      "cell_type": "code",
      "metadata": {
        "id": "wpX-bGiyZb_P",
        "outputId": "3755e01d-6669-405a-cb9a-16a4ff876528",
        "colab": {
          "base_uri": "https://localhost:8080/",
          "height": 0
        }
      },
      "source": [
        "df_test"
      ],
      "execution_count": 71,
      "outputs": [
        {
          "output_type": "execute_result",
          "data": {
            "text/html": [
              "<div>\n",
              "<style scoped>\n",
              "    .dataframe tbody tr th:only-of-type {\n",
              "        vertical-align: middle;\n",
              "    }\n",
              "\n",
              "    .dataframe tbody tr th {\n",
              "        vertical-align: top;\n",
              "    }\n",
              "\n",
              "    .dataframe thead th {\n",
              "        text-align: right;\n",
              "    }\n",
              "</style>\n",
              "<table border=\"1\" class=\"dataframe\">\n",
              "  <thead>\n",
              "    <tr style=\"text-align: right;\">\n",
              "      <th></th>\n",
              "      <th>questions</th>\n",
              "      <th>ActualCode</th>\n",
              "      <th>PredictedCode</th>\n",
              "      <th>Prediction?</th>\n",
              "      <th>ActualQuestion</th>\n",
              "      <th>PredictedQuestion</th>\n",
              "    </tr>\n",
              "  </thead>\n",
              "  <tbody>\n",
              "    <tr>\n",
              "      <th>0</th>\n",
              "      <td>How difficult is it to find a job?</td>\n",
              "      <td>1</td>\n",
              "      <td>1.0</td>\n",
              "      <td>NaN</td>\n",
              "      <td>What does the job hunting experience look like ?</td>\n",
              "      <td>What does the job hunting experience look like ?</td>\n",
              "    </tr>\n",
              "    <tr>\n",
              "      <th>1</th>\n",
              "      <td>Please provide how data science jobs are in th...</td>\n",
              "      <td>2</td>\n",
              "      <td>2.0</td>\n",
              "      <td>NaN</td>\n",
              "      <td>Any insights you can offer about the DS job ma...</td>\n",
              "      <td>Any insights you can offer about the DS job ma...</td>\n",
              "    </tr>\n",
              "    <tr>\n",
              "      <th>2</th>\n",
              "      <td>How has the Covid impacted job?</td>\n",
              "      <td>3</td>\n",
              "      <td>2.0</td>\n",
              "      <td>NaN</td>\n",
              "      <td>What's the impact of Covid on hiring for DS ro...</td>\n",
              "      <td>Any insights you can offer about the DS job ma...</td>\n",
              "    </tr>\n",
              "    <tr>\n",
              "      <th>3</th>\n",
              "      <td>Tell me about the skills required for Data sci...</td>\n",
              "      <td>4</td>\n",
              "      <td>10.0</td>\n",
              "      <td>NaN</td>\n",
              "      <td>What skills and qualities do employers look fo...</td>\n",
              "      <td>What level of proficiency is needed for a data...</td>\n",
              "    </tr>\n",
              "    <tr>\n",
              "      <th>4</th>\n",
              "      <td>Is advanced knowledge of ML required?</td>\n",
              "      <td>5</td>\n",
              "      <td>4.0</td>\n",
              "      <td>NaN</td>\n",
              "      <td>Do employers look for an advanced ML degree?</td>\n",
              "      <td>What skills and qualities do employers look fo...</td>\n",
              "    </tr>\n",
              "    <tr>\n",
              "      <th>5</th>\n",
              "      <td>What are the tasks performed by a data scienti...</td>\n",
              "      <td>6</td>\n",
              "      <td>1.0</td>\n",
              "      <td>NaN</td>\n",
              "      <td>How does a typical day of a data scientist loo...</td>\n",
              "      <td>What does the job hunting experience look like ?</td>\n",
              "    </tr>\n",
              "    <tr>\n",
              "      <th>6</th>\n",
              "      <td>How much is data structure important for data ...</td>\n",
              "      <td>7</td>\n",
              "      <td>2.0</td>\n",
              "      <td>NaN</td>\n",
              "      <td>Is preparation of algorithms and data structur...</td>\n",
              "      <td>Any insights you can offer about the DS job ma...</td>\n",
              "    </tr>\n",
              "    <tr>\n",
              "      <th>7</th>\n",
              "      <td>How much maths knowledge is required to get a ...</td>\n",
              "      <td>8</td>\n",
              "      <td>1.0</td>\n",
              "      <td>NaN</td>\n",
              "      <td>What is the mathematical background required t...</td>\n",
              "      <td>What does the job hunting experience look like ?</td>\n",
              "    </tr>\n",
              "    <tr>\n",
              "      <th>8</th>\n",
              "      <td>How many rounds of interview is done for data ...</td>\n",
              "      <td>9</td>\n",
              "      <td>2.0</td>\n",
              "      <td>NaN</td>\n",
              "      <td>What are the various rounds in a data scientis...</td>\n",
              "      <td>Any insights you can offer about the DS job ma...</td>\n",
              "    </tr>\n",
              "    <tr>\n",
              "      <th>9</th>\n",
              "      <td>How much coding experience is required for dat...</td>\n",
              "      <td>10</td>\n",
              "      <td>2.0</td>\n",
              "      <td>NaN</td>\n",
              "      <td>What level of proficiency is needed for a data...</td>\n",
              "      <td>Any insights you can offer about the DS job ma...</td>\n",
              "    </tr>\n",
              "  </tbody>\n",
              "</table>\n",
              "</div>"
            ],
            "text/plain": [
              "                                           questions  ...                                  PredictedQuestion\n",
              "0                 How difficult is it to find a job?  ...   What does the job hunting experience look like ?\n",
              "1  Please provide how data science jobs are in th...  ...  Any insights you can offer about the DS job ma...\n",
              "2                    How has the Covid impacted job?  ...  Any insights you can offer about the DS job ma...\n",
              "3  Tell me about the skills required for Data sci...  ...  What level of proficiency is needed for a data...\n",
              "4              Is advanced knowledge of ML required?  ...  What skills and qualities do employers look fo...\n",
              "5  What are the tasks performed by a data scienti...  ...   What does the job hunting experience look like ?\n",
              "6  How much is data structure important for data ...  ...  Any insights you can offer about the DS job ma...\n",
              "7  How much maths knowledge is required to get a ...  ...   What does the job hunting experience look like ?\n",
              "8  How many rounds of interview is done for data ...  ...  Any insights you can offer about the DS job ma...\n",
              "9  How much coding experience is required for dat...  ...  Any insights you can offer about the DS job ma...\n",
              "\n",
              "[10 rows x 6 columns]"
            ]
          },
          "metadata": {
            "tags": []
          },
          "execution_count": 71
        }
      ]
    },
    {
      "cell_type": "code",
      "metadata": {
        "id": "qcnZDhALZb_R"
      },
      "source": [
        "for i in range(df_test.shape[0]):\n",
        " if df_test.iloc[i,1]!=df_test.iloc[i,2]:\n",
        "   df_test.iloc[i,3]='InCorrect'\n",
        " else:\n",
        "   df_test.iloc[i,3]='correct'\n"
      ],
      "execution_count": 72,
      "outputs": []
    },
    {
      "cell_type": "code",
      "metadata": {
        "id": "SvQHAG3mZb_T",
        "outputId": "3acf22cc-2054-48c7-8517-48500bcab266",
        "colab": {
          "base_uri": "https://localhost:8080/",
          "height": 0
        }
      },
      "source": [
        "df_test"
      ],
      "execution_count": 73,
      "outputs": [
        {
          "output_type": "execute_result",
          "data": {
            "text/html": [
              "<div>\n",
              "<style scoped>\n",
              "    .dataframe tbody tr th:only-of-type {\n",
              "        vertical-align: middle;\n",
              "    }\n",
              "\n",
              "    .dataframe tbody tr th {\n",
              "        vertical-align: top;\n",
              "    }\n",
              "\n",
              "    .dataframe thead th {\n",
              "        text-align: right;\n",
              "    }\n",
              "</style>\n",
              "<table border=\"1\" class=\"dataframe\">\n",
              "  <thead>\n",
              "    <tr style=\"text-align: right;\">\n",
              "      <th></th>\n",
              "      <th>questions</th>\n",
              "      <th>ActualCode</th>\n",
              "      <th>PredictedCode</th>\n",
              "      <th>Prediction?</th>\n",
              "      <th>ActualQuestion</th>\n",
              "      <th>PredictedQuestion</th>\n",
              "    </tr>\n",
              "  </thead>\n",
              "  <tbody>\n",
              "    <tr>\n",
              "      <th>0</th>\n",
              "      <td>How difficult is it to find a job?</td>\n",
              "      <td>1</td>\n",
              "      <td>1.0</td>\n",
              "      <td>correct</td>\n",
              "      <td>What does the job hunting experience look like ?</td>\n",
              "      <td>What does the job hunting experience look like ?</td>\n",
              "    </tr>\n",
              "    <tr>\n",
              "      <th>1</th>\n",
              "      <td>Please provide how data science jobs are in th...</td>\n",
              "      <td>2</td>\n",
              "      <td>2.0</td>\n",
              "      <td>correct</td>\n",
              "      <td>Any insights you can offer about the DS job ma...</td>\n",
              "      <td>Any insights you can offer about the DS job ma...</td>\n",
              "    </tr>\n",
              "    <tr>\n",
              "      <th>2</th>\n",
              "      <td>How has the Covid impacted job?</td>\n",
              "      <td>3</td>\n",
              "      <td>2.0</td>\n",
              "      <td>InCorrect</td>\n",
              "      <td>What's the impact of Covid on hiring for DS ro...</td>\n",
              "      <td>Any insights you can offer about the DS job ma...</td>\n",
              "    </tr>\n",
              "    <tr>\n",
              "      <th>3</th>\n",
              "      <td>Tell me about the skills required for Data sci...</td>\n",
              "      <td>4</td>\n",
              "      <td>10.0</td>\n",
              "      <td>InCorrect</td>\n",
              "      <td>What skills and qualities do employers look fo...</td>\n",
              "      <td>What level of proficiency is needed for a data...</td>\n",
              "    </tr>\n",
              "    <tr>\n",
              "      <th>4</th>\n",
              "      <td>Is advanced knowledge of ML required?</td>\n",
              "      <td>5</td>\n",
              "      <td>4.0</td>\n",
              "      <td>InCorrect</td>\n",
              "      <td>Do employers look for an advanced ML degree?</td>\n",
              "      <td>What skills and qualities do employers look fo...</td>\n",
              "    </tr>\n",
              "    <tr>\n",
              "      <th>5</th>\n",
              "      <td>What are the tasks performed by a data scienti...</td>\n",
              "      <td>6</td>\n",
              "      <td>1.0</td>\n",
              "      <td>InCorrect</td>\n",
              "      <td>How does a typical day of a data scientist loo...</td>\n",
              "      <td>What does the job hunting experience look like ?</td>\n",
              "    </tr>\n",
              "    <tr>\n",
              "      <th>6</th>\n",
              "      <td>How much is data structure important for data ...</td>\n",
              "      <td>7</td>\n",
              "      <td>2.0</td>\n",
              "      <td>InCorrect</td>\n",
              "      <td>Is preparation of algorithms and data structur...</td>\n",
              "      <td>Any insights you can offer about the DS job ma...</td>\n",
              "    </tr>\n",
              "    <tr>\n",
              "      <th>7</th>\n",
              "      <td>How much maths knowledge is required to get a ...</td>\n",
              "      <td>8</td>\n",
              "      <td>1.0</td>\n",
              "      <td>InCorrect</td>\n",
              "      <td>What is the mathematical background required t...</td>\n",
              "      <td>What does the job hunting experience look like ?</td>\n",
              "    </tr>\n",
              "    <tr>\n",
              "      <th>8</th>\n",
              "      <td>How many rounds of interview is done for data ...</td>\n",
              "      <td>9</td>\n",
              "      <td>2.0</td>\n",
              "      <td>InCorrect</td>\n",
              "      <td>What are the various rounds in a data scientis...</td>\n",
              "      <td>Any insights you can offer about the DS job ma...</td>\n",
              "    </tr>\n",
              "    <tr>\n",
              "      <th>9</th>\n",
              "      <td>How much coding experience is required for dat...</td>\n",
              "      <td>10</td>\n",
              "      <td>2.0</td>\n",
              "      <td>InCorrect</td>\n",
              "      <td>What level of proficiency is needed for a data...</td>\n",
              "      <td>Any insights you can offer about the DS job ma...</td>\n",
              "    </tr>\n",
              "  </tbody>\n",
              "</table>\n",
              "</div>"
            ],
            "text/plain": [
              "                                           questions  ...                                  PredictedQuestion\n",
              "0                 How difficult is it to find a job?  ...   What does the job hunting experience look like ?\n",
              "1  Please provide how data science jobs are in th...  ...  Any insights you can offer about the DS job ma...\n",
              "2                    How has the Covid impacted job?  ...  Any insights you can offer about the DS job ma...\n",
              "3  Tell me about the skills required for Data sci...  ...  What level of proficiency is needed for a data...\n",
              "4              Is advanced knowledge of ML required?  ...  What skills and qualities do employers look fo...\n",
              "5  What are the tasks performed by a data scienti...  ...   What does the job hunting experience look like ?\n",
              "6  How much is data structure important for data ...  ...  Any insights you can offer about the DS job ma...\n",
              "7  How much maths knowledge is required to get a ...  ...   What does the job hunting experience look like ?\n",
              "8  How many rounds of interview is done for data ...  ...  Any insights you can offer about the DS job ma...\n",
              "9  How much coding experience is required for dat...  ...  Any insights you can offer about the DS job ma...\n",
              "\n",
              "[10 rows x 6 columns]"
            ]
          },
          "metadata": {
            "tags": []
          },
          "execution_count": 73
        }
      ]
    },
    {
      "cell_type": "code",
      "metadata": {
        "id": "RRMSVqITZb_U"
      },
      "source": [
        "list_data_answers=df_test.ActualCode.values.tolist()\n",
        "list_data_FoundCode=df_test.PredictedCode.values.tolist()"
      ],
      "execution_count": 74,
      "outputs": []
    },
    {
      "cell_type": "code",
      "metadata": {
        "id": "h8UQ_llAZb_W",
        "outputId": "60290cef-2326-4175-f270-8657cdbe48cb",
        "colab": {
          "base_uri": "https://localhost:8080/"
        }
      },
      "source": [
        "list_data_FoundCode"
      ],
      "execution_count": 75,
      "outputs": [
        {
          "output_type": "execute_result",
          "data": {
            "text/plain": [
              "[1.0, 2.0, 2.0, 10.0, 4.0, 1.0, 2.0, 1.0, 2.0, 2.0]"
            ]
          },
          "metadata": {
            "tags": []
          },
          "execution_count": 75
        }
      ]
    },
    {
      "cell_type": "code",
      "metadata": {
        "id": "RYai_-xFZb_Y",
        "outputId": "e25e046e-a4dc-482e-ebbd-b8e16cc83737",
        "colab": {
          "base_uri": "https://localhost:8080/"
        }
      },
      "source": [
        "from sklearn.metrics import multilabel_confusion_matrix\n",
        "from sklearn import metrics\n",
        "multilabel_confusion_matrix(list_data_answers, list_data_FoundCode)\n",
        "#tn, fp, fn, tp = confusion_matrix([1, 2, 3, 4, 5, 6, 7, 8, 9, 10], [1.0, 2.0, 2.0, 10.0, 4.0, 1.0, 2.0, 1.0, 2.0, 2.0]).ravel()\n",
        "#print(metrics.classification_report(list_data_answers, list_data_FoundCode))"
      ],
      "execution_count": 76,
      "outputs": [
        {
          "output_type": "execute_result",
          "data": {
            "text/plain": [
              "array([[[7, 2],\n",
              "        [0, 1]],\n",
              "\n",
              "       [[5, 4],\n",
              "        [0, 1]],\n",
              "\n",
              "       [[9, 0],\n",
              "        [1, 0]],\n",
              "\n",
              "       [[8, 1],\n",
              "        [1, 0]],\n",
              "\n",
              "       [[9, 0],\n",
              "        [1, 0]],\n",
              "\n",
              "       [[9, 0],\n",
              "        [1, 0]],\n",
              "\n",
              "       [[9, 0],\n",
              "        [1, 0]],\n",
              "\n",
              "       [[9, 0],\n",
              "        [1, 0]],\n",
              "\n",
              "       [[9, 0],\n",
              "        [1, 0]],\n",
              "\n",
              "       [[8, 1],\n",
              "        [1, 0]]])"
            ]
          },
          "metadata": {
            "tags": []
          },
          "execution_count": 76
        }
      ]
    },
    {
      "cell_type": "code",
      "metadata": {
        "id": "rA-edSC0Zb_a"
      },
      "source": [
        "import matplotlib.pyplot as plt\n",
        "from mlxtend.evaluate import confusion_matrix\n",
        "\n",
        "\n",
        "cm = confusion_matrix(list_data_answers, list_data_FoundCode, binary=False)"
      ],
      "execution_count": 77,
      "outputs": []
    },
    {
      "cell_type": "code",
      "metadata": {
        "id": "YwMDkyQxZb_b",
        "outputId": "cc8cf455-6d33-493e-f337-45488c454e6b",
        "colab": {
          "base_uri": "https://localhost:8080/",
          "height": 0
        }
      },
      "source": [
        "import matplotlib.pyplot as plt\n",
        "from mlxtend.evaluate import confusion_matrix\n",
        "\n",
        "fig, ax = plot_confusion_matrix(conf_mat=cm)\n",
        "plt.show()"
      ],
      "execution_count": 78,
      "outputs": [
        {
          "output_type": "display_data",
          "data": {
            "image/png": "[encoded data removed]",
            "text/plain": [
              "<Figure size 432x288 with 1 Axes>"
            ]
          },
          "metadata": {
            "tags": [],
            "needs_background": "light"
          }
        }
      ]
    },
    {
      "cell_type": "code",
      "metadata": {
        "id": "LimHY6u_Zb_d",
        "outputId": "b286e75f-457b-4448-c3bd-0d46e1149913",
        "colab": {
          "base_uri": "https://localhost:8080/"
        }
      },
      "source": [
        "print(metrics.classification_report(list_data_answers, list_data_FoundCode))"
      ],
      "execution_count": 79,
      "outputs": [
        {
          "output_type": "stream",
          "text": [
            "              precision    recall  f1-score   support\n",
            "\n",
            "           1       0.33      1.00      0.50         1\n",
            "           2       0.20      1.00      0.33         1\n",
            "           3       0.00      0.00      0.00         1\n",
            "           4       0.00      0.00      0.00         1\n",
            "           5       0.00      0.00      0.00         1\n",
            "           6       0.00      0.00      0.00         1\n",
            "           7       0.00      0.00      0.00         1\n",
            "           8       0.00      0.00      0.00         1\n",
            "           9       0.00      0.00      0.00         1\n",
            "          10       0.00      0.00      0.00         1\n",
            "\n",
            "    accuracy                           0.20        10\n",
            "   macro avg       0.05      0.20      0.08        10\n",
            "weighted avg       0.05      0.20      0.08        10\n",
            "\n"
          ],
          "name": "stdout"
        },
        {
          "output_type": "stream",
          "text": [
            "/usr/local/lib/python3.6/dist-packages/sklearn/metrics/_classification.py:1272: UndefinedMetricWarning: Precision and F-score are ill-defined and being set to 0.0 in labels with no predicted samples. Use `zero_division` parameter to control this behavior.\n",
            "  _warn_prf(average, modifier, msg_start, len(result))\n"
          ],
          "name": "stderr"
        }
      ]
    }
  ]
}