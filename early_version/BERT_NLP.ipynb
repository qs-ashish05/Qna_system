{
  "nbformat": 4,
  "nbformat_minor": 0,
  "metadata": {
    "colab": {
      "name": "BERT_NLP.ipynb",
      "provenance": [],
      "collapsed_sections": [
        "AcG8ZO1iQqn5",
        "fZ3ut8XCatI8",
        "ONl2oh28HSIL",
        "j_fMj1SFzvWH",
        "At7st3UmL1v5"
      ],
      "toc_visible": true
    },
    "kernelspec": {
      "name": "python3",
      "display_name": "Python 3"
    },
    "accelerator": "GPU"
  },
  "cells": [
    {
      "cell_type": "markdown",
      "metadata": {
        "id": "AcG8ZO1iQqn5"
      },
      "source": [
        "##BERT Installations"
      ]
    },
    {
      "cell_type": "code",
      "metadata": {
        "id": "c0BSQJNH-HF1",
        "outputId": "265879b6-5ab6-43e8-9b8b-012901a2be67",
        "colab": {
          "base_uri": "https://localhost:8080/"
        }
      },
      "source": [
        "#Install the server and client via pip. They can be installed separately or even on different machines\n",
        "!pip install bert-serving-client"
      ],
      "execution_count": 1,
      "outputs": [
        {
          "output_type": "stream",
          "text": [
            "Collecting bert-serving-client\n",
            "  Downloading https://files.pythonhosted.org/packages/1f/09/aae1405378a848b2e87769ad89a43d6d71978c4e15534ca48e82e723a72f/bert_serving_client-1.10.0-py2.py3-none-any.whl\n",
            "Requirement already satisfied: pyzmq>=17.1.0 in /usr/local/lib/python3.6/dist-packages (from bert-serving-client) (19.0.2)\n",
            "Requirement already satisfied: numpy in /usr/local/lib/python3.6/dist-packages (from bert-serving-client) (1.18.5)\n",
            "Installing collected packages: bert-serving-client\n",
            "Successfully installed bert-serving-client-1.10.0\n"
          ],
          "name": "stdout"
        }
      ]
    },
    {
      "cell_type": "code",
      "metadata": {
        "id": "pCgft3wa-SmF",
        "outputId": "6f066c15-4f98-4244-d6c5-8b9a8d80d95e",
        "colab": {
          "base_uri": "https://localhost:8080/"
        }
      },
      "source": [
        "!pip install -U bert-serving-server[http]"
      ],
      "execution_count": 2,
      "outputs": [
        {
          "output_type": "stream",
          "text": [
            "Collecting bert-serving-server[http]\n",
            "\u001b[?25l  Downloading https://files.pythonhosted.org/packages/b0/bd/cab677bbd0c5fb08b72e468371d2bca6ed9507785739b4656b0b5470d90b/bert_serving_server-1.10.0-py3-none-any.whl (61kB)\n",
            "\u001b[K     |████████████████████████████████| 71kB 5.6MB/s \n",
            "\u001b[?25hRequirement already satisfied, skipping upgrade: numpy in /usr/local/lib/python3.6/dist-packages (from bert-serving-server[http]) (1.18.5)\n",
            "Requirement already satisfied, skipping upgrade: pyzmq>=17.1.0 in /usr/local/lib/python3.6/dist-packages (from bert-serving-server[http]) (19.0.2)\n",
            "Requirement already satisfied, skipping upgrade: six in /usr/local/lib/python3.6/dist-packages (from bert-serving-server[http]) (1.15.0)\n",
            "Collecting GPUtil>=1.3.0\n",
            "  Downloading https://files.pythonhosted.org/packages/ed/0e/5c61eedde9f6c87713e89d794f01e378cfd9565847d4576fa627d758c554/GPUtil-1.4.0.tar.gz\n",
            "Requirement already satisfied, skipping upgrade: termcolor>=1.1 in /usr/local/lib/python3.6/dist-packages (from bert-serving-server[http]) (1.1.0)\n",
            "Requirement already satisfied, skipping upgrade: bert-serving-client; extra == \"http\" in /usr/local/lib/python3.6/dist-packages (from bert-serving-server[http]) (1.10.0)\n",
            "Collecting flask-cors; extra == \"http\"\n",
            "  Downloading https://files.pythonhosted.org/packages/69/7f/d0aeaaafb5c3c76c8d2141dbe2d4f6dca5d6c31872d4e5349768c1958abc/Flask_Cors-3.0.9-py2.py3-none-any.whl\n",
            "Collecting flask-compress; extra == \"http\"\n",
            "  Downloading https://files.pythonhosted.org/packages/eb/33/7bcfc1d240bf4cf701cc742716a3af95b9df5b26d605559ea029b6ffa04f/Flask-Compress-1.8.0.tar.gz\n",
            "Collecting flask-json; extra == \"http\"\n",
            "  Downloading https://files.pythonhosted.org/packages/6f/2d/4c21d98b11f3a206fabbdd965b53a2ca3ee9fab7646c93cf36c060e8f1a4/Flask_JSON-0.3.4-py3-none-any.whl\n",
            "Requirement already satisfied, skipping upgrade: flask; extra == \"http\" in /usr/local/lib/python3.6/dist-packages (from bert-serving-server[http]) (1.1.2)\n",
            "Collecting brotli\n",
            "\u001b[?25l  Downloading https://files.pythonhosted.org/packages/b4/d3/7c98f05b7b9103e2f3a112ba42f269c798155b3e5404fb80bb8f823aaebe/Brotli-1.0.9-cp36-cp36m-manylinux1_x86_64.whl (357kB)\n",
            "\u001b[K     |████████████████████████████████| 358kB 9.5MB/s \n",
            "\u001b[?25hRequirement already satisfied, skipping upgrade: click>=5.1 in /usr/local/lib/python3.6/dist-packages (from flask; extra == \"http\"->bert-serving-server[http]) (7.1.2)\n",
            "Requirement already satisfied, skipping upgrade: itsdangerous>=0.24 in /usr/local/lib/python3.6/dist-packages (from flask; extra == \"http\"->bert-serving-server[http]) (1.1.0)\n",
            "Requirement already satisfied, skipping upgrade: Jinja2>=2.10.1 in /usr/local/lib/python3.6/dist-packages (from flask; extra == \"http\"->bert-serving-server[http]) (2.11.2)\n",
            "Requirement already satisfied, skipping upgrade: Werkzeug>=0.15 in /usr/local/lib/python3.6/dist-packages (from flask; extra == \"http\"->bert-serving-server[http]) (1.0.1)\n",
            "Requirement already satisfied, skipping upgrade: MarkupSafe>=0.23 in /usr/local/lib/python3.6/dist-packages (from Jinja2>=2.10.1->flask; extra == \"http\"->bert-serving-server[http]) (1.1.1)\n",
            "Building wheels for collected packages: GPUtil, flask-compress\n",
            "  Building wheel for GPUtil (setup.py) ... \u001b[?25l\u001b[?25hdone\n",
            "  Created wheel for GPUtil: filename=GPUtil-1.4.0-cp36-none-any.whl size=7411 sha256=1e7aa2b27ff577cb1afa2a506af559f503bca5cab51cc4a6a11847ac3d1aead6\n",
            "  Stored in directory: /root/.cache/pip/wheels/3d/77/07/80562de4bb0786e5ea186911a2c831fdd0018bda69beab71fd\n",
            "  Building wheel for flask-compress (setup.py) ... \u001b[?25l\u001b[?25hdone\n",
            "  Created wheel for flask-compress: filename=Flask_Compress-1.8.0-cp36-none-any.whl size=7215 sha256=158114214afe4bf6bccd67fdf38522ccf27ee524dc50c7e987119c91f7f5086c\n",
            "  Stored in directory: /root/.cache/pip/wheels/f9/aa/e9/c4b763ea17eb0662124f67924cbfb9ee0efa83e28f6131baec\n",
            "Successfully built GPUtil flask-compress\n",
            "Installing collected packages: GPUtil, flask-cors, brotli, flask-compress, flask-json, bert-serving-server\n",
            "Successfully installed GPUtil-1.4.0 bert-serving-server-1.10.0 brotli-1.0.9 flask-compress-1.8.0 flask-cors-3.0.9 flask-json-0.3.4\n"
          ],
          "name": "stdout"
        }
      ]
    },
    {
      "cell_type": "code",
      "metadata": {
        "id": "vfnsfHMT-Vxo",
        "outputId": "7538f653-9848-4667-9cbe-6e9a4bdaa0d6",
        "colab": {
          "base_uri": "https://localhost:8080/"
        }
      },
      "source": [
        "#Download a model listed below, then uncompress the zip file into some folder, say /tmp/english_L-12_H-768_A-12/\n",
        "!wget https://storage.googleapis.com/bert_models/2018_10_18/uncased_L-12_H-768_A-12.zip"
      ],
      "execution_count": 3,
      "outputs": [
        {
          "output_type": "stream",
          "text": [
            "--2020-11-16 02:44:17--  https://storage.googleapis.com/bert_models/2018_10_18/uncased_L-12_H-768_A-12.zip\n",
            "Resolving storage.googleapis.com (storage.googleapis.com)... 74.125.195.128, 74.125.142.128, 74.125.20.128, ...\n",
            "Connecting to storage.googleapis.com (storage.googleapis.com)|74.125.195.128|:443... connected.\n",
            "HTTP request sent, awaiting response... 200 OK\n",
            "Length: 407727028 (389M) [application/zip]\n",
            "Saving to: ‘uncased_L-12_H-768_A-12.zip’\n",
            "\n",
            "uncased_L-12_H-768_ 100%[===================>] 388.84M   161MB/s    in 2.4s    \n",
            "\n",
            "2020-11-16 02:44:19 (161 MB/s) - ‘uncased_L-12_H-768_A-12.zip’ saved [407727028/407727028]\n",
            "\n"
          ],
          "name": "stdout"
        }
      ]
    },
    {
      "cell_type": "code",
      "metadata": {
        "id": "T5bmHw1d-a5T",
        "outputId": "38cf99b3-25d3-4723-bac0-af1bff3e03ff",
        "colab": {
          "base_uri": "https://localhost:8080/"
        }
      },
      "source": [
        "!unzip uncased_L-12_H-768_A-12.zip"
      ],
      "execution_count": 4,
      "outputs": [
        {
          "output_type": "stream",
          "text": [
            "Archive:  uncased_L-12_H-768_A-12.zip\n",
            "   creating: uncased_L-12_H-768_A-12/\n",
            "  inflating: uncased_L-12_H-768_A-12/bert_model.ckpt.meta  \n",
            "  inflating: uncased_L-12_H-768_A-12/bert_model.ckpt.data-00000-of-00001  \n",
            "  inflating: uncased_L-12_H-768_A-12/vocab.txt  \n",
            "  inflating: uncased_L-12_H-768_A-12/bert_model.ckpt.index  \n",
            "  inflating: uncased_L-12_H-768_A-12/bert_config.json  \n"
          ],
          "name": "stdout"
        }
      ]
    },
    {
      "cell_type": "code",
      "metadata": {
        "id": "gzHVaghv-d1f",
        "outputId": "532688f6-d705-49c0-9678-50e012fcc10d",
        "colab": {
          "base_uri": "https://localhost:8080/"
        }
      },
      "source": [
        "%tensorflow_version 1.x"
      ],
      "execution_count": 5,
      "outputs": [
        {
          "output_type": "stream",
          "text": [
            "TensorFlow 1.x selected.\n"
          ],
          "name": "stdout"
        }
      ]
    },
    {
      "cell_type": "code",
      "metadata": {
        "id": "OnPK-j6I-hPT"
      },
      "source": [
        "!nohup bert-serving-start -model_dir=./uncased_L-12_H-768_A-12 > out.file 2>&1 -max_seq_len=512 &"
      ],
      "execution_count": 6,
      "outputs": []
    },
    {
      "cell_type": "code",
      "metadata": {
        "id": "By0E9Wee-kCC"
      },
      "source": [
        "from bert_serving.client import BertClient\n",
        "bc = BertClient()"
      ],
      "execution_count": 7,
      "outputs": []
    },
    {
      "cell_type": "markdown",
      "metadata": {
        "id": "w9ndjIKmGgZT"
      },
      "source": [
        "#Dataset1-Big(85282 rows)"
      ]
    },
    {
      "cell_type": "markdown",
      "metadata": {
        "id": "fZ3ut8XCatI8"
      },
      "source": [
        "##Import Dataset"
      ]
    },
    {
      "cell_type": "code",
      "metadata": {
        "id": "b2ri6RQELPui",
        "outputId": "b6159505-5aad-414e-d8a9-71deca73c908",
        "colab": {
          "base_uri": "https://localhost:8080/",
          "height": 402
        }
      },
      "source": [
        "import pandas as pd;\n",
        "\n",
        "#Loading dataset and rename columns\n",
        "\n",
        "df=pd.read_excel(\"healthtapQAs_v1.xlsx\");\n",
        "df.columns=[\"questions\",\"answers\"];\n",
        "\n",
        "df"
      ],
      "execution_count": 8,
      "outputs": [
        {
          "output_type": "execute_result",
          "data": {
            "text/html": [
              "<div>\n",
              "<style scoped>\n",
              "    .dataframe tbody tr th:only-of-type {\n",
              "        vertical-align: middle;\n",
              "    }\n",
              "\n",
              "    .dataframe tbody tr th {\n",
              "        vertical-align: top;\n",
              "    }\n",
              "\n",
              "    .dataframe thead th {\n",
              "        text-align: right;\n",
              "    }\n",
              "</style>\n",
              "<table border=\"1\" class=\"dataframe\">\n",
              "  <thead>\n",
              "    <tr style=\"text-align: right;\">\n",
              "      <th></th>\n",
              "      <th>questions</th>\n",
              "      <th>answers</th>\n",
              "    </tr>\n",
              "  </thead>\n",
              "  <tbody>\n",
              "    <tr>\n",
              "      <th>0</th>\n",
              "      <td>zirconium dental implants. how common is it us...</td>\n",
              "      <td>a majority of the dental implants placed are t...</td>\n",
              "    </tr>\n",
              "    <tr>\n",
              "      <th>1</th>\n",
              "      <td>zoloft/ sertaline cause heart racing can't sit...</td>\n",
              "      <td>check with your doc could be side effect of th...</td>\n",
              "    </tr>\n",
              "    <tr>\n",
              "      <th>2</th>\n",
              "      <td>zoloft (sertraline) side effects? does it make...</td>\n",
              "      <td>it can be related to either weight gain or los...</td>\n",
              "    </tr>\n",
              "    <tr>\n",
              "      <th>3</th>\n",
              "      <td>yellow skin around wound from cat bite. why?</td>\n",
              "      <td>this may be the secondary result of a resolvin...</td>\n",
              "    </tr>\n",
              "    <tr>\n",
              "      <th>4</th>\n",
              "      <td>yeast infection and open sores major swelling ...</td>\n",
              "      <td>bathing in a bath with baking soda may help de...</td>\n",
              "    </tr>\n",
              "    <tr>\n",
              "      <th>...</th>\n",
              "      <td>...</td>\n",
              "      <td>...</td>\n",
              "    </tr>\n",
              "    <tr>\n",
              "      <th>85277</th>\n",
              "      <td>what is the best: a conventional angiography o...</td>\n",
              "      <td>for small vessels conventional angiography is ...</td>\n",
              "    </tr>\n",
              "    <tr>\n",
              "      <th>85278</th>\n",
              "      <td>what is unique about taking medicine every 24 ...</td>\n",
              "      <td>try taking one half tab every day. but 10mg si...</td>\n",
              "    </tr>\n",
              "    <tr>\n",
              "      <th>85279</th>\n",
              "      <td>what treat should be of following sypmtoms pai...</td>\n",
              "      <td>your description of the pain sounds neuropathi...</td>\n",
              "    </tr>\n",
              "    <tr>\n",
              "      <th>85280</th>\n",
              "      <td>can you explain incomplete right bundle branch...</td>\n",
              "      <td>the righty and left ventricles are induced to ...</td>\n",
              "    </tr>\n",
              "    <tr>\n",
              "      <th>85281</th>\n",
              "      <td>can someone with a pacemaker receive radiation...</td>\n",
              "      <td>it is not safe to be in direct field of radiat...</td>\n",
              "    </tr>\n",
              "  </tbody>\n",
              "</table>\n",
              "<p>85282 rows × 2 columns</p>\n",
              "</div>"
            ],
            "text/plain": [
              "                                               questions                                            answers\n",
              "0      zirconium dental implants. how common is it us...  a majority of the dental implants placed are t...\n",
              "1      zoloft/ sertaline cause heart racing can't sit...  check with your doc could be side effect of th...\n",
              "2      zoloft (sertraline) side effects? does it make...  it can be related to either weight gain or los...\n",
              "3           yellow skin around wound from cat bite. why?  this may be the secondary result of a resolvin...\n",
              "4      yeast infection and open sores major swelling ...  bathing in a bath with baking soda may help de...\n",
              "...                                                  ...                                                ...\n",
              "85277  what is the best: a conventional angiography o...  for small vessels conventional angiography is ...\n",
              "85278  what is unique about taking medicine every 24 ...  try taking one half tab every day. but 10mg si...\n",
              "85279  what treat should be of following sypmtoms pai...  your description of the pain sounds neuropathi...\n",
              "85280  can you explain incomplete right bundle branch...  the righty and left ventricles are induced to ...\n",
              "85281  can someone with a pacemaker receive radiation...  it is not safe to be in direct field of radiat...\n",
              "\n",
              "[85282 rows x 2 columns]"
            ]
          },
          "metadata": {
            "tags": []
          },
          "execution_count": 8
        }
      ]
    },
    {
      "cell_type": "markdown",
      "metadata": {
        "id": "jx8GakBta1ba"
      },
      "source": [
        "##Data Preprocessing"
      ]
    },
    {
      "cell_type": "code",
      "metadata": {
        "id": "CKYjAjKIMNuD"
      },
      "source": [
        "import re\n",
        "import gensim \n",
        "from gensim.parsing.preprocessing import remove_stopwords\n",
        "\n",
        "#keeping only words in the sentence and removing punctuations.\n",
        "\n",
        "def clean_sentence(sentence, stopwords=False):\n",
        "    \n",
        "    sentence = sentence.lower().strip()\n",
        "    sentence = re.sub(r'[^a-z0-9\\s]', '', sentence)\n",
        "    \n",
        "    if stopwords:\n",
        "         sentence = remove_stopwords(sentence)\n",
        "    \n",
        "    \n",
        "    return sentence\n",
        "                    \n",
        "def get_cleaned_sentences(df,stopwords=False):    \n",
        "    sents=df[[\"questions\"]];\n",
        "    cleaned_sentences=[]\n",
        "\n",
        "    for index,row in df.iterrows():\n",
        "        #print(index,row)\n",
        "        cleaned=clean_sentence(row[\"questions\"],stopwords);\n",
        "        cleaned_sentences.append(cleaned);\n",
        "    return cleaned_sentences;\n",
        "\n",
        "cleaned_sentences=get_cleaned_sentences(df,stopwords=True)\n",
        "#print(cleaned_sentences);\n",
        "\n",
        "\n",
        "cleaned_sentences_with_stopwords=get_cleaned_sentences(df,stopwords=False)\n",
        "#print(cleaned_sentences_with_stopwords[0]);"
      ],
      "execution_count": 9,
      "outputs": []
    },
    {
      "cell_type": "code",
      "metadata": {
        "id": "W60k9PEUckz_",
        "outputId": "e8d92046-fe26-48d6-af90-42176a6ed427",
        "colab": {
          "base_uri": "https://localhost:8080/"
        }
      },
      "source": [
        "print(cleaned_sentences_with_stopwords[0]);"
      ],
      "execution_count": 10,
      "outputs": [
        {
          "output_type": "stream",
          "text": [
            "zirconium dental implants how common is it used now is there any advantages or benefits over titanium implants cons  pros please thanks\n"
          ],
          "name": "stdout"
        }
      ]
    },
    {
      "cell_type": "markdown",
      "metadata": {
        "id": "lmbctU8J-H9P"
      },
      "source": [
        "##BERT Embeddings"
      ]
    },
    {
      "cell_type": "code",
      "metadata": {
        "id": "xJWUucKE_V2L"
      },
      "source": [
        "import sklearn\n",
        "\n",
        "#finding cosine similarity from vectors\n",
        "from sklearn.metrics.pairwise import cosine_similarity;\n",
        "def retrieveAndPrintFAQAnswer(question_embedding,sentence_embeddings,FAQdf,sentences):\n",
        "    max_sim=-1;\n",
        "    index_sim=-1;\n",
        "    for index,faq_embedding in enumerate(sentence_embeddings):\n",
        "        sim=cosine_similarity(faq_embedding,question_embedding)[0][0];\n",
        "        #print(index, sim, sentences[index])\n",
        "        if sim>max_sim:\n",
        "            max_sim=sim;\n",
        "            index_sim=index;\n",
        "    print(\"\\n\")\n",
        "    print(\"Question: \",question)\n",
        "    print(\"\\n\");\n",
        "    print(\"Retrieved Question: \",FAQdf.iloc[index_sim,0]) \n",
        "    print(\"Retrieved Answer: \",FAQdf.iloc[index_sim,1]) "
      ],
      "execution_count": 11,
      "outputs": []
    },
    {
      "cell_type": "code",
      "metadata": {
        "id": "kCEgHmFl_XNz"
      },
      "source": [
        "#giving input question\n",
        "question_orig=\"How to keep good health ?\"\n",
        "#cleaning the question\n",
        "question=clean_sentence(question_orig,stopwords=False);"
      ],
      "execution_count": 12,
      "outputs": []
    },
    {
      "cell_type": "code",
      "metadata": {
        "id": "q3eKl23h-nJN",
        "outputId": "c7c8a121-abf7-45fd-9f23-5dd1d6e7135f",
        "colab": {
          "base_uri": "https://localhost:8080/"
        }
      },
      "source": [
        "cleaned_sentences=get_cleaned_sentences(df,stopwords=False)\n",
        "#creating word embeddings\n",
        "import time\n",
        "m1 = time.time()\n",
        "sent_bertphrase_embeddings=[];\n",
        "\n",
        "for sent in cleaned_sentences:\n",
        "    sent_bertphrase_embeddings.append(bc.encode([sent]));\n",
        "m2 = time.time()\n",
        "print(\"Question Embedding time for Huge dataset\",m2 - m1)\n",
        "question_embedding=bc.encode([question]);\n",
        "\n",
        "retrieveAndPrintFAQAnswer(question_embedding,sent_bertphrase_embeddings,df, cleaned_sentences);"
      ],
      "execution_count": 13,
      "outputs": [
        {
          "output_type": "stream",
          "text": [
            "Question Embedding time for Huge dataset 3334.6015825271606\n",
            "\n",
            "\n",
            "Question:  how to keep good health \n",
            "\n",
            "\n",
            "Retrieved Question:  how to eat healthy and get fit?\n",
            "Retrieved Answer:  portion control (use salad plate instead of dinner plate); 4-6 mini-meals/day; avoid fast food & sugary & diet drinks. lean meats plenty of fruits & veggies (choose low glycemic ones) low-fat dairy eggs good fats (olive/canola) avoid starches (bread/rice /potatoes/pasta—unless whole grain); exercise 30 min/day (walking/pool exercises); can add weights/ machines with guidance to prevent injury.\n"
          ],
          "name": "stdout"
        }
      ]
    },
    {
      "cell_type": "markdown",
      "metadata": {
        "id": "ONl2oh28HSIL"
      },
      "source": [
        "#Implementing Chatbot using BERT Model"
      ]
    },
    {
      "cell_type": "code",
      "metadata": {
        "id": "aNaXq6GJHWSt",
        "outputId": "92e4c789-b56c-40f9-e12d-ed50fdb71e5f",
        "colab": {
          "base_uri": "https://localhost:8080/"
        }
      },
      "source": [
        "import sklearn\n",
        "from sklearn.metrics.pairwise import cosine_similarity;\n",
        "import numpy\n",
        "import time\n",
        "\n",
        "print(\"Welcome to the Question Answering System\")      \n",
        "\n",
        "while True:\n",
        "  print(\"Question:\") \n",
        "  \n",
        "  question_orig=input()\n",
        "  \n",
        "  if (question_orig.lower()=='quit'):\n",
        "    break\n",
        "  measure1 = time.time()\n",
        "  question=clean_sentence(question_orig,stopwords=False);\n",
        "  \n",
        "\n",
        "  question_embedding=bc.encode([question]);  \n",
        "  def retrieveAndPrintFAQAnswer(question_embedding,sentence_embeddings,FAQdf,sentences):\n",
        "    max_sim=-1;\n",
        "    index_sim=-1;\n",
        "    for index,faq_embedding in enumerate(sentence_embeddings):\n",
        "      sim=cosine_similarity(faq_embedding,question_embedding)[0][0]\n",
        "      #print(index, sim, sentences[index])\n",
        "      if sim>max_sim:\n",
        "        max_sim=sim;\n",
        "        index_sim=index;\n",
        "    #print(\"\\n\")\n",
        "    #print(\"Question: \",question)\n",
        "    #print(\"\\n\");\n",
        "    print(\"Retrieved: \",FAQdf.iloc[index_sim,0]) \n",
        "    #print(FAQdf.iloc[index_sim,1]) \n",
        "    print(\"Answer:\",FAQdf.iloc[index_sim,1])\n",
        "    print(\"----------------------\")\n",
        "    measure2 = time.time()\n",
        "    print(\"Response Time\",measure2 - measure1)\n",
        "    print(\"----------------------\")\n",
        "    print(\"\\n\");\n",
        "    print(\"Enter Quit to exit: \")\n",
        "  retrieveAndPrintFAQAnswer(question_embedding,sent_bertphrase_embeddings,df, cleaned_sentences);\n",
        "\n",
        "\n",
        "\n",
        "\n",
        "print(\"----------------------\")\n",
        "print(\"Thank You\")\n",
        "print(\"----------------------\")"
      ],
      "execution_count": 14,
      "outputs": [
        {
          "output_type": "stream",
          "text": [
            "Welcome to the Question Answering System\n",
            "Question:\n",
            "How to take care of health?\n",
            "Retrieved:  how to avoid obesity?\n",
            "Answer: stay active and eat right. also make sure you get sleep and stay clear of excess stress.\n",
            "----------------------\n",
            "Response Time 14.445129871368408\n",
            "----------------------\n",
            "\n",
            "\n",
            "Enter Quit to exit: \n",
            "Question:\n",
            "Give some tips for healthy lifestyle?\n",
            "Retrieved:  give advise on weight loss programme?\n",
            "Answer: weight loss is possible. it takes a regular change in habits. adopting a low glycemic diet is helpful for many. regular activity daily and vigorous activity two times per week. sleep and manage stress. some supplements and programs can be helpful. <link>\n",
            "----------------------\n",
            "Response Time 14.472314357757568\n",
            "----------------------\n",
            "\n",
            "\n",
            "Enter Quit to exit: \n",
            "Question:\n",
            "Quit\n",
            "----------------------\n",
            "Thank You\n",
            "----------------------\n"
          ],
          "name": "stdout"
        }
      ]
    },
    {
      "cell_type": "markdown",
      "metadata": {
        "id": "joKDCycKLZmD"
      },
      "source": [
        "#Dataset2-Easy"
      ]
    },
    {
      "cell_type": "markdown",
      "metadata": {
        "id": "j_fMj1SFzvWH"
      },
      "source": [
        "##Import Dataset"
      ]
    },
    {
      "cell_type": "code",
      "metadata": {
        "id": "QUhQrEmFzvWI",
        "outputId": "309f95eb-606b-4db5-ef52-4549a911d42f",
        "colab": {
          "base_uri": "https://localhost:8080/",
          "height": 0
        }
      },
      "source": [
        "import pandas as pd;\n",
        "\n",
        "#Loading dataset and renaming columns\n",
        "\n",
        "df=pd.read_csv(\"FAQ_standard.csv\");\n",
        "df.columns=[\"questions\",\"answers\",\"Label\"];\n",
        "\n",
        "df"
      ],
      "execution_count": 15,
      "outputs": [
        {
          "output_type": "execute_result",
          "data": {
            "text/html": [
              "<div>\n",
              "<style scoped>\n",
              "    .dataframe tbody tr th:only-of-type {\n",
              "        vertical-align: middle;\n",
              "    }\n",
              "\n",
              "    .dataframe tbody tr th {\n",
              "        vertical-align: top;\n",
              "    }\n",
              "\n",
              "    .dataframe thead th {\n",
              "        text-align: right;\n",
              "    }\n",
              "</style>\n",
              "<table border=\"1\" class=\"dataframe\">\n",
              "  <thead>\n",
              "    <tr style=\"text-align: right;\">\n",
              "      <th></th>\n",
              "      <th>questions</th>\n",
              "      <th>answers</th>\n",
              "      <th>Label</th>\n",
              "    </tr>\n",
              "  </thead>\n",
              "  <tbody>\n",
              "    <tr>\n",
              "      <th>0</th>\n",
              "      <td>What does the job hunting experience look like ?</td>\n",
              "      <td>Job hunting experience involves networking to ...</td>\n",
              "      <td>1</td>\n",
              "    </tr>\n",
              "    <tr>\n",
              "      <th>1</th>\n",
              "      <td>Any insights you can offer about the DS job ma...</td>\n",
              "      <td>There are many kinds of roles, data scientist,...</td>\n",
              "      <td>2</td>\n",
              "    </tr>\n",
              "    <tr>\n",
              "      <th>2</th>\n",
              "      <td>What's the impact of Covid on hiring for DS ro...</td>\n",
              "      <td>Hiring is going to slow down. First in small c...</td>\n",
              "      <td>3</td>\n",
              "    </tr>\n",
              "    <tr>\n",
              "      <th>3</th>\n",
              "      <td>What skills and qualities do employers look fo...</td>\n",
              "      <td>The following are some skills employers usuall...</td>\n",
              "      <td>4</td>\n",
              "    </tr>\n",
              "    <tr>\n",
              "      <th>4</th>\n",
              "      <td>Do employers look for an advanced ML degree?</td>\n",
              "      <td>For more senior roles: People typically look f...</td>\n",
              "      <td>5</td>\n",
              "    </tr>\n",
              "    <tr>\n",
              "      <th>5</th>\n",
              "      <td>How does a typical day of a data scientist loo...</td>\n",
              "      <td>Here are some tasks in the typical day of a da...</td>\n",
              "      <td>6</td>\n",
              "    </tr>\n",
              "    <tr>\n",
              "      <th>6</th>\n",
              "      <td>Is preparation of algorithms and data structur...</td>\n",
              "      <td>Yes. In many data science interviews (ML Scien...</td>\n",
              "      <td>7</td>\n",
              "    </tr>\n",
              "    <tr>\n",
              "      <th>7</th>\n",
              "      <td>What is the mathematical background required t...</td>\n",
              "      <td>The following three are the basic building blo...</td>\n",
              "      <td>8</td>\n",
              "    </tr>\n",
              "    <tr>\n",
              "      <th>8</th>\n",
              "      <td>What are the various rounds in a data scientis...</td>\n",
              "      <td>Usually the data science interview has a subse...</td>\n",
              "      <td>9</td>\n",
              "    </tr>\n",
              "    <tr>\n",
              "      <th>9</th>\n",
              "      <td>What level of proficiency is needed for a data...</td>\n",
              "      <td>Needs to be reasonably proficient. Again, a da...</td>\n",
              "      <td>10</td>\n",
              "    </tr>\n",
              "  </tbody>\n",
              "</table>\n",
              "</div>"
            ],
            "text/plain": [
              "                                           questions  ... Label\n",
              "0   What does the job hunting experience look like ?  ...     1\n",
              "1  Any insights you can offer about the DS job ma...  ...     2\n",
              "2  What's the impact of Covid on hiring for DS ro...  ...     3\n",
              "3  What skills and qualities do employers look fo...  ...     4\n",
              "4       Do employers look for an advanced ML degree?  ...     5\n",
              "5  How does a typical day of a data scientist loo...  ...     6\n",
              "6  Is preparation of algorithms and data structur...  ...     7\n",
              "7  What is the mathematical background required t...  ...     8\n",
              "8  What are the various rounds in a data scientis...  ...     9\n",
              "9  What level of proficiency is needed for a data...  ...    10\n",
              "\n",
              "[10 rows x 3 columns]"
            ]
          },
          "metadata": {
            "tags": []
          },
          "execution_count": 15
        }
      ]
    },
    {
      "cell_type": "code",
      "metadata": {
        "id": "4R88GCS-0ReG",
        "outputId": "e43a1af9-e918-45b9-e5d3-faf860c3bd7e",
        "colab": {
          "base_uri": "https://localhost:8080/",
          "height": 0
        }
      },
      "source": [
        "import pandas as pd;\n",
        "\n",
        "#Load dataset and examine dataset, rename columns to questions and answers\n",
        "\n",
        "df_test=pd.read_excel(\"FAQ_test_Easy.xlsx\")\n",
        "df_test.columns=[\"questions\",\"ActualCode\",\"PredictedCode\",\"Prediction?\",\"ActualQuestion\",\"PredictedQuestion\"]\n",
        "\n",
        "df_test"
      ],
      "execution_count": 16,
      "outputs": [
        {
          "output_type": "execute_result",
          "data": {
            "text/html": [
              "<div>\n",
              "<style scoped>\n",
              "    .dataframe tbody tr th:only-of-type {\n",
              "        vertical-align: middle;\n",
              "    }\n",
              "\n",
              "    .dataframe tbody tr th {\n",
              "        vertical-align: top;\n",
              "    }\n",
              "\n",
              "    .dataframe thead th {\n",
              "        text-align: right;\n",
              "    }\n",
              "</style>\n",
              "<table border=\"1\" class=\"dataframe\">\n",
              "  <thead>\n",
              "    <tr style=\"text-align: right;\">\n",
              "      <th></th>\n",
              "      <th>questions</th>\n",
              "      <th>ActualCode</th>\n",
              "      <th>PredictedCode</th>\n",
              "      <th>Prediction?</th>\n",
              "      <th>ActualQuestion</th>\n",
              "      <th>PredictedQuestion</th>\n",
              "    </tr>\n",
              "  </thead>\n",
              "  <tbody>\n",
              "    <tr>\n",
              "      <th>0</th>\n",
              "      <td>How is the job searching experience nowadays?</td>\n",
              "      <td>1</td>\n",
              "      <td>NaN</td>\n",
              "      <td>NaN</td>\n",
              "      <td>What does the job hunting experience look like ?</td>\n",
              "      <td>NaN</td>\n",
              "    </tr>\n",
              "    <tr>\n",
              "      <th>1</th>\n",
              "      <td>How are the DS jobs on the market, please?</td>\n",
              "      <td>2</td>\n",
              "      <td>NaN</td>\n",
              "      <td>NaN</td>\n",
              "      <td>Any insights you can offer about the DS job ma...</td>\n",
              "      <td>NaN</td>\n",
              "    </tr>\n",
              "    <tr>\n",
              "      <th>2</th>\n",
              "      <td>How is DS hiring impacted due to Covid?</td>\n",
              "      <td>3</td>\n",
              "      <td>NaN</td>\n",
              "      <td>NaN</td>\n",
              "      <td>What's the impact of Covid on hiring for DS ro...</td>\n",
              "      <td>NaN</td>\n",
              "    </tr>\n",
              "    <tr>\n",
              "      <th>3</th>\n",
              "      <td>In a data scientist what qualifications and at...</td>\n",
              "      <td>4</td>\n",
              "      <td>NaN</td>\n",
              "      <td>NaN</td>\n",
              "      <td>What skills and qualities do employers look fo...</td>\n",
              "      <td>NaN</td>\n",
              "    </tr>\n",
              "    <tr>\n",
              "      <th>4</th>\n",
              "      <td>Are employers looking for an advanced ML degree?</td>\n",
              "      <td>5</td>\n",
              "      <td>NaN</td>\n",
              "      <td>NaN</td>\n",
              "      <td>Do employers look for an advanced ML degree?</td>\n",
              "      <td>NaN</td>\n",
              "    </tr>\n",
              "    <tr>\n",
              "      <th>5</th>\n",
              "      <td>On a typical day what does a data scientist do?</td>\n",
              "      <td>6</td>\n",
              "      <td>NaN</td>\n",
              "      <td>NaN</td>\n",
              "      <td>How does a typical day of a data scientist loo...</td>\n",
              "      <td>NaN</td>\n",
              "    </tr>\n",
              "    <tr>\n",
              "      <th>6</th>\n",
              "      <td>Do we need to study algorithms for a data scie...</td>\n",
              "      <td>7</td>\n",
              "      <td>NaN</td>\n",
              "      <td>NaN</td>\n",
              "      <td>Is preparation of algorithms and data structur...</td>\n",
              "      <td>NaN</td>\n",
              "    </tr>\n",
              "    <tr>\n",
              "      <th>7</th>\n",
              "      <td>What is the mathematical background needed to ...</td>\n",
              "      <td>8</td>\n",
              "      <td>NaN</td>\n",
              "      <td>NaN</td>\n",
              "      <td>What is the mathematical background required t...</td>\n",
              "      <td>NaN</td>\n",
              "    </tr>\n",
              "    <tr>\n",
              "      <th>8</th>\n",
              "      <td>How many rounds of interview are in a data sc...</td>\n",
              "      <td>9</td>\n",
              "      <td>NaN</td>\n",
              "      <td>NaN</td>\n",
              "      <td>What are the various rounds in a data scientis...</td>\n",
              "      <td>NaN</td>\n",
              "    </tr>\n",
              "    <tr>\n",
              "      <th>9</th>\n",
              "      <td>How proficient a data scientist has to be in c...</td>\n",
              "      <td>10</td>\n",
              "      <td>NaN</td>\n",
              "      <td>NaN</td>\n",
              "      <td>What level of proficiency is needed for a data...</td>\n",
              "      <td>NaN</td>\n",
              "    </tr>\n",
              "  </tbody>\n",
              "</table>\n",
              "</div>"
            ],
            "text/plain": [
              "                                           questions  ...  PredictedQuestion\n",
              "0      How is the job searching experience nowadays?  ...                NaN\n",
              "1         How are the DS jobs on the market, please?  ...                NaN\n",
              "2            How is DS hiring impacted due to Covid?  ...                NaN\n",
              "3  In a data scientist what qualifications and at...  ...                NaN\n",
              "4   Are employers looking for an advanced ML degree?  ...                NaN\n",
              "5    On a typical day what does a data scientist do?  ...                NaN\n",
              "6  Do we need to study algorithms for a data scie...  ...                NaN\n",
              "7  What is the mathematical background needed to ...  ...                NaN\n",
              "8   How many rounds of interview are in a data sc...  ...                NaN\n",
              "9  How proficient a data scientist has to be in c...  ...                NaN\n",
              "\n",
              "[10 rows x 6 columns]"
            ]
          },
          "metadata": {
            "tags": []
          },
          "execution_count": 16
        }
      ]
    },
    {
      "cell_type": "markdown",
      "metadata": {
        "id": "As-8_00HzvWQ"
      },
      "source": [
        "##BERT Model"
      ]
    },
    {
      "cell_type": "code",
      "metadata": {
        "id": "qF26zdNAzvWV",
        "outputId": "6e0c8da1-6826-45ba-e271-720bb20cc04a",
        "colab": {
          "base_uri": "https://localhost:8080/"
        }
      },
      "source": [
        "#cleaning test data questions\n",
        "cleaned_sentences_test=get_cleaned_sentences(df_test,stopwords=False)\n",
        "print(cleaned_sentences_test);"
      ],
      "execution_count": 17,
      "outputs": [
        {
          "output_type": "stream",
          "text": [
            "['how is the job searching experience nowadays', 'how are the ds jobs on the market please', 'how is ds hiring impacted due to covid', 'in a data scientist what qualifications and attributes do employers look for', 'are employers looking for an advanced ml degree', 'on a typical day what does a data scientist do', 'do we need to study algorithms for a data science interview', 'what is the mathematical background needed to be a data scientist ', 'how many rounds of interview are in a data science interview ', 'how proficient a data scientist has to be in coding']\n"
          ],
          "name": "stdout"
        }
      ]
    },
    {
      "cell_type": "code",
      "metadata": {
        "id": "vAc58kXNOjRF"
      },
      "source": [
        "#cleaning original data questions\n",
        "cleaned_sentences=get_cleaned_sentences(df,stopwords=False)"
      ],
      "execution_count": 18,
      "outputs": []
    },
    {
      "cell_type": "code",
      "metadata": {
        "id": "WxUZrX2ehDEi",
        "outputId": "28dd9201-81fc-4cbb-9622-cf257d988c91",
        "colab": {
          "base_uri": "https://localhost:8080/"
        }
      },
      "source": [
        "print(cleaned_sentences)"
      ],
      "execution_count": 19,
      "outputs": [
        {
          "output_type": "stream",
          "text": [
            "['what does the job hunting experience look like ', 'any insights you can offer about the ds job market ', 'whats the impact of covid on hiring for ds roles', 'what skills and qualities do employers look for in a data scientist', 'do employers look for an advanced ml degree', 'how does a typical day of a data scientist look like', 'is preparation of algorithms and data structures needed for a data science interview ', 'what is the mathematical background required to be a data scientist ', 'what are the various rounds in a data scientist interview ', 'what level of proficiency is needed for a data scientist in coding']\n"
          ],
          "name": "stdout"
        }
      ]
    },
    {
      "cell_type": "code",
      "metadata": {
        "id": "mcAo9vJT80_Y"
      },
      "source": [
        "#Embedding original question dataset\n",
        "\n",
        "sent_bertphrase_embeddings=[];\n",
        "\n",
        "for sent in cleaned_sentences:\n",
        "    sent_bertphrase_embeddings.append(bc.encode([sent]));"
      ],
      "execution_count": 20,
      "outputs": []
    },
    {
      "cell_type": "code",
      "metadata": {
        "id": "LwCPa1iM92k2"
      },
      "source": [
        "#Embeding test question dataset\n",
        "\n",
        "sent_bertphrase_embeddings_test=[];\n",
        "for sent_test in cleaned_sentences_test:\n",
        "    sent_bertphrase_embeddings_test.append(bc.encode([sent_test]));\n"
      ],
      "execution_count": 21,
      "outputs": []
    },
    {
      "cell_type": "code",
      "metadata": {
        "id": "czRpjKFj_35p",
        "outputId": "870c8422-a652-4a9f-809a-ca924dc038c5",
        "colab": {
          "base_uri": "https://localhost:8080/"
        }
      },
      "source": [
        "import sklearn\n",
        "from sklearn.metrics.pairwise import cosine_similarity;\n",
        "def retrieveAndPrintFAQAnswer(question_embeddings_test1,sentence_embeddings1,FAQdf1,sentences1,FAQdf_test1,sentences_test1):\n",
        "  for index_test,faq_embedding_test in enumerate(question_embeddings_test1):\n",
        "    max_sim=-1;\n",
        "    index_sim=-1;\n",
        "    for index,faq_embedding in enumerate(sentence_embeddings1):\n",
        "        \n",
        "      sim=cosine_similarity(faq_embedding,faq_embedding_test)[0][0];\n",
        "      #print(index, sim, sentences[index])\n",
        "      if sim>max_sim:\n",
        "        max_sim=sim;\n",
        "        index_sim=index;\n",
        "\n",
        "    FAQdf_test1.iloc[index_test,2]=FAQdf1.iloc[index_sim,2]\n",
        "    FAQdf_test1.iloc[index_test,5]=FAQdf1.iloc[index_sim,0]\n",
        "    print(\"\\n\")\n",
        "    print(\"Question: \",sentences_test1[index_test])\n",
        "    print(\"\\n\");\n",
        "    print(\"Retrieved: \",FAQdf1.iloc[index_sim,0]) \n",
        "    print(\"Answer:\",FAQdf1.iloc[index_sim,1])        \n",
        "  df_test=FAQdf_test1 \n",
        "retrieveAndPrintFAQAnswer(sent_bertphrase_embeddings_test,sent_bertphrase_embeddings,df,cleaned_sentences,df_test,cleaned_sentences_test);"
      ],
      "execution_count": 22,
      "outputs": [
        {
          "output_type": "stream",
          "text": [
            "\n",
            "\n",
            "Question:  how is the job searching experience nowadays\n",
            "\n",
            "\n",
            "Retrieved:  What does the job hunting experience look like ?\n",
            "Answer: Job hunting experience involves networking to get in touch with the right people in various companies, applying to lots of jobs through various channels, preparing for interviews – while interviews are uncertain it is necessary to prepare well what you CAN prepare, smart scheduling of interviews to get the best job and salary you can.\n",
            "\n",
            "\n",
            "Question:  how are the ds jobs on the market please\n",
            "\n",
            "\n",
            "Retrieved:  What does the job hunting experience look like ?\n",
            "Answer: Job hunting experience involves networking to get in touch with the right people in various companies, applying to lots of jobs through various channels, preparing for interviews – while interviews are uncertain it is necessary to prepare well what you CAN prepare, smart scheduling of interviews to get the best job and salary you can.\n",
            "\n",
            "\n",
            "Question:  how is ds hiring impacted due to covid\n",
            "\n",
            "\n",
            "Retrieved:  What's the impact of Covid on hiring for DS roles?\n",
            "Answer: Hiring is going to slow down. First in small companies then eventually in enterprises in a couple of months. But it is likely to pick up in a few months. Hence, if you are looking to transition, this is a good time to ramp up skills and learn new things that might usually take some time.\n",
            "\n",
            "\n",
            "Question:  in a data scientist what qualifications and attributes do employers look for\n",
            "\n",
            "\n",
            "Retrieved:  What skills and qualities do employers look for in a data scientist?\n",
            "Answer: The following are some skills employers usually look for: \n",
            "\n",
            "(1) Should be good at coding \n",
            "(2) Should have good problem solving and analysis skills \n",
            "(3) Should be good with stats and building testing and deploying models. \n",
            "\n",
            "A data scientist is a software developer ++ with stats and modeling skills to build and deploy models and make inferences from data.\n",
            "\n",
            "\n",
            "Question:  are employers looking for an advanced ml degree\n",
            "\n",
            "\n",
            "Retrieved:  Do employers look for an advanced ML degree?\n",
            "Answer: For more senior roles: People typically look for practical experience for several years or a specialized degree with some experience. Employers typically want folks who have seen various kinds of ML problems and solved them, who can come up with the right solution for a new problem when they are looking for a more senior role.   \n",
            "\n",
            "For a beginner role: a degree usually adds some level of credibility, but if one has a good portfolio with good projects, it is usually an accepted substitute. Employers do hope to see if the candidate is comfortable with basic concepts in ML along with being able to write code.\n",
            "\n",
            "\n",
            "Question:  on a typical day what does a data scientist do\n",
            "\n",
            "\n",
            "Retrieved:  How does a typical day of a data scientist look like?\n",
            "Answer: Here are some tasks in the typical day of a data scientist:\n",
            "\n",
            "Make a plan for the day\n",
            "Look at data, what clean up is required, figure out what models can be built\n",
            "Talk to various stakeholders about what modeling is possible and help them narrow down to something useful for the business\n",
            "Build models, test and debug (takes a long time)\n",
            "Parameter tuning – test tons and tons of parameters (takes a long time)\n",
            "Come up with prod architecture to get deployment ready\n",
            "Write ML pipeline for production ready modeles – deploy them\n",
            "Wait for long time till we have a significant sample to see if they are working\n",
            "Analyze and see whether the models are working as expected, have any impact\n",
            "Come up with improvements/ corrections based on prod feedback and prepare for next iteration.\n",
            "Meeting with team members / daily sprints / bug triages based on production feedback – Interaction with ML Manager, Product Manager, Developers, Data engineers\n",
            "\n",
            "\n",
            "Question:  do we need to study algorithms for a data science interview\n",
            "\n",
            "\n",
            "Retrieved:  Is preparation of algorithms and data structures needed for a data science interview ?\n",
            "Answer: Yes. In many data science interviews (ML Scientist, data scientist, ML Engineer, Data engineer) there is a coding round and an algorithms round. So preparing algorithms and data structures is necessary. Some of the Analyst interviews, such as a data analyst and a business analyst might not have an algorithms and data structures round.\n",
            "\n",
            "\n",
            "Question:  what is the mathematical background needed to be a data scientist \n",
            "\n",
            "\n",
            "Retrieved:  What is the mathematical background required to be a data scientist ?\n",
            "Answer: The following three are the basic building blocks in terms of data science math background: Linear Algebra, Probability and Statistics and Calculus and optimization.\n",
            "\n",
            "\n",
            "Question:  how many rounds of interview are in a data science interview \n",
            "\n",
            "\n",
            "Retrieved:  What are the various rounds in a data scientist interview ?\n",
            "Answer: Usually the data science interview has a subset of these rounds.\n",
            "\n",
            "Resume deep dive\n",
            "ML Concepts\n",
            "ML Scenario and Problem solving\n",
            "Algorithms and data structures\n",
            "Coding\n",
            "Behavioural\n",
            "\n",
            "Sometimes, some of these rounds might be combined, for instance there might not be two separate rounds for coding and algorithms. Similarly there might be a single round for ML concepts and scenario based problem solving.\n",
            "\n",
            "\n",
            "Question:  how proficient a data scientist has to be in coding\n",
            "\n",
            "\n",
            "Retrieved:  What level of proficiency is needed for a data scientist in coding?\n",
            "Answer: Needs to be reasonably proficient. Again, a data scientist is a developer ++. Usually expected to have the basic skills a developer has including understanding algorithms and data structures and being able to write clean, understable, efficient, well documented code.\n",
            "\n",
            "In many cases, the data scientist is expected to write production ready code and be able to understand the deployment process. In some cases, the coding could be for decision support.\n"
          ],
          "name": "stdout"
        }
      ]
    },
    {
      "cell_type": "code",
      "metadata": {
        "id": "J-Y59iBfAQcn",
        "outputId": "427ebf78-faf9-46b7-8da1-c4bf3699f7e9",
        "colab": {
          "base_uri": "https://localhost:8080/",
          "height": 511
        }
      },
      "source": [
        "df_test"
      ],
      "execution_count": 23,
      "outputs": [
        {
          "output_type": "execute_result",
          "data": {
            "text/html": [
              "<div>\n",
              "<style scoped>\n",
              "    .dataframe tbody tr th:only-of-type {\n",
              "        vertical-align: middle;\n",
              "    }\n",
              "\n",
              "    .dataframe tbody tr th {\n",
              "        vertical-align: top;\n",
              "    }\n",
              "\n",
              "    .dataframe thead th {\n",
              "        text-align: right;\n",
              "    }\n",
              "</style>\n",
              "<table border=\"1\" class=\"dataframe\">\n",
              "  <thead>\n",
              "    <tr style=\"text-align: right;\">\n",
              "      <th></th>\n",
              "      <th>questions</th>\n",
              "      <th>ActualCode</th>\n",
              "      <th>PredictedCode</th>\n",
              "      <th>Prediction?</th>\n",
              "      <th>ActualQuestion</th>\n",
              "      <th>PredictedQuestion</th>\n",
              "    </tr>\n",
              "  </thead>\n",
              "  <tbody>\n",
              "    <tr>\n",
              "      <th>0</th>\n",
              "      <td>How is the job searching experience nowadays?</td>\n",
              "      <td>1</td>\n",
              "      <td>1.0</td>\n",
              "      <td>NaN</td>\n",
              "      <td>What does the job hunting experience look like ?</td>\n",
              "      <td>What does the job hunting experience look like ?</td>\n",
              "    </tr>\n",
              "    <tr>\n",
              "      <th>1</th>\n",
              "      <td>How are the DS jobs on the market, please?</td>\n",
              "      <td>2</td>\n",
              "      <td>1.0</td>\n",
              "      <td>NaN</td>\n",
              "      <td>Any insights you can offer about the DS job ma...</td>\n",
              "      <td>What does the job hunting experience look like ?</td>\n",
              "    </tr>\n",
              "    <tr>\n",
              "      <th>2</th>\n",
              "      <td>How is DS hiring impacted due to Covid?</td>\n",
              "      <td>3</td>\n",
              "      <td>3.0</td>\n",
              "      <td>NaN</td>\n",
              "      <td>What's the impact of Covid on hiring for DS ro...</td>\n",
              "      <td>What's the impact of Covid on hiring for DS ro...</td>\n",
              "    </tr>\n",
              "    <tr>\n",
              "      <th>3</th>\n",
              "      <td>In a data scientist what qualifications and at...</td>\n",
              "      <td>4</td>\n",
              "      <td>4.0</td>\n",
              "      <td>NaN</td>\n",
              "      <td>What skills and qualities do employers look fo...</td>\n",
              "      <td>What skills and qualities do employers look fo...</td>\n",
              "    </tr>\n",
              "    <tr>\n",
              "      <th>4</th>\n",
              "      <td>Are employers looking for an advanced ML degree?</td>\n",
              "      <td>5</td>\n",
              "      <td>5.0</td>\n",
              "      <td>NaN</td>\n",
              "      <td>Do employers look for an advanced ML degree?</td>\n",
              "      <td>Do employers look for an advanced ML degree?</td>\n",
              "    </tr>\n",
              "    <tr>\n",
              "      <th>5</th>\n",
              "      <td>On a typical day what does a data scientist do?</td>\n",
              "      <td>6</td>\n",
              "      <td>6.0</td>\n",
              "      <td>NaN</td>\n",
              "      <td>How does a typical day of a data scientist loo...</td>\n",
              "      <td>How does a typical day of a data scientist loo...</td>\n",
              "    </tr>\n",
              "    <tr>\n",
              "      <th>6</th>\n",
              "      <td>Do we need to study algorithms for a data scie...</td>\n",
              "      <td>7</td>\n",
              "      <td>7.0</td>\n",
              "      <td>NaN</td>\n",
              "      <td>Is preparation of algorithms and data structur...</td>\n",
              "      <td>Is preparation of algorithms and data structur...</td>\n",
              "    </tr>\n",
              "    <tr>\n",
              "      <th>7</th>\n",
              "      <td>What is the mathematical background needed to ...</td>\n",
              "      <td>8</td>\n",
              "      <td>8.0</td>\n",
              "      <td>NaN</td>\n",
              "      <td>What is the mathematical background required t...</td>\n",
              "      <td>What is the mathematical background required t...</td>\n",
              "    </tr>\n",
              "    <tr>\n",
              "      <th>8</th>\n",
              "      <td>How many rounds of interview are in a data sc...</td>\n",
              "      <td>9</td>\n",
              "      <td>9.0</td>\n",
              "      <td>NaN</td>\n",
              "      <td>What are the various rounds in a data scientis...</td>\n",
              "      <td>What are the various rounds in a data scientis...</td>\n",
              "    </tr>\n",
              "    <tr>\n",
              "      <th>9</th>\n",
              "      <td>How proficient a data scientist has to be in c...</td>\n",
              "      <td>10</td>\n",
              "      <td>10.0</td>\n",
              "      <td>NaN</td>\n",
              "      <td>What level of proficiency is needed for a data...</td>\n",
              "      <td>What level of proficiency is needed for a data...</td>\n",
              "    </tr>\n",
              "  </tbody>\n",
              "</table>\n",
              "</div>"
            ],
            "text/plain": [
              "                                           questions  ...                                  PredictedQuestion\n",
              "0      How is the job searching experience nowadays?  ...   What does the job hunting experience look like ?\n",
              "1         How are the DS jobs on the market, please?  ...   What does the job hunting experience look like ?\n",
              "2            How is DS hiring impacted due to Covid?  ...  What's the impact of Covid on hiring for DS ro...\n",
              "3  In a data scientist what qualifications and at...  ...  What skills and qualities do employers look fo...\n",
              "4   Are employers looking for an advanced ML degree?  ...       Do employers look for an advanced ML degree?\n",
              "5    On a typical day what does a data scientist do?  ...  How does a typical day of a data scientist loo...\n",
              "6  Do we need to study algorithms for a data scie...  ...  Is preparation of algorithms and data structur...\n",
              "7  What is the mathematical background needed to ...  ...  What is the mathematical background required t...\n",
              "8   How many rounds of interview are in a data sc...  ...  What are the various rounds in a data scientis...\n",
              "9  How proficient a data scientist has to be in c...  ...  What level of proficiency is needed for a data...\n",
              "\n",
              "[10 rows x 6 columns]"
            ]
          },
          "metadata": {
            "tags": []
          },
          "execution_count": 23
        }
      ]
    },
    {
      "cell_type": "code",
      "metadata": {
        "id": "I0d5jdxhBPsv",
        "outputId": "334c7bd5-e6da-4dc3-afd5-9c657bae5019",
        "colab": {
          "base_uri": "https://localhost:8080/",
          "height": 511
        }
      },
      "source": [
        "for i in range(df_test.shape[0]):\n",
        " if df_test.iloc[i,1]!=df_test.iloc[i,2]:\n",
        "   df_test.iloc[i,3]='InCorrect'\n",
        " else:\n",
        "   df_test.iloc[i,3]='correct'\n",
        "df_test"
      ],
      "execution_count": 24,
      "outputs": [
        {
          "output_type": "execute_result",
          "data": {
            "text/html": [
              "<div>\n",
              "<style scoped>\n",
              "    .dataframe tbody tr th:only-of-type {\n",
              "        vertical-align: middle;\n",
              "    }\n",
              "\n",
              "    .dataframe tbody tr th {\n",
              "        vertical-align: top;\n",
              "    }\n",
              "\n",
              "    .dataframe thead th {\n",
              "        text-align: right;\n",
              "    }\n",
              "</style>\n",
              "<table border=\"1\" class=\"dataframe\">\n",
              "  <thead>\n",
              "    <tr style=\"text-align: right;\">\n",
              "      <th></th>\n",
              "      <th>questions</th>\n",
              "      <th>ActualCode</th>\n",
              "      <th>PredictedCode</th>\n",
              "      <th>Prediction?</th>\n",
              "      <th>ActualQuestion</th>\n",
              "      <th>PredictedQuestion</th>\n",
              "    </tr>\n",
              "  </thead>\n",
              "  <tbody>\n",
              "    <tr>\n",
              "      <th>0</th>\n",
              "      <td>How is the job searching experience nowadays?</td>\n",
              "      <td>1</td>\n",
              "      <td>1.0</td>\n",
              "      <td>correct</td>\n",
              "      <td>What does the job hunting experience look like ?</td>\n",
              "      <td>What does the job hunting experience look like ?</td>\n",
              "    </tr>\n",
              "    <tr>\n",
              "      <th>1</th>\n",
              "      <td>How are the DS jobs on the market, please?</td>\n",
              "      <td>2</td>\n",
              "      <td>1.0</td>\n",
              "      <td>InCorrect</td>\n",
              "      <td>Any insights you can offer about the DS job ma...</td>\n",
              "      <td>What does the job hunting experience look like ?</td>\n",
              "    </tr>\n",
              "    <tr>\n",
              "      <th>2</th>\n",
              "      <td>How is DS hiring impacted due to Covid?</td>\n",
              "      <td>3</td>\n",
              "      <td>3.0</td>\n",
              "      <td>correct</td>\n",
              "      <td>What's the impact of Covid on hiring for DS ro...</td>\n",
              "      <td>What's the impact of Covid on hiring for DS ro...</td>\n",
              "    </tr>\n",
              "    <tr>\n",
              "      <th>3</th>\n",
              "      <td>In a data scientist what qualifications and at...</td>\n",
              "      <td>4</td>\n",
              "      <td>4.0</td>\n",
              "      <td>correct</td>\n",
              "      <td>What skills and qualities do employers look fo...</td>\n",
              "      <td>What skills and qualities do employers look fo...</td>\n",
              "    </tr>\n",
              "    <tr>\n",
              "      <th>4</th>\n",
              "      <td>Are employers looking for an advanced ML degree?</td>\n",
              "      <td>5</td>\n",
              "      <td>5.0</td>\n",
              "      <td>correct</td>\n",
              "      <td>Do employers look for an advanced ML degree?</td>\n",
              "      <td>Do employers look for an advanced ML degree?</td>\n",
              "    </tr>\n",
              "    <tr>\n",
              "      <th>5</th>\n",
              "      <td>On a typical day what does a data scientist do?</td>\n",
              "      <td>6</td>\n",
              "      <td>6.0</td>\n",
              "      <td>correct</td>\n",
              "      <td>How does a typical day of a data scientist loo...</td>\n",
              "      <td>How does a typical day of a data scientist loo...</td>\n",
              "    </tr>\n",
              "    <tr>\n",
              "      <th>6</th>\n",
              "      <td>Do we need to study algorithms for a data scie...</td>\n",
              "      <td>7</td>\n",
              "      <td>7.0</td>\n",
              "      <td>correct</td>\n",
              "      <td>Is preparation of algorithms and data structur...</td>\n",
              "      <td>Is preparation of algorithms and data structur...</td>\n",
              "    </tr>\n",
              "    <tr>\n",
              "      <th>7</th>\n",
              "      <td>What is the mathematical background needed to ...</td>\n",
              "      <td>8</td>\n",
              "      <td>8.0</td>\n",
              "      <td>correct</td>\n",
              "      <td>What is the mathematical background required t...</td>\n",
              "      <td>What is the mathematical background required t...</td>\n",
              "    </tr>\n",
              "    <tr>\n",
              "      <th>8</th>\n",
              "      <td>How many rounds of interview are in a data sc...</td>\n",
              "      <td>9</td>\n",
              "      <td>9.0</td>\n",
              "      <td>correct</td>\n",
              "      <td>What are the various rounds in a data scientis...</td>\n",
              "      <td>What are the various rounds in a data scientis...</td>\n",
              "    </tr>\n",
              "    <tr>\n",
              "      <th>9</th>\n",
              "      <td>How proficient a data scientist has to be in c...</td>\n",
              "      <td>10</td>\n",
              "      <td>10.0</td>\n",
              "      <td>correct</td>\n",
              "      <td>What level of proficiency is needed for a data...</td>\n",
              "      <td>What level of proficiency is needed for a data...</td>\n",
              "    </tr>\n",
              "  </tbody>\n",
              "</table>\n",
              "</div>"
            ],
            "text/plain": [
              "                                           questions  ...                                  PredictedQuestion\n",
              "0      How is the job searching experience nowadays?  ...   What does the job hunting experience look like ?\n",
              "1         How are the DS jobs on the market, please?  ...   What does the job hunting experience look like ?\n",
              "2            How is DS hiring impacted due to Covid?  ...  What's the impact of Covid on hiring for DS ro...\n",
              "3  In a data scientist what qualifications and at...  ...  What skills and qualities do employers look fo...\n",
              "4   Are employers looking for an advanced ML degree?  ...       Do employers look for an advanced ML degree?\n",
              "5    On a typical day what does a data scientist do?  ...  How does a typical day of a data scientist loo...\n",
              "6  Do we need to study algorithms for a data scie...  ...  Is preparation of algorithms and data structur...\n",
              "7  What is the mathematical background needed to ...  ...  What is the mathematical background required t...\n",
              "8   How many rounds of interview are in a data sc...  ...  What are the various rounds in a data scientis...\n",
              "9  How proficient a data scientist has to be in c...  ...  What level of proficiency is needed for a data...\n",
              "\n",
              "[10 rows x 6 columns]"
            ]
          },
          "metadata": {
            "tags": []
          },
          "execution_count": 24
        }
      ]
    },
    {
      "cell_type": "code",
      "metadata": {
        "id": "XYmWMFJ6BfV9"
      },
      "source": [
        "list_data_answers=df_test.ActualCode.values.tolist()\n",
        "list_data_FoundCode=df_test.PredictedCode.values.tolist()"
      ],
      "execution_count": 25,
      "outputs": []
    },
    {
      "cell_type": "code",
      "metadata": {
        "id": "X4RAC3NaBh_Z",
        "outputId": "b058b5f1-483e-4908-c6ea-64d2d56e1477",
        "colab": {
          "base_uri": "https://localhost:8080/"
        }
      },
      "source": [
        "#printing confusion matrix\n",
        "from sklearn.metrics import multilabel_confusion_matrix\n",
        "from sklearn import metrics\n",
        "multilabel_confusion_matrix(list_data_answers, list_data_FoundCode)\n",
        "#tn, fp, fn, tp = confusion_matrix([1, 2, 3, 4, 5, 6, 7, 8, 9, 10], [1.0, 2.0, 2.0, 10.0, 4.0, 1.0, 2.0, 1.0, 2.0, 2.0]).ravel()\n",
        "#print(metrics.classification_report(list_data_answers, list_data_FoundCode))"
      ],
      "execution_count": 26,
      "outputs": [
        {
          "output_type": "execute_result",
          "data": {
            "text/plain": [
              "array([[[8, 1],\n",
              "        [0, 1]],\n",
              "\n",
              "       [[9, 0],\n",
              "        [1, 0]],\n",
              "\n",
              "       [[9, 0],\n",
              "        [0, 1]],\n",
              "\n",
              "       [[9, 0],\n",
              "        [0, 1]],\n",
              "\n",
              "       [[9, 0],\n",
              "        [0, 1]],\n",
              "\n",
              "       [[9, 0],\n",
              "        [0, 1]],\n",
              "\n",
              "       [[9, 0],\n",
              "        [0, 1]],\n",
              "\n",
              "       [[9, 0],\n",
              "        [0, 1]],\n",
              "\n",
              "       [[9, 0],\n",
              "        [0, 1]],\n",
              "\n",
              "       [[9, 0],\n",
              "        [0, 1]]])"
            ]
          },
          "metadata": {
            "tags": []
          },
          "execution_count": 26
        }
      ]
    },
    {
      "cell_type": "code",
      "metadata": {
        "id": "G9eRPsLpBkTp"
      },
      "source": [
        "import matplotlib.pyplot as plt\n",
        "from mlxtend.evaluate import confusion_matrix\n",
        "\n",
        "\n",
        "cm = confusion_matrix(list_data_answers, list_data_FoundCode, binary=False)"
      ],
      "execution_count": 27,
      "outputs": []
    },
    {
      "cell_type": "code",
      "metadata": {
        "id": "zrAkUo-TBmSF",
        "outputId": "852d943e-bed5-4df3-89da-e3702ad51d00",
        "colab": {
          "base_uri": "https://localhost:8080/",
          "height": 279
        }
      },
      "source": [
        "import matplotlib.pyplot as plt\n",
        "from mlxtend.evaluate import confusion_matrix\n",
        "from mlxtend.plotting import plot_confusion_matrix\n",
        "\n",
        "import pprint\n",
        "#printing confusion matrix\n",
        "fig, ax = plot_confusion_matrix(conf_mat=cm)\n",
        "plt.show()"
      ],
      "execution_count": 28,
      "outputs": [
        {
          "output_type": "display_data",
          "data": {
            "image/png": "[encoded data removed]",
            "text/plain": [
              "<Figure size 432x288 with 1 Axes>"
            ]
          },
          "metadata": {
            "tags": [],
            "needs_background": "light"
          }
        }
      ]
    },
    {
      "cell_type": "code",
      "metadata": {
        "id": "13LA4OWABoHB",
        "outputId": "bb588d90-9bf7-48d0-ba36-4b6f3805520d",
        "colab": {
          "base_uri": "https://localhost:8080/"
        }
      },
      "source": [
        "print(metrics.classification_report(list_data_answers, list_data_FoundCode))"
      ],
      "execution_count": 29,
      "outputs": [
        {
          "output_type": "stream",
          "text": [
            "              precision    recall  f1-score   support\n",
            "\n",
            "           1       0.50      1.00      0.67         1\n",
            "           2       0.00      0.00      0.00         1\n",
            "           3       1.00      1.00      1.00         1\n",
            "           4       1.00      1.00      1.00         1\n",
            "           5       1.00      1.00      1.00         1\n",
            "           6       1.00      1.00      1.00         1\n",
            "           7       1.00      1.00      1.00         1\n",
            "           8       1.00      1.00      1.00         1\n",
            "           9       1.00      1.00      1.00         1\n",
            "          10       1.00      1.00      1.00         1\n",
            "\n",
            "    accuracy                           0.90        10\n",
            "   macro avg       0.85      0.90      0.87        10\n",
            "weighted avg       0.85      0.90      0.87        10\n",
            "\n"
          ],
          "name": "stdout"
        },
        {
          "output_type": "stream",
          "text": [
            "/usr/local/lib/python3.6/dist-packages/sklearn/metrics/_classification.py:1272: UndefinedMetricWarning: Precision and F-score are ill-defined and being set to 0.0 in labels with no predicted samples. Use `zero_division` parameter to control this behavior.\n",
            "  _warn_prf(average, modifier, msg_start, len(result))\n"
          ],
          "name": "stderr"
        }
      ]
    },
    {
      "cell_type": "markdown",
      "metadata": {
        "id": "eAzR_uh9Cb5P"
      },
      "source": [
        "#Dataset3-Medium"
      ]
    },
    {
      "cell_type": "markdown",
      "metadata": {
        "id": "nmZC5IN5Cb5R"
      },
      "source": [
        "##Import Dataset"
      ]
    },
    {
      "cell_type": "code",
      "metadata": {
        "id": "eiu8p5a9Cb5T",
        "outputId": "6838b398-83eb-4a33-be81-aaeb83050268",
        "colab": {
          "base_uri": "https://localhost:8080/",
          "height": 343
        }
      },
      "source": [
        "import pandas as pd;\n",
        "\n",
        "#Loading dataset and renaming columns\n",
        "\n",
        "df=pd.read_csv(\"FAQ_standard.csv\");\n",
        "df.columns=[\"questions\",\"answers\",\"Label\"];\n",
        "\n",
        "df"
      ],
      "execution_count": 30,
      "outputs": [
        {
          "output_type": "execute_result",
          "data": {
            "text/html": [
              "<div>\n",
              "<style scoped>\n",
              "    .dataframe tbody tr th:only-of-type {\n",
              "        vertical-align: middle;\n",
              "    }\n",
              "\n",
              "    .dataframe tbody tr th {\n",
              "        vertical-align: top;\n",
              "    }\n",
              "\n",
              "    .dataframe thead th {\n",
              "        text-align: right;\n",
              "    }\n",
              "</style>\n",
              "<table border=\"1\" class=\"dataframe\">\n",
              "  <thead>\n",
              "    <tr style=\"text-align: right;\">\n",
              "      <th></th>\n",
              "      <th>questions</th>\n",
              "      <th>answers</th>\n",
              "      <th>Label</th>\n",
              "    </tr>\n",
              "  </thead>\n",
              "  <tbody>\n",
              "    <tr>\n",
              "      <th>0</th>\n",
              "      <td>What does the job hunting experience look like ?</td>\n",
              "      <td>Job hunting experience involves networking to ...</td>\n",
              "      <td>1</td>\n",
              "    </tr>\n",
              "    <tr>\n",
              "      <th>1</th>\n",
              "      <td>Any insights you can offer about the DS job ma...</td>\n",
              "      <td>There are many kinds of roles, data scientist,...</td>\n",
              "      <td>2</td>\n",
              "    </tr>\n",
              "    <tr>\n",
              "      <th>2</th>\n",
              "      <td>What's the impact of Covid on hiring for DS ro...</td>\n",
              "      <td>Hiring is going to slow down. First in small c...</td>\n",
              "      <td>3</td>\n",
              "    </tr>\n",
              "    <tr>\n",
              "      <th>3</th>\n",
              "      <td>What skills and qualities do employers look fo...</td>\n",
              "      <td>The following are some skills employers usuall...</td>\n",
              "      <td>4</td>\n",
              "    </tr>\n",
              "    <tr>\n",
              "      <th>4</th>\n",
              "      <td>Do employers look for an advanced ML degree?</td>\n",
              "      <td>For more senior roles: People typically look f...</td>\n",
              "      <td>5</td>\n",
              "    </tr>\n",
              "    <tr>\n",
              "      <th>5</th>\n",
              "      <td>How does a typical day of a data scientist loo...</td>\n",
              "      <td>Here are some tasks in the typical day of a da...</td>\n",
              "      <td>6</td>\n",
              "    </tr>\n",
              "    <tr>\n",
              "      <th>6</th>\n",
              "      <td>Is preparation of algorithms and data structur...</td>\n",
              "      <td>Yes. In many data science interviews (ML Scien...</td>\n",
              "      <td>7</td>\n",
              "    </tr>\n",
              "    <tr>\n",
              "      <th>7</th>\n",
              "      <td>What is the mathematical background required t...</td>\n",
              "      <td>The following three are the basic building blo...</td>\n",
              "      <td>8</td>\n",
              "    </tr>\n",
              "    <tr>\n",
              "      <th>8</th>\n",
              "      <td>What are the various rounds in a data scientis...</td>\n",
              "      <td>Usually the data science interview has a subse...</td>\n",
              "      <td>9</td>\n",
              "    </tr>\n",
              "    <tr>\n",
              "      <th>9</th>\n",
              "      <td>What level of proficiency is needed for a data...</td>\n",
              "      <td>Needs to be reasonably proficient. Again, a da...</td>\n",
              "      <td>10</td>\n",
              "    </tr>\n",
              "  </tbody>\n",
              "</table>\n",
              "</div>"
            ],
            "text/plain": [
              "                                           questions  ... Label\n",
              "0   What does the job hunting experience look like ?  ...     1\n",
              "1  Any insights you can offer about the DS job ma...  ...     2\n",
              "2  What's the impact of Covid on hiring for DS ro...  ...     3\n",
              "3  What skills and qualities do employers look fo...  ...     4\n",
              "4       Do employers look for an advanced ML degree?  ...     5\n",
              "5  How does a typical day of a data scientist loo...  ...     6\n",
              "6  Is preparation of algorithms and data structur...  ...     7\n",
              "7  What is the mathematical background required t...  ...     8\n",
              "8  What are the various rounds in a data scientis...  ...     9\n",
              "9  What level of proficiency is needed for a data...  ...    10\n",
              "\n",
              "[10 rows x 3 columns]"
            ]
          },
          "metadata": {
            "tags": []
          },
          "execution_count": 30
        }
      ]
    },
    {
      "cell_type": "code",
      "metadata": {
        "id": "ULsXb7IwCb5c",
        "outputId": "61f5ebab-b972-4213-d0e2-5ba502baf58f",
        "colab": {
          "base_uri": "https://localhost:8080/",
          "height": 377
        }
      },
      "source": [
        "import pandas as pd;\n",
        "\n",
        "#Load dataset and examine dataset, rename columns to questions and answers\n",
        "\n",
        "df_test=pd.read_excel(\"FAQ_test_Medium.xlsx\")\n",
        "df_test.columns=[\"questions\",\"ActualCode\",\"PredictedCode\",\"Prediction?\",\"ActualQuestion\",\"PredictedQuestion\"]\n",
        "\n",
        "df_test"
      ],
      "execution_count": 31,
      "outputs": [
        {
          "output_type": "execute_result",
          "data": {
            "text/html": [
              "<div>\n",
              "<style scoped>\n",
              "    .dataframe tbody tr th:only-of-type {\n",
              "        vertical-align: middle;\n",
              "    }\n",
              "\n",
              "    .dataframe tbody tr th {\n",
              "        vertical-align: top;\n",
              "    }\n",
              "\n",
              "    .dataframe thead th {\n",
              "        text-align: right;\n",
              "    }\n",
              "</style>\n",
              "<table border=\"1\" class=\"dataframe\">\n",
              "  <thead>\n",
              "    <tr style=\"text-align: right;\">\n",
              "      <th></th>\n",
              "      <th>questions</th>\n",
              "      <th>ActualCode</th>\n",
              "      <th>PredictedCode</th>\n",
              "      <th>Prediction?</th>\n",
              "      <th>ActualQuestion</th>\n",
              "      <th>PredictedQuestion</th>\n",
              "    </tr>\n",
              "  </thead>\n",
              "  <tbody>\n",
              "    <tr>\n",
              "      <th>0</th>\n",
              "      <td>How does job searching experience would look?</td>\n",
              "      <td>1</td>\n",
              "      <td>NaN</td>\n",
              "      <td>NaN</td>\n",
              "      <td>What does the job hunting experience look like ?</td>\n",
              "      <td>NaN</td>\n",
              "    </tr>\n",
              "    <tr>\n",
              "      <th>1</th>\n",
              "      <td>Please provide how DS jobs are in the market?</td>\n",
              "      <td>2</td>\n",
              "      <td>NaN</td>\n",
              "      <td>NaN</td>\n",
              "      <td>Any insights you can offer about the DS job ma...</td>\n",
              "      <td>NaN</td>\n",
              "    </tr>\n",
              "    <tr>\n",
              "      <th>2</th>\n",
              "      <td>How has the Covid impacted DS hiring?</td>\n",
              "      <td>3</td>\n",
              "      <td>NaN</td>\n",
              "      <td>NaN</td>\n",
              "      <td>What's the impact of Covid on hiring for DS ro...</td>\n",
              "      <td>NaN</td>\n",
              "    </tr>\n",
              "    <tr>\n",
              "      <th>3</th>\n",
              "      <td>What skills do employers want from data scienc...</td>\n",
              "      <td>4</td>\n",
              "      <td>NaN</td>\n",
              "      <td>NaN</td>\n",
              "      <td>What skills and qualities do employers look fo...</td>\n",
              "      <td>NaN</td>\n",
              "    </tr>\n",
              "    <tr>\n",
              "      <th>4</th>\n",
              "      <td>Is advanced degree in ML required?</td>\n",
              "      <td>5</td>\n",
              "      <td>NaN</td>\n",
              "      <td>NaN</td>\n",
              "      <td>Do employers look for an advanced ML degree?</td>\n",
              "      <td>NaN</td>\n",
              "    </tr>\n",
              "    <tr>\n",
              "      <th>5</th>\n",
              "      <td>What data scientist do in a typical day?</td>\n",
              "      <td>6</td>\n",
              "      <td>NaN</td>\n",
              "      <td>NaN</td>\n",
              "      <td>How does a typical day of a data scientist loo...</td>\n",
              "      <td>NaN</td>\n",
              "    </tr>\n",
              "    <tr>\n",
              "      <th>6</th>\n",
              "      <td>For an interview in data science are we requir...</td>\n",
              "      <td>7</td>\n",
              "      <td>NaN</td>\n",
              "      <td>NaN</td>\n",
              "      <td>Is preparation of algorithms and data structur...</td>\n",
              "      <td>NaN</td>\n",
              "    </tr>\n",
              "    <tr>\n",
              "      <th>7</th>\n",
              "      <td>What is the mathematical background required t...</td>\n",
              "      <td>8</td>\n",
              "      <td>NaN</td>\n",
              "      <td>NaN</td>\n",
              "      <td>What is the mathematical background required t...</td>\n",
              "      <td>NaN</td>\n",
              "    </tr>\n",
              "    <tr>\n",
              "      <th>8</th>\n",
              "      <td>How many rounds of interview are required to c...</td>\n",
              "      <td>9</td>\n",
              "      <td>NaN</td>\n",
              "      <td>NaN</td>\n",
              "      <td>What are the various rounds in a data scientis...</td>\n",
              "      <td>NaN</td>\n",
              "    </tr>\n",
              "    <tr>\n",
              "      <th>9</th>\n",
              "      <td>How much proficient a data scientist should be...</td>\n",
              "      <td>10</td>\n",
              "      <td>NaN</td>\n",
              "      <td>NaN</td>\n",
              "      <td>What level of proficiency is needed for a data...</td>\n",
              "      <td>NaN</td>\n",
              "    </tr>\n",
              "  </tbody>\n",
              "</table>\n",
              "</div>"
            ],
            "text/plain": [
              "                                           questions  ...  PredictedQuestion\n",
              "0      How does job searching experience would look?  ...                NaN\n",
              "1      Please provide how DS jobs are in the market?  ...                NaN\n",
              "2              How has the Covid impacted DS hiring?  ...                NaN\n",
              "3  What skills do employers want from data scienc...  ...                NaN\n",
              "4                 Is advanced degree in ML required?  ...                NaN\n",
              "5           What data scientist do in a typical day?  ...                NaN\n",
              "6  For an interview in data science are we requir...  ...                NaN\n",
              "7  What is the mathematical background required t...  ...                NaN\n",
              "8  How many rounds of interview are required to c...  ...                NaN\n",
              "9  How much proficient a data scientist should be...  ...                NaN\n",
              "\n",
              "[10 rows x 6 columns]"
            ]
          },
          "metadata": {
            "tags": []
          },
          "execution_count": 31
        }
      ]
    },
    {
      "cell_type": "markdown",
      "metadata": {
        "id": "4Q_5foxVCb5k"
      },
      "source": [
        "##BERT Model"
      ]
    },
    {
      "cell_type": "code",
      "metadata": {
        "id": "ryeW5QrLCb5l",
        "outputId": "dd002bbc-d548-41ba-efa5-fef27efabf19",
        "colab": {
          "base_uri": "https://localhost:8080/"
        }
      },
      "source": [
        "#cleaning test data questions\n",
        "cleaned_sentences_test=get_cleaned_sentences(df_test,stopwords=False)\n",
        "print(cleaned_sentences_test);"
      ],
      "execution_count": 32,
      "outputs": [
        {
          "output_type": "stream",
          "text": [
            "['how does job searching experience would look', 'please provide how ds jobs are in the market', 'how has the covid impacted ds hiring', 'what skills do employers want from data science positions', 'is advanced degree in ml required', 'what data scientist do in a typical day', 'for an interview in data science are we required to study algorithms', 'what is the mathematical background required to be a data scientist ', 'how many rounds of interview are required to clear data scientist interview ', 'how much proficient a data scientist should be in coding']\n"
          ],
          "name": "stdout"
        }
      ]
    },
    {
      "cell_type": "code",
      "metadata": {
        "id": "mjvX9XL3Cb5q"
      },
      "source": [
        "#cleaning original data questions\n",
        "cleaned_sentences=get_cleaned_sentences(df,stopwords=False)"
      ],
      "execution_count": 33,
      "outputs": []
    },
    {
      "cell_type": "code",
      "metadata": {
        "id": "swFEEJZuCb5v",
        "outputId": "d566cc37-2861-42c4-8fe7-ecf39c3c264d",
        "colab": {
          "base_uri": "https://localhost:8080/"
        }
      },
      "source": [
        "print(cleaned_sentences)"
      ],
      "execution_count": 34,
      "outputs": [
        {
          "output_type": "stream",
          "text": [
            "['what does the job hunting experience look like ', 'any insights you can offer about the ds job market ', 'whats the impact of covid on hiring for ds roles', 'what skills and qualities do employers look for in a data scientist', 'do employers look for an advanced ml degree', 'how does a typical day of a data scientist look like', 'is preparation of algorithms and data structures needed for a data science interview ', 'what is the mathematical background required to be a data scientist ', 'what are the various rounds in a data scientist interview ', 'what level of proficiency is needed for a data scientist in coding']\n"
          ],
          "name": "stdout"
        }
      ]
    },
    {
      "cell_type": "code",
      "metadata": {
        "id": "r1OhthJeCb5z"
      },
      "source": [
        "#Embedding original question dataset\n",
        "\n",
        "sent_bertphrase_embeddings=[];\n",
        "\n",
        "for sent in cleaned_sentences:\n",
        "    sent_bertphrase_embeddings.append(bc.encode([sent]));"
      ],
      "execution_count": 35,
      "outputs": []
    },
    {
      "cell_type": "code",
      "metadata": {
        "id": "gM_j-CbjCb52"
      },
      "source": [
        "#Embeding test question dataset\n",
        "\n",
        "sent_bertphrase_embeddings_test=[];\n",
        "for sent_test in cleaned_sentences_test:\n",
        "    sent_bertphrase_embeddings_test.append(bc.encode([sent_test]));\n"
      ],
      "execution_count": 36,
      "outputs": []
    },
    {
      "cell_type": "code",
      "metadata": {
        "id": "XJZ5NkkJCb55",
        "outputId": "9707a6a6-101e-490b-d399-c369b42fd24e",
        "colab": {
          "base_uri": "https://localhost:8080/"
        }
      },
      "source": [
        "import sklearn\n",
        "from sklearn.metrics.pairwise import cosine_similarity;\n",
        "def retrieveAndPrintFAQAnswer(question_embeddings_test1,sentence_embeddings1,FAQdf1,sentences1,FAQdf_test1,sentences_test1):\n",
        "  for index_test,faq_embedding_test in enumerate(question_embeddings_test1):\n",
        "    max_sim=-1;\n",
        "    index_sim=-1;\n",
        "    for index,faq_embedding in enumerate(sentence_embeddings1):\n",
        "        \n",
        "      sim=cosine_similarity(faq_embedding,faq_embedding_test)[0][0];\n",
        "      #print(index, sim, sentences[index])\n",
        "      if sim>max_sim:\n",
        "        max_sim=sim;\n",
        "        index_sim=index;\n",
        "\n",
        "    FAQdf_test1.iloc[index_test,2]=FAQdf1.iloc[index_sim,2]\n",
        "    FAQdf_test1.iloc[index_test,5]=FAQdf1.iloc[index_sim,0]\n",
        "    print(\"\\n\")\n",
        "    print(\"Question: \",sentences_test1[index_test])\n",
        "    print(\"\\n\");\n",
        "    print(\"Retrieved: \",FAQdf1.iloc[index_sim,0]) \n",
        "    print(\"Answer:\",FAQdf1.iloc[index_sim,1])        \n",
        "  df_test=FAQdf_test1 \n",
        "retrieveAndPrintFAQAnswer(sent_bertphrase_embeddings_test,sent_bertphrase_embeddings,df,cleaned_sentences,df_test,cleaned_sentences_test);"
      ],
      "execution_count": 37,
      "outputs": [
        {
          "output_type": "stream",
          "text": [
            "\n",
            "\n",
            "Question:  how does job searching experience would look\n",
            "\n",
            "\n",
            "Retrieved:  What does the job hunting experience look like ?\n",
            "Answer: Job hunting experience involves networking to get in touch with the right people in various companies, applying to lots of jobs through various channels, preparing for interviews – while interviews are uncertain it is necessary to prepare well what you CAN prepare, smart scheduling of interviews to get the best job and salary you can.\n",
            "\n",
            "\n",
            "Question:  please provide how ds jobs are in the market\n",
            "\n",
            "\n",
            "Retrieved:  Any insights you can offer about the DS job market ?\n",
            "Answer: There are many kinds of roles, data scientist, analyst, data engineer and so on. There are many levels of companies. In smaller companies the roles are usually combined into one while in larger companies there are more nuanced roles. Since more and more companies are just getting started on their data journey, the overall demand is expected to increase in the next few years.\n",
            "\n",
            "\n",
            "Question:  how has the covid impacted ds hiring\n",
            "\n",
            "\n",
            "Retrieved:  What's the impact of Covid on hiring for DS roles?\n",
            "Answer: Hiring is going to slow down. First in small companies then eventually in enterprises in a couple of months. But it is likely to pick up in a few months. Hence, if you are looking to transition, this is a good time to ramp up skills and learn new things that might usually take some time.\n",
            "\n",
            "\n",
            "Question:  what skills do employers want from data science positions\n",
            "\n",
            "\n",
            "Retrieved:  What skills and qualities do employers look for in a data scientist?\n",
            "Answer: The following are some skills employers usually look for: \n",
            "\n",
            "(1) Should be good at coding \n",
            "(2) Should have good problem solving and analysis skills \n",
            "(3) Should be good with stats and building testing and deploying models. \n",
            "\n",
            "A data scientist is a software developer ++ with stats and modeling skills to build and deploy models and make inferences from data.\n",
            "\n",
            "\n",
            "Question:  is advanced degree in ml required\n",
            "\n",
            "\n",
            "Retrieved:  Do employers look for an advanced ML degree?\n",
            "Answer: For more senior roles: People typically look for practical experience for several years or a specialized degree with some experience. Employers typically want folks who have seen various kinds of ML problems and solved them, who can come up with the right solution for a new problem when they are looking for a more senior role.   \n",
            "\n",
            "For a beginner role: a degree usually adds some level of credibility, but if one has a good portfolio with good projects, it is usually an accepted substitute. Employers do hope to see if the candidate is comfortable with basic concepts in ML along with being able to write code.\n",
            "\n",
            "\n",
            "Question:  what data scientist do in a typical day\n",
            "\n",
            "\n",
            "Retrieved:  How does a typical day of a data scientist look like?\n",
            "Answer: Here are some tasks in the typical day of a data scientist:\n",
            "\n",
            "Make a plan for the day\n",
            "Look at data, what clean up is required, figure out what models can be built\n",
            "Talk to various stakeholders about what modeling is possible and help them narrow down to something useful for the business\n",
            "Build models, test and debug (takes a long time)\n",
            "Parameter tuning – test tons and tons of parameters (takes a long time)\n",
            "Come up with prod architecture to get deployment ready\n",
            "Write ML pipeline for production ready modeles – deploy them\n",
            "Wait for long time till we have a significant sample to see if they are working\n",
            "Analyze and see whether the models are working as expected, have any impact\n",
            "Come up with improvements/ corrections based on prod feedback and prepare for next iteration.\n",
            "Meeting with team members / daily sprints / bug triages based on production feedback – Interaction with ML Manager, Product Manager, Developers, Data engineers\n",
            "\n",
            "\n",
            "Question:  for an interview in data science are we required to study algorithms\n",
            "\n",
            "\n",
            "Retrieved:  Is preparation of algorithms and data structures needed for a data science interview ?\n",
            "Answer: Yes. In many data science interviews (ML Scientist, data scientist, ML Engineer, Data engineer) there is a coding round and an algorithms round. So preparing algorithms and data structures is necessary. Some of the Analyst interviews, such as a data analyst and a business analyst might not have an algorithms and data structures round.\n",
            "\n",
            "\n",
            "Question:  what is the mathematical background required to be a data scientist \n",
            "\n",
            "\n",
            "Retrieved:  What is the mathematical background required to be a data scientist ?\n",
            "Answer: The following three are the basic building blocks in terms of data science math background: Linear Algebra, Probability and Statistics and Calculus and optimization.\n",
            "\n",
            "\n",
            "Question:  how many rounds of interview are required to clear data scientist interview \n",
            "\n",
            "\n",
            "Retrieved:  Is preparation of algorithms and data structures needed for a data science interview ?\n",
            "Answer: Yes. In many data science interviews (ML Scientist, data scientist, ML Engineer, Data engineer) there is a coding round and an algorithms round. So preparing algorithms and data structures is necessary. Some of the Analyst interviews, such as a data analyst and a business analyst might not have an algorithms and data structures round.\n",
            "\n",
            "\n",
            "Question:  how much proficient a data scientist should be in coding\n",
            "\n",
            "\n",
            "Retrieved:  What level of proficiency is needed for a data scientist in coding?\n",
            "Answer: Needs to be reasonably proficient. Again, a data scientist is a developer ++. Usually expected to have the basic skills a developer has including understanding algorithms and data structures and being able to write clean, understable, efficient, well documented code.\n",
            "\n",
            "In many cases, the data scientist is expected to write production ready code and be able to understand the deployment process. In some cases, the coding could be for decision support.\n"
          ],
          "name": "stdout"
        }
      ]
    },
    {
      "cell_type": "code",
      "metadata": {
        "id": "rJ4-dIjrCb58",
        "outputId": "df03b779-6b76-46fe-c0e6-55b0756e6f79",
        "colab": {
          "base_uri": "https://localhost:8080/",
          "height": 511
        }
      },
      "source": [
        "df_test"
      ],
      "execution_count": 38,
      "outputs": [
        {
          "output_type": "execute_result",
          "data": {
            "text/html": [
              "<div>\n",
              "<style scoped>\n",
              "    .dataframe tbody tr th:only-of-type {\n",
              "        vertical-align: middle;\n",
              "    }\n",
              "\n",
              "    .dataframe tbody tr th {\n",
              "        vertical-align: top;\n",
              "    }\n",
              "\n",
              "    .dataframe thead th {\n",
              "        text-align: right;\n",
              "    }\n",
              "</style>\n",
              "<table border=\"1\" class=\"dataframe\">\n",
              "  <thead>\n",
              "    <tr style=\"text-align: right;\">\n",
              "      <th></th>\n",
              "      <th>questions</th>\n",
              "      <th>ActualCode</th>\n",
              "      <th>PredictedCode</th>\n",
              "      <th>Prediction?</th>\n",
              "      <th>ActualQuestion</th>\n",
              "      <th>PredictedQuestion</th>\n",
              "    </tr>\n",
              "  </thead>\n",
              "  <tbody>\n",
              "    <tr>\n",
              "      <th>0</th>\n",
              "      <td>How does job searching experience would look?</td>\n",
              "      <td>1</td>\n",
              "      <td>1.0</td>\n",
              "      <td>NaN</td>\n",
              "      <td>What does the job hunting experience look like ?</td>\n",
              "      <td>What does the job hunting experience look like ?</td>\n",
              "    </tr>\n",
              "    <tr>\n",
              "      <th>1</th>\n",
              "      <td>Please provide how DS jobs are in the market?</td>\n",
              "      <td>2</td>\n",
              "      <td>2.0</td>\n",
              "      <td>NaN</td>\n",
              "      <td>Any insights you can offer about the DS job ma...</td>\n",
              "      <td>Any insights you can offer about the DS job ma...</td>\n",
              "    </tr>\n",
              "    <tr>\n",
              "      <th>2</th>\n",
              "      <td>How has the Covid impacted DS hiring?</td>\n",
              "      <td>3</td>\n",
              "      <td>3.0</td>\n",
              "      <td>NaN</td>\n",
              "      <td>What's the impact of Covid on hiring for DS ro...</td>\n",
              "      <td>What's the impact of Covid on hiring for DS ro...</td>\n",
              "    </tr>\n",
              "    <tr>\n",
              "      <th>3</th>\n",
              "      <td>What skills do employers want from data scienc...</td>\n",
              "      <td>4</td>\n",
              "      <td>4.0</td>\n",
              "      <td>NaN</td>\n",
              "      <td>What skills and qualities do employers look fo...</td>\n",
              "      <td>What skills and qualities do employers look fo...</td>\n",
              "    </tr>\n",
              "    <tr>\n",
              "      <th>4</th>\n",
              "      <td>Is advanced degree in ML required?</td>\n",
              "      <td>5</td>\n",
              "      <td>5.0</td>\n",
              "      <td>NaN</td>\n",
              "      <td>Do employers look for an advanced ML degree?</td>\n",
              "      <td>Do employers look for an advanced ML degree?</td>\n",
              "    </tr>\n",
              "    <tr>\n",
              "      <th>5</th>\n",
              "      <td>What data scientist do in a typical day?</td>\n",
              "      <td>6</td>\n",
              "      <td>6.0</td>\n",
              "      <td>NaN</td>\n",
              "      <td>How does a typical day of a data scientist loo...</td>\n",
              "      <td>How does a typical day of a data scientist loo...</td>\n",
              "    </tr>\n",
              "    <tr>\n",
              "      <th>6</th>\n",
              "      <td>For an interview in data science are we requir...</td>\n",
              "      <td>7</td>\n",
              "      <td>7.0</td>\n",
              "      <td>NaN</td>\n",
              "      <td>Is preparation of algorithms and data structur...</td>\n",
              "      <td>Is preparation of algorithms and data structur...</td>\n",
              "    </tr>\n",
              "    <tr>\n",
              "      <th>7</th>\n",
              "      <td>What is the mathematical background required t...</td>\n",
              "      <td>8</td>\n",
              "      <td>8.0</td>\n",
              "      <td>NaN</td>\n",
              "      <td>What is the mathematical background required t...</td>\n",
              "      <td>What is the mathematical background required t...</td>\n",
              "    </tr>\n",
              "    <tr>\n",
              "      <th>8</th>\n",
              "      <td>How many rounds of interview are required to c...</td>\n",
              "      <td>9</td>\n",
              "      <td>7.0</td>\n",
              "      <td>NaN</td>\n",
              "      <td>What are the various rounds in a data scientis...</td>\n",
              "      <td>Is preparation of algorithms and data structur...</td>\n",
              "    </tr>\n",
              "    <tr>\n",
              "      <th>9</th>\n",
              "      <td>How much proficient a data scientist should be...</td>\n",
              "      <td>10</td>\n",
              "      <td>10.0</td>\n",
              "      <td>NaN</td>\n",
              "      <td>What level of proficiency is needed for a data...</td>\n",
              "      <td>What level of proficiency is needed for a data...</td>\n",
              "    </tr>\n",
              "  </tbody>\n",
              "</table>\n",
              "</div>"
            ],
            "text/plain": [
              "                                           questions  ...                                  PredictedQuestion\n",
              "0      How does job searching experience would look?  ...   What does the job hunting experience look like ?\n",
              "1      Please provide how DS jobs are in the market?  ...  Any insights you can offer about the DS job ma...\n",
              "2              How has the Covid impacted DS hiring?  ...  What's the impact of Covid on hiring for DS ro...\n",
              "3  What skills do employers want from data scienc...  ...  What skills and qualities do employers look fo...\n",
              "4                 Is advanced degree in ML required?  ...       Do employers look for an advanced ML degree?\n",
              "5           What data scientist do in a typical day?  ...  How does a typical day of a data scientist loo...\n",
              "6  For an interview in data science are we requir...  ...  Is preparation of algorithms and data structur...\n",
              "7  What is the mathematical background required t...  ...  What is the mathematical background required t...\n",
              "8  How many rounds of interview are required to c...  ...  Is preparation of algorithms and data structur...\n",
              "9  How much proficient a data scientist should be...  ...  What level of proficiency is needed for a data...\n",
              "\n",
              "[10 rows x 6 columns]"
            ]
          },
          "metadata": {
            "tags": []
          },
          "execution_count": 38
        }
      ]
    },
    {
      "cell_type": "code",
      "metadata": {
        "id": "8Wq2JCiOCb5_",
        "outputId": "649a6641-c117-44c0-c071-ceabf486872a",
        "colab": {
          "base_uri": "https://localhost:8080/",
          "height": 511
        }
      },
      "source": [
        "for i in range(df_test.shape[0]):\n",
        " if df_test.iloc[i,1]!=df_test.iloc[i,2]:\n",
        "   df_test.iloc[i,3]='InCorrect'\n",
        " else:\n",
        "   df_test.iloc[i,3]='correct'\n",
        "df_test"
      ],
      "execution_count": 39,
      "outputs": [
        {
          "output_type": "execute_result",
          "data": {
            "text/html": [
              "<div>\n",
              "<style scoped>\n",
              "    .dataframe tbody tr th:only-of-type {\n",
              "        vertical-align: middle;\n",
              "    }\n",
              "\n",
              "    .dataframe tbody tr th {\n",
              "        vertical-align: top;\n",
              "    }\n",
              "\n",
              "    .dataframe thead th {\n",
              "        text-align: right;\n",
              "    }\n",
              "</style>\n",
              "<table border=\"1\" class=\"dataframe\">\n",
              "  <thead>\n",
              "    <tr style=\"text-align: right;\">\n",
              "      <th></th>\n",
              "      <th>questions</th>\n",
              "      <th>ActualCode</th>\n",
              "      <th>PredictedCode</th>\n",
              "      <th>Prediction?</th>\n",
              "      <th>ActualQuestion</th>\n",
              "      <th>PredictedQuestion</th>\n",
              "    </tr>\n",
              "  </thead>\n",
              "  <tbody>\n",
              "    <tr>\n",
              "      <th>0</th>\n",
              "      <td>How does job searching experience would look?</td>\n",
              "      <td>1</td>\n",
              "      <td>1.0</td>\n",
              "      <td>correct</td>\n",
              "      <td>What does the job hunting experience look like ?</td>\n",
              "      <td>What does the job hunting experience look like ?</td>\n",
              "    </tr>\n",
              "    <tr>\n",
              "      <th>1</th>\n",
              "      <td>Please provide how DS jobs are in the market?</td>\n",
              "      <td>2</td>\n",
              "      <td>2.0</td>\n",
              "      <td>correct</td>\n",
              "      <td>Any insights you can offer about the DS job ma...</td>\n",
              "      <td>Any insights you can offer about the DS job ma...</td>\n",
              "    </tr>\n",
              "    <tr>\n",
              "      <th>2</th>\n",
              "      <td>How has the Covid impacted DS hiring?</td>\n",
              "      <td>3</td>\n",
              "      <td>3.0</td>\n",
              "      <td>correct</td>\n",
              "      <td>What's the impact of Covid on hiring for DS ro...</td>\n",
              "      <td>What's the impact of Covid on hiring for DS ro...</td>\n",
              "    </tr>\n",
              "    <tr>\n",
              "      <th>3</th>\n",
              "      <td>What skills do employers want from data scienc...</td>\n",
              "      <td>4</td>\n",
              "      <td>4.0</td>\n",
              "      <td>correct</td>\n",
              "      <td>What skills and qualities do employers look fo...</td>\n",
              "      <td>What skills and qualities do employers look fo...</td>\n",
              "    </tr>\n",
              "    <tr>\n",
              "      <th>4</th>\n",
              "      <td>Is advanced degree in ML required?</td>\n",
              "      <td>5</td>\n",
              "      <td>5.0</td>\n",
              "      <td>correct</td>\n",
              "      <td>Do employers look for an advanced ML degree?</td>\n",
              "      <td>Do employers look for an advanced ML degree?</td>\n",
              "    </tr>\n",
              "    <tr>\n",
              "      <th>5</th>\n",
              "      <td>What data scientist do in a typical day?</td>\n",
              "      <td>6</td>\n",
              "      <td>6.0</td>\n",
              "      <td>correct</td>\n",
              "      <td>How does a typical day of a data scientist loo...</td>\n",
              "      <td>How does a typical day of a data scientist loo...</td>\n",
              "    </tr>\n",
              "    <tr>\n",
              "      <th>6</th>\n",
              "      <td>For an interview in data science are we requir...</td>\n",
              "      <td>7</td>\n",
              "      <td>7.0</td>\n",
              "      <td>correct</td>\n",
              "      <td>Is preparation of algorithms and data structur...</td>\n",
              "      <td>Is preparation of algorithms and data structur...</td>\n",
              "    </tr>\n",
              "    <tr>\n",
              "      <th>7</th>\n",
              "      <td>What is the mathematical background required t...</td>\n",
              "      <td>8</td>\n",
              "      <td>8.0</td>\n",
              "      <td>correct</td>\n",
              "      <td>What is the mathematical background required t...</td>\n",
              "      <td>What is the mathematical background required t...</td>\n",
              "    </tr>\n",
              "    <tr>\n",
              "      <th>8</th>\n",
              "      <td>How many rounds of interview are required to c...</td>\n",
              "      <td>9</td>\n",
              "      <td>7.0</td>\n",
              "      <td>InCorrect</td>\n",
              "      <td>What are the various rounds in a data scientis...</td>\n",
              "      <td>Is preparation of algorithms and data structur...</td>\n",
              "    </tr>\n",
              "    <tr>\n",
              "      <th>9</th>\n",
              "      <td>How much proficient a data scientist should be...</td>\n",
              "      <td>10</td>\n",
              "      <td>10.0</td>\n",
              "      <td>correct</td>\n",
              "      <td>What level of proficiency is needed for a data...</td>\n",
              "      <td>What level of proficiency is needed for a data...</td>\n",
              "    </tr>\n",
              "  </tbody>\n",
              "</table>\n",
              "</div>"
            ],
            "text/plain": [
              "                                           questions  ...                                  PredictedQuestion\n",
              "0      How does job searching experience would look?  ...   What does the job hunting experience look like ?\n",
              "1      Please provide how DS jobs are in the market?  ...  Any insights you can offer about the DS job ma...\n",
              "2              How has the Covid impacted DS hiring?  ...  What's the impact of Covid on hiring for DS ro...\n",
              "3  What skills do employers want from data scienc...  ...  What skills and qualities do employers look fo...\n",
              "4                 Is advanced degree in ML required?  ...       Do employers look for an advanced ML degree?\n",
              "5           What data scientist do in a typical day?  ...  How does a typical day of a data scientist loo...\n",
              "6  For an interview in data science are we requir...  ...  Is preparation of algorithms and data structur...\n",
              "7  What is the mathematical background required t...  ...  What is the mathematical background required t...\n",
              "8  How many rounds of interview are required to c...  ...  Is preparation of algorithms and data structur...\n",
              "9  How much proficient a data scientist should be...  ...  What level of proficiency is needed for a data...\n",
              "\n",
              "[10 rows x 6 columns]"
            ]
          },
          "metadata": {
            "tags": []
          },
          "execution_count": 39
        }
      ]
    },
    {
      "cell_type": "code",
      "metadata": {
        "id": "aaNd0JCACb6B"
      },
      "source": [
        "list_data_answers=df_test.ActualCode.values.tolist()\n",
        "list_data_FoundCode=df_test.PredictedCode.values.tolist()"
      ],
      "execution_count": 40,
      "outputs": []
    },
    {
      "cell_type": "code",
      "metadata": {
        "id": "jrRSWtyCCb6E",
        "outputId": "2310adf5-0a04-423b-8ab0-4734bfdf5cae",
        "colab": {
          "base_uri": "https://localhost:8080/"
        }
      },
      "source": [
        "#printing confusion matrix\n",
        "from sklearn.metrics import multilabel_confusion_matrix\n",
        "from sklearn import metrics\n",
        "multilabel_confusion_matrix(list_data_answers, list_data_FoundCode)\n",
        "#tn, fp, fn, tp = confusion_matrix([1, 2, 3, 4, 5, 6, 7, 8, 9, 10], [1.0, 2.0, 2.0, 10.0, 4.0, 1.0, 2.0, 1.0, 2.0, 2.0]).ravel()\n",
        "#print(metrics.classification_report(list_data_answers, list_data_FoundCode))"
      ],
      "execution_count": 41,
      "outputs": [
        {
          "output_type": "execute_result",
          "data": {
            "text/plain": [
              "array([[[9, 0],\n",
              "        [0, 1]],\n",
              "\n",
              "       [[9, 0],\n",
              "        [0, 1]],\n",
              "\n",
              "       [[9, 0],\n",
              "        [0, 1]],\n",
              "\n",
              "       [[9, 0],\n",
              "        [0, 1]],\n",
              "\n",
              "       [[9, 0],\n",
              "        [0, 1]],\n",
              "\n",
              "       [[9, 0],\n",
              "        [0, 1]],\n",
              "\n",
              "       [[8, 1],\n",
              "        [0, 1]],\n",
              "\n",
              "       [[9, 0],\n",
              "        [0, 1]],\n",
              "\n",
              "       [[9, 0],\n",
              "        [1, 0]],\n",
              "\n",
              "       [[9, 0],\n",
              "        [0, 1]]])"
            ]
          },
          "metadata": {
            "tags": []
          },
          "execution_count": 41
        }
      ]
    },
    {
      "cell_type": "code",
      "metadata": {
        "id": "mCIK2sTsCb6H"
      },
      "source": [
        "import matplotlib.pyplot as plt\n",
        "from mlxtend.evaluate import confusion_matrix\n",
        "\n",
        "\n",
        "cm = confusion_matrix(list_data_answers, list_data_FoundCode, binary=False)"
      ],
      "execution_count": 42,
      "outputs": []
    },
    {
      "cell_type": "code",
      "metadata": {
        "id": "l7X3QrM-Cb6K",
        "outputId": "ba770137-1ca7-4116-d39e-20bac874a729",
        "colab": {
          "base_uri": "https://localhost:8080/",
          "height": 279
        }
      },
      "source": [
        "import matplotlib.pyplot as plt\n",
        "from mlxtend.evaluate import confusion_matrix\n",
        "from mlxtend.plotting import plot_confusion_matrix\n",
        "\n",
        "import pprint\n",
        "#printing confusion matrix\n",
        "fig, ax = plot_confusion_matrix(conf_mat=cm)\n",
        "plt.show()"
      ],
      "execution_count": 43,
      "outputs": [
        {
          "output_type": "display_data",
          "data": {
            "image/png": "[encoded data removed]",
            "text/plain": [
              "<Figure size 432x288 with 1 Axes>"
            ]
          },
          "metadata": {
            "tags": [],
            "needs_background": "light"
          }
        }
      ]
    },
    {
      "cell_type": "code",
      "metadata": {
        "id": "qZC_6oThCb6P",
        "outputId": "9c5073a0-371c-4480-8ee3-9a4db191b3eb",
        "colab": {
          "base_uri": "https://localhost:8080/"
        }
      },
      "source": [
        "print(metrics.classification_report(list_data_answers, list_data_FoundCode))"
      ],
      "execution_count": 44,
      "outputs": [
        {
          "output_type": "stream",
          "text": [
            "              precision    recall  f1-score   support\n",
            "\n",
            "           1       1.00      1.00      1.00         1\n",
            "           2       1.00      1.00      1.00         1\n",
            "           3       1.00      1.00      1.00         1\n",
            "           4       1.00      1.00      1.00         1\n",
            "           5       1.00      1.00      1.00         1\n",
            "           6       1.00      1.00      1.00         1\n",
            "           7       0.50      1.00      0.67         1\n",
            "           8       1.00      1.00      1.00         1\n",
            "           9       0.00      0.00      0.00         1\n",
            "          10       1.00      1.00      1.00         1\n",
            "\n",
            "    accuracy                           0.90        10\n",
            "   macro avg       0.85      0.90      0.87        10\n",
            "weighted avg       0.85      0.90      0.87        10\n",
            "\n"
          ],
          "name": "stdout"
        },
        {
          "output_type": "stream",
          "text": [
            "/usr/local/lib/python3.6/dist-packages/sklearn/metrics/_classification.py:1272: UndefinedMetricWarning: Precision and F-score are ill-defined and being set to 0.0 in labels with no predicted samples. Use `zero_division` parameter to control this behavior.\n",
            "  _warn_prf(average, modifier, msg_start, len(result))\n"
          ],
          "name": "stderr"
        }
      ]
    },
    {
      "cell_type": "code",
      "metadata": {
        "id": "sW_uaCk7EBJI"
      },
      "source": [
        ""
      ],
      "execution_count": 44,
      "outputs": []
    },
    {
      "cell_type": "markdown",
      "metadata": {
        "id": "B0l2AmXFEI8u"
      },
      "source": [
        "#Dataset3-Hard"
      ]
    },
    {
      "cell_type": "markdown",
      "metadata": {
        "id": "90EtirsFEI8w"
      },
      "source": [
        "##Import Dataset"
      ]
    },
    {
      "cell_type": "code",
      "metadata": {
        "id": "DZteovWMEI83",
        "outputId": "145312bb-d301-4019-9ded-980ef5904d5c",
        "colab": {
          "base_uri": "https://localhost:8080/",
          "height": 343
        }
      },
      "source": [
        "import pandas as pd;\n",
        "\n",
        "#Loading dataset and renaming columns\n",
        "\n",
        "df=pd.read_csv(\"FAQ_standard.csv\");\n",
        "df.columns=[\"questions\",\"answers\",\"Label\"];\n",
        "\n",
        "df"
      ],
      "execution_count": 45,
      "outputs": [
        {
          "output_type": "execute_result",
          "data": {
            "text/html": [
              "<div>\n",
              "<style scoped>\n",
              "    .dataframe tbody tr th:only-of-type {\n",
              "        vertical-align: middle;\n",
              "    }\n",
              "\n",
              "    .dataframe tbody tr th {\n",
              "        vertical-align: top;\n",
              "    }\n",
              "\n",
              "    .dataframe thead th {\n",
              "        text-align: right;\n",
              "    }\n",
              "</style>\n",
              "<table border=\"1\" class=\"dataframe\">\n",
              "  <thead>\n",
              "    <tr style=\"text-align: right;\">\n",
              "      <th></th>\n",
              "      <th>questions</th>\n",
              "      <th>answers</th>\n",
              "      <th>Label</th>\n",
              "    </tr>\n",
              "  </thead>\n",
              "  <tbody>\n",
              "    <tr>\n",
              "      <th>0</th>\n",
              "      <td>What does the job hunting experience look like ?</td>\n",
              "      <td>Job hunting experience involves networking to ...</td>\n",
              "      <td>1</td>\n",
              "    </tr>\n",
              "    <tr>\n",
              "      <th>1</th>\n",
              "      <td>Any insights you can offer about the DS job ma...</td>\n",
              "      <td>There are many kinds of roles, data scientist,...</td>\n",
              "      <td>2</td>\n",
              "    </tr>\n",
              "    <tr>\n",
              "      <th>2</th>\n",
              "      <td>What's the impact of Covid on hiring for DS ro...</td>\n",
              "      <td>Hiring is going to slow down. First in small c...</td>\n",
              "      <td>3</td>\n",
              "    </tr>\n",
              "    <tr>\n",
              "      <th>3</th>\n",
              "      <td>What skills and qualities do employers look fo...</td>\n",
              "      <td>The following are some skills employers usuall...</td>\n",
              "      <td>4</td>\n",
              "    </tr>\n",
              "    <tr>\n",
              "      <th>4</th>\n",
              "      <td>Do employers look for an advanced ML degree?</td>\n",
              "      <td>For more senior roles: People typically look f...</td>\n",
              "      <td>5</td>\n",
              "    </tr>\n",
              "    <tr>\n",
              "      <th>5</th>\n",
              "      <td>How does a typical day of a data scientist loo...</td>\n",
              "      <td>Here are some tasks in the typical day of a da...</td>\n",
              "      <td>6</td>\n",
              "    </tr>\n",
              "    <tr>\n",
              "      <th>6</th>\n",
              "      <td>Is preparation of algorithms and data structur...</td>\n",
              "      <td>Yes. In many data science interviews (ML Scien...</td>\n",
              "      <td>7</td>\n",
              "    </tr>\n",
              "    <tr>\n",
              "      <th>7</th>\n",
              "      <td>What is the mathematical background required t...</td>\n",
              "      <td>The following three are the basic building blo...</td>\n",
              "      <td>8</td>\n",
              "    </tr>\n",
              "    <tr>\n",
              "      <th>8</th>\n",
              "      <td>What are the various rounds in a data scientis...</td>\n",
              "      <td>Usually the data science interview has a subse...</td>\n",
              "      <td>9</td>\n",
              "    </tr>\n",
              "    <tr>\n",
              "      <th>9</th>\n",
              "      <td>What level of proficiency is needed for a data...</td>\n",
              "      <td>Needs to be reasonably proficient. Again, a da...</td>\n",
              "      <td>10</td>\n",
              "    </tr>\n",
              "  </tbody>\n",
              "</table>\n",
              "</div>"
            ],
            "text/plain": [
              "                                           questions  ... Label\n",
              "0   What does the job hunting experience look like ?  ...     1\n",
              "1  Any insights you can offer about the DS job ma...  ...     2\n",
              "2  What's the impact of Covid on hiring for DS ro...  ...     3\n",
              "3  What skills and qualities do employers look fo...  ...     4\n",
              "4       Do employers look for an advanced ML degree?  ...     5\n",
              "5  How does a typical day of a data scientist loo...  ...     6\n",
              "6  Is preparation of algorithms and data structur...  ...     7\n",
              "7  What is the mathematical background required t...  ...     8\n",
              "8  What are the various rounds in a data scientis...  ...     9\n",
              "9  What level of proficiency is needed for a data...  ...    10\n",
              "\n",
              "[10 rows x 3 columns]"
            ]
          },
          "metadata": {
            "tags": []
          },
          "execution_count": 45
        }
      ]
    },
    {
      "cell_type": "code",
      "metadata": {
        "id": "1trD-yCaEI9A",
        "outputId": "375c7c9c-8ce8-4dc5-c787-6b9bb2c8e1a4",
        "colab": {
          "base_uri": "https://localhost:8080/",
          "height": 377
        }
      },
      "source": [
        "import pandas as pd;\n",
        "\n",
        "#Load dataset and examine dataset, rename columns to questions and answers\n",
        "\n",
        "df_test=pd.read_excel(\"FAQ_test_Hard.xlsx\")\n",
        "df_test.columns=[\"questions\",\"ActualCode\",\"PredictedCode\",\"Prediction?\",\"ActualQuestion\",\"PredictedQuestion\"]\n",
        "\n",
        "df_test"
      ],
      "execution_count": 46,
      "outputs": [
        {
          "output_type": "execute_result",
          "data": {
            "text/html": [
              "<div>\n",
              "<style scoped>\n",
              "    .dataframe tbody tr th:only-of-type {\n",
              "        vertical-align: middle;\n",
              "    }\n",
              "\n",
              "    .dataframe tbody tr th {\n",
              "        vertical-align: top;\n",
              "    }\n",
              "\n",
              "    .dataframe thead th {\n",
              "        text-align: right;\n",
              "    }\n",
              "</style>\n",
              "<table border=\"1\" class=\"dataframe\">\n",
              "  <thead>\n",
              "    <tr style=\"text-align: right;\">\n",
              "      <th></th>\n",
              "      <th>questions</th>\n",
              "      <th>ActualCode</th>\n",
              "      <th>PredictedCode</th>\n",
              "      <th>Prediction?</th>\n",
              "      <th>ActualQuestion</th>\n",
              "      <th>PredictedQuestion</th>\n",
              "    </tr>\n",
              "  </thead>\n",
              "  <tbody>\n",
              "    <tr>\n",
              "      <th>0</th>\n",
              "      <td>How difficult is it to find a job?</td>\n",
              "      <td>1</td>\n",
              "      <td>NaN</td>\n",
              "      <td>NaN</td>\n",
              "      <td>What does the job hunting experience look like ?</td>\n",
              "      <td>NaN</td>\n",
              "    </tr>\n",
              "    <tr>\n",
              "      <th>1</th>\n",
              "      <td>Please provide how data science jobs are in th...</td>\n",
              "      <td>2</td>\n",
              "      <td>NaN</td>\n",
              "      <td>NaN</td>\n",
              "      <td>Any insights you can offer about the DS job ma...</td>\n",
              "      <td>NaN</td>\n",
              "    </tr>\n",
              "    <tr>\n",
              "      <th>2</th>\n",
              "      <td>How has the Covid impacted job?</td>\n",
              "      <td>3</td>\n",
              "      <td>NaN</td>\n",
              "      <td>NaN</td>\n",
              "      <td>What's the impact of Covid on hiring for DS ro...</td>\n",
              "      <td>NaN</td>\n",
              "    </tr>\n",
              "    <tr>\n",
              "      <th>3</th>\n",
              "      <td>Tell me about the skills required for Data sci...</td>\n",
              "      <td>4</td>\n",
              "      <td>NaN</td>\n",
              "      <td>NaN</td>\n",
              "      <td>What skills and qualities do employers look fo...</td>\n",
              "      <td>NaN</td>\n",
              "    </tr>\n",
              "    <tr>\n",
              "      <th>4</th>\n",
              "      <td>Is advanced knowledge of ML required?</td>\n",
              "      <td>5</td>\n",
              "      <td>NaN</td>\n",
              "      <td>NaN</td>\n",
              "      <td>Do employers look for an advanced ML degree?</td>\n",
              "      <td>NaN</td>\n",
              "    </tr>\n",
              "    <tr>\n",
              "      <th>5</th>\n",
              "      <td>What are the tasks performed by a data scienti...</td>\n",
              "      <td>6</td>\n",
              "      <td>NaN</td>\n",
              "      <td>NaN</td>\n",
              "      <td>How does a typical day of a data scientist loo...</td>\n",
              "      <td>NaN</td>\n",
              "    </tr>\n",
              "    <tr>\n",
              "      <th>6</th>\n",
              "      <td>How much is data structure important for data ...</td>\n",
              "      <td>7</td>\n",
              "      <td>NaN</td>\n",
              "      <td>NaN</td>\n",
              "      <td>Is preparation of algorithms and data structur...</td>\n",
              "      <td>NaN</td>\n",
              "    </tr>\n",
              "    <tr>\n",
              "      <th>7</th>\n",
              "      <td>How much maths knowledge is required to get a ...</td>\n",
              "      <td>8</td>\n",
              "      <td>NaN</td>\n",
              "      <td>NaN</td>\n",
              "      <td>What is the mathematical background required t...</td>\n",
              "      <td>NaN</td>\n",
              "    </tr>\n",
              "    <tr>\n",
              "      <th>8</th>\n",
              "      <td>How many rounds of interview is done for data ...</td>\n",
              "      <td>9</td>\n",
              "      <td>NaN</td>\n",
              "      <td>NaN</td>\n",
              "      <td>What are the various rounds in a data scientis...</td>\n",
              "      <td>NaN</td>\n",
              "    </tr>\n",
              "    <tr>\n",
              "      <th>9</th>\n",
              "      <td>How much coding experience is required for dat...</td>\n",
              "      <td>10</td>\n",
              "      <td>NaN</td>\n",
              "      <td>NaN</td>\n",
              "      <td>What level of proficiency is needed for a data...</td>\n",
              "      <td>NaN</td>\n",
              "    </tr>\n",
              "  </tbody>\n",
              "</table>\n",
              "</div>"
            ],
            "text/plain": [
              "                                           questions  ...  PredictedQuestion\n",
              "0                 How difficult is it to find a job?  ...                NaN\n",
              "1  Please provide how data science jobs are in th...  ...                NaN\n",
              "2                    How has the Covid impacted job?  ...                NaN\n",
              "3  Tell me about the skills required for Data sci...  ...                NaN\n",
              "4              Is advanced knowledge of ML required?  ...                NaN\n",
              "5  What are the tasks performed by a data scienti...  ...                NaN\n",
              "6  How much is data structure important for data ...  ...                NaN\n",
              "7  How much maths knowledge is required to get a ...  ...                NaN\n",
              "8  How many rounds of interview is done for data ...  ...                NaN\n",
              "9  How much coding experience is required for dat...  ...                NaN\n",
              "\n",
              "[10 rows x 6 columns]"
            ]
          },
          "metadata": {
            "tags": []
          },
          "execution_count": 46
        }
      ]
    },
    {
      "cell_type": "markdown",
      "metadata": {
        "id": "KuDHbcxAEI9G"
      },
      "source": [
        "##BERT Model"
      ]
    },
    {
      "cell_type": "code",
      "metadata": {
        "id": "E8VS3-e8EI9H",
        "outputId": "a12e8c02-42c8-40e3-d944-49ddf854c59d",
        "colab": {
          "base_uri": "https://localhost:8080/"
        }
      },
      "source": [
        "#cleaning test data questions\n",
        "cleaned_sentences_test=get_cleaned_sentences(df_test,stopwords=False)\n",
        "print(cleaned_sentences_test);"
      ],
      "execution_count": 47,
      "outputs": [
        {
          "output_type": "stream",
          "text": [
            "['how difficult is it to find a job', 'please provide how data science jobs are in the market', 'how has the covid impacted job', 'tell me about the skills required for data science in the industry', 'is advanced knowledge of ml required', 'what are the tasks performed by a data scientist in a day', 'how much is data structure important for data science positions', 'how much maths knowledge is required to get a data science job', 'how many rounds of interview is done for data science roles', 'how much coding experience is required for data science positions']\n"
          ],
          "name": "stdout"
        }
      ]
    },
    {
      "cell_type": "code",
      "metadata": {
        "id": "I8S37IGeEI9L"
      },
      "source": [
        "#cleaning original data questions\n",
        "cleaned_sentences=get_cleaned_sentences(df,stopwords=False)"
      ],
      "execution_count": 48,
      "outputs": []
    },
    {
      "cell_type": "code",
      "metadata": {
        "id": "FznmiaYZEI9P",
        "outputId": "f333820f-f2c1-4d26-fd1c-7d40ae2de289",
        "colab": {
          "base_uri": "https://localhost:8080/"
        }
      },
      "source": [
        "print(cleaned_sentences)"
      ],
      "execution_count": 49,
      "outputs": [
        {
          "output_type": "stream",
          "text": [
            "['what does the job hunting experience look like ', 'any insights you can offer about the ds job market ', 'whats the impact of covid on hiring for ds roles', 'what skills and qualities do employers look for in a data scientist', 'do employers look for an advanced ml degree', 'how does a typical day of a data scientist look like', 'is preparation of algorithms and data structures needed for a data science interview ', 'what is the mathematical background required to be a data scientist ', 'what are the various rounds in a data scientist interview ', 'what level of proficiency is needed for a data scientist in coding']\n"
          ],
          "name": "stdout"
        }
      ]
    },
    {
      "cell_type": "code",
      "metadata": {
        "id": "lmaL7vuGEI9T"
      },
      "source": [
        "#Embedding original question dataset\n",
        "\n",
        "sent_bertphrase_embeddings=[];\n",
        "\n",
        "for sent in cleaned_sentences:\n",
        "    sent_bertphrase_embeddings.append(bc.encode([sent]));"
      ],
      "execution_count": 50,
      "outputs": []
    },
    {
      "cell_type": "code",
      "metadata": {
        "id": "C8sB0K6JEI9X"
      },
      "source": [
        "#Embeding test question dataset\n",
        "\n",
        "sent_bertphrase_embeddings_test=[];\n",
        "for sent_test in cleaned_sentences_test:\n",
        "    sent_bertphrase_embeddings_test.append(bc.encode([sent_test]));\n"
      ],
      "execution_count": 51,
      "outputs": []
    },
    {
      "cell_type": "code",
      "metadata": {
        "id": "dpBDrz5rEI9c",
        "outputId": "effcc202-08d8-4d34-a14d-d19f31b0f576",
        "colab": {
          "base_uri": "https://localhost:8080/"
        }
      },
      "source": [
        "import sklearn\n",
        "from sklearn.metrics.pairwise import cosine_similarity;\n",
        "def retrieveAndPrintFAQAnswer(question_embeddings_test1,sentence_embeddings1,FAQdf1,sentences1,FAQdf_test1,sentences_test1):\n",
        "  for index_test,faq_embedding_test in enumerate(question_embeddings_test1):\n",
        "    max_sim=-1;\n",
        "    index_sim=-1;\n",
        "    for index,faq_embedding in enumerate(sentence_embeddings1):\n",
        "        \n",
        "      sim=cosine_similarity(faq_embedding,faq_embedding_test)[0][0];\n",
        "      #print(index, sim, sentences[index])\n",
        "      if sim>max_sim:\n",
        "        max_sim=sim;\n",
        "        index_sim=index;\n",
        "\n",
        "    FAQdf_test1.iloc[index_test,2]=FAQdf1.iloc[index_sim,2]\n",
        "    FAQdf_test1.iloc[index_test,5]=FAQdf1.iloc[index_sim,0]\n",
        "    print(\"\\n\")\n",
        "    print(\"Question: \",sentences_test1[index_test])\n",
        "    print(\"\\n\");\n",
        "    print(\"Retrieved: \",FAQdf1.iloc[index_sim,0]) \n",
        "    print(\"Answer:\",FAQdf1.iloc[index_sim,1])        \n",
        "  df_test=FAQdf_test1 \n",
        "retrieveAndPrintFAQAnswer(sent_bertphrase_embeddings_test,sent_bertphrase_embeddings,df,cleaned_sentences,df_test,cleaned_sentences_test);"
      ],
      "execution_count": 52,
      "outputs": [
        {
          "output_type": "stream",
          "text": [
            "\n",
            "\n",
            "Question:  how difficult is it to find a job\n",
            "\n",
            "\n",
            "Retrieved:  What is the mathematical background required to be a data scientist ?\n",
            "Answer: The following three are the basic building blocks in terms of data science math background: Linear Algebra, Probability and Statistics and Calculus and optimization.\n",
            "\n",
            "\n",
            "Question:  please provide how data science jobs are in the market\n",
            "\n",
            "\n",
            "Retrieved:  Any insights you can offer about the DS job market ?\n",
            "Answer: There are many kinds of roles, data scientist, analyst, data engineer and so on. There are many levels of companies. In smaller companies the roles are usually combined into one while in larger companies there are more nuanced roles. Since more and more companies are just getting started on their data journey, the overall demand is expected to increase in the next few years.\n",
            "\n",
            "\n",
            "Question:  how has the covid impacted job\n",
            "\n",
            "\n",
            "Retrieved:  What's the impact of Covid on hiring for DS roles?\n",
            "Answer: Hiring is going to slow down. First in small companies then eventually in enterprises in a couple of months. But it is likely to pick up in a few months. Hence, if you are looking to transition, this is a good time to ramp up skills and learn new things that might usually take some time.\n",
            "\n",
            "\n",
            "Question:  tell me about the skills required for data science in the industry\n",
            "\n",
            "\n",
            "Retrieved:  What level of proficiency is needed for a data scientist in coding?\n",
            "Answer: Needs to be reasonably proficient. Again, a data scientist is a developer ++. Usually expected to have the basic skills a developer has including understanding algorithms and data structures and being able to write clean, understable, efficient, well documented code.\n",
            "\n",
            "In many cases, the data scientist is expected to write production ready code and be able to understand the deployment process. In some cases, the coding could be for decision support.\n",
            "\n",
            "\n",
            "Question:  is advanced knowledge of ml required\n",
            "\n",
            "\n",
            "Retrieved:  Is preparation of algorithms and data structures needed for a data science interview ?\n",
            "Answer: Yes. In many data science interviews (ML Scientist, data scientist, ML Engineer, Data engineer) there is a coding round and an algorithms round. So preparing algorithms and data structures is necessary. Some of the Analyst interviews, such as a data analyst and a business analyst might not have an algorithms and data structures round.\n",
            "\n",
            "\n",
            "Question:  what are the tasks performed by a data scientist in a day\n",
            "\n",
            "\n",
            "Retrieved:  What are the various rounds in a data scientist interview ?\n",
            "Answer: Usually the data science interview has a subset of these rounds.\n",
            "\n",
            "Resume deep dive\n",
            "ML Concepts\n",
            "ML Scenario and Problem solving\n",
            "Algorithms and data structures\n",
            "Coding\n",
            "Behavioural\n",
            "\n",
            "Sometimes, some of these rounds might be combined, for instance there might not be two separate rounds for coding and algorithms. Similarly there might be a single round for ML concepts and scenario based problem solving.\n",
            "\n",
            "\n",
            "Question:  how much is data structure important for data science positions\n",
            "\n",
            "\n",
            "Retrieved:  What is the mathematical background required to be a data scientist ?\n",
            "Answer: The following three are the basic building blocks in terms of data science math background: Linear Algebra, Probability and Statistics and Calculus and optimization.\n",
            "\n",
            "\n",
            "Question:  how much maths knowledge is required to get a data science job\n",
            "\n",
            "\n",
            "Retrieved:  What is the mathematical background required to be a data scientist ?\n",
            "Answer: The following three are the basic building blocks in terms of data science math background: Linear Algebra, Probability and Statistics and Calculus and optimization.\n",
            "\n",
            "\n",
            "Question:  how many rounds of interview is done for data science roles\n",
            "\n",
            "\n",
            "Retrieved:  Is preparation of algorithms and data structures needed for a data science interview ?\n",
            "Answer: Yes. In many data science interviews (ML Scientist, data scientist, ML Engineer, Data engineer) there is a coding round and an algorithms round. So preparing algorithms and data structures is necessary. Some of the Analyst interviews, such as a data analyst and a business analyst might not have an algorithms and data structures round.\n",
            "\n",
            "\n",
            "Question:  how much coding experience is required for data science positions\n",
            "\n",
            "\n",
            "Retrieved:  What level of proficiency is needed for a data scientist in coding?\n",
            "Answer: Needs to be reasonably proficient. Again, a data scientist is a developer ++. Usually expected to have the basic skills a developer has including understanding algorithms and data structures and being able to write clean, understable, efficient, well documented code.\n",
            "\n",
            "In many cases, the data scientist is expected to write production ready code and be able to understand the deployment process. In some cases, the coding could be for decision support.\n"
          ],
          "name": "stdout"
        }
      ]
    },
    {
      "cell_type": "code",
      "metadata": {
        "id": "2FEa3-uzEI9h",
        "outputId": "cca8ffc4-e189-47b7-b3dc-e58107e14bc3",
        "colab": {
          "base_uri": "https://localhost:8080/",
          "height": 511
        }
      },
      "source": [
        "df_test"
      ],
      "execution_count": 53,
      "outputs": [
        {
          "output_type": "execute_result",
          "data": {
            "text/html": [
              "<div>\n",
              "<style scoped>\n",
              "    .dataframe tbody tr th:only-of-type {\n",
              "        vertical-align: middle;\n",
              "    }\n",
              "\n",
              "    .dataframe tbody tr th {\n",
              "        vertical-align: top;\n",
              "    }\n",
              "\n",
              "    .dataframe thead th {\n",
              "        text-align: right;\n",
              "    }\n",
              "</style>\n",
              "<table border=\"1\" class=\"dataframe\">\n",
              "  <thead>\n",
              "    <tr style=\"text-align: right;\">\n",
              "      <th></th>\n",
              "      <th>questions</th>\n",
              "      <th>ActualCode</th>\n",
              "      <th>PredictedCode</th>\n",
              "      <th>Prediction?</th>\n",
              "      <th>ActualQuestion</th>\n",
              "      <th>PredictedQuestion</th>\n",
              "    </tr>\n",
              "  </thead>\n",
              "  <tbody>\n",
              "    <tr>\n",
              "      <th>0</th>\n",
              "      <td>How difficult is it to find a job?</td>\n",
              "      <td>1</td>\n",
              "      <td>8.0</td>\n",
              "      <td>NaN</td>\n",
              "      <td>What does the job hunting experience look like ?</td>\n",
              "      <td>What is the mathematical background required t...</td>\n",
              "    </tr>\n",
              "    <tr>\n",
              "      <th>1</th>\n",
              "      <td>Please provide how data science jobs are in th...</td>\n",
              "      <td>2</td>\n",
              "      <td>2.0</td>\n",
              "      <td>NaN</td>\n",
              "      <td>Any insights you can offer about the DS job ma...</td>\n",
              "      <td>Any insights you can offer about the DS job ma...</td>\n",
              "    </tr>\n",
              "    <tr>\n",
              "      <th>2</th>\n",
              "      <td>How has the Covid impacted job?</td>\n",
              "      <td>3</td>\n",
              "      <td>3.0</td>\n",
              "      <td>NaN</td>\n",
              "      <td>What's the impact of Covid on hiring for DS ro...</td>\n",
              "      <td>What's the impact of Covid on hiring for DS ro...</td>\n",
              "    </tr>\n",
              "    <tr>\n",
              "      <th>3</th>\n",
              "      <td>Tell me about the skills required for Data sci...</td>\n",
              "      <td>4</td>\n",
              "      <td>10.0</td>\n",
              "      <td>NaN</td>\n",
              "      <td>What skills and qualities do employers look fo...</td>\n",
              "      <td>What level of proficiency is needed for a data...</td>\n",
              "    </tr>\n",
              "    <tr>\n",
              "      <th>4</th>\n",
              "      <td>Is advanced knowledge of ML required?</td>\n",
              "      <td>5</td>\n",
              "      <td>7.0</td>\n",
              "      <td>NaN</td>\n",
              "      <td>Do employers look for an advanced ML degree?</td>\n",
              "      <td>Is preparation of algorithms and data structur...</td>\n",
              "    </tr>\n",
              "    <tr>\n",
              "      <th>5</th>\n",
              "      <td>What are the tasks performed by a data scienti...</td>\n",
              "      <td>6</td>\n",
              "      <td>9.0</td>\n",
              "      <td>NaN</td>\n",
              "      <td>How does a typical day of a data scientist loo...</td>\n",
              "      <td>What are the various rounds in a data scientis...</td>\n",
              "    </tr>\n",
              "    <tr>\n",
              "      <th>6</th>\n",
              "      <td>How much is data structure important for data ...</td>\n",
              "      <td>7</td>\n",
              "      <td>8.0</td>\n",
              "      <td>NaN</td>\n",
              "      <td>Is preparation of algorithms and data structur...</td>\n",
              "      <td>What is the mathematical background required t...</td>\n",
              "    </tr>\n",
              "    <tr>\n",
              "      <th>7</th>\n",
              "      <td>How much maths knowledge is required to get a ...</td>\n",
              "      <td>8</td>\n",
              "      <td>8.0</td>\n",
              "      <td>NaN</td>\n",
              "      <td>What is the mathematical background required t...</td>\n",
              "      <td>What is the mathematical background required t...</td>\n",
              "    </tr>\n",
              "    <tr>\n",
              "      <th>8</th>\n",
              "      <td>How many rounds of interview is done for data ...</td>\n",
              "      <td>9</td>\n",
              "      <td>7.0</td>\n",
              "      <td>NaN</td>\n",
              "      <td>What are the various rounds in a data scientis...</td>\n",
              "      <td>Is preparation of algorithms and data structur...</td>\n",
              "    </tr>\n",
              "    <tr>\n",
              "      <th>9</th>\n",
              "      <td>How much coding experience is required for dat...</td>\n",
              "      <td>10</td>\n",
              "      <td>10.0</td>\n",
              "      <td>NaN</td>\n",
              "      <td>What level of proficiency is needed for a data...</td>\n",
              "      <td>What level of proficiency is needed for a data...</td>\n",
              "    </tr>\n",
              "  </tbody>\n",
              "</table>\n",
              "</div>"
            ],
            "text/plain": [
              "                                           questions  ...                                  PredictedQuestion\n",
              "0                 How difficult is it to find a job?  ...  What is the mathematical background required t...\n",
              "1  Please provide how data science jobs are in th...  ...  Any insights you can offer about the DS job ma...\n",
              "2                    How has the Covid impacted job?  ...  What's the impact of Covid on hiring for DS ro...\n",
              "3  Tell me about the skills required for Data sci...  ...  What level of proficiency is needed for a data...\n",
              "4              Is advanced knowledge of ML required?  ...  Is preparation of algorithms and data structur...\n",
              "5  What are the tasks performed by a data scienti...  ...  What are the various rounds in a data scientis...\n",
              "6  How much is data structure important for data ...  ...  What is the mathematical background required t...\n",
              "7  How much maths knowledge is required to get a ...  ...  What is the mathematical background required t...\n",
              "8  How many rounds of interview is done for data ...  ...  Is preparation of algorithms and data structur...\n",
              "9  How much coding experience is required for dat...  ...  What level of proficiency is needed for a data...\n",
              "\n",
              "[10 rows x 6 columns]"
            ]
          },
          "metadata": {
            "tags": []
          },
          "execution_count": 53
        }
      ]
    },
    {
      "cell_type": "code",
      "metadata": {
        "id": "_jKj-_yvEI9j",
        "outputId": "96a3140d-3bf6-458d-f195-35cfa05ca0b7",
        "colab": {
          "base_uri": "https://localhost:8080/",
          "height": 511
        }
      },
      "source": [
        "for i in range(df_test.shape[0]):\n",
        " if df_test.iloc[i,1]!=df_test.iloc[i,2]:\n",
        "   df_test.iloc[i,3]='InCorrect'\n",
        " else:\n",
        "   df_test.iloc[i,3]='correct'\n",
        "df_test"
      ],
      "execution_count": 54,
      "outputs": [
        {
          "output_type": "execute_result",
          "data": {
            "text/html": [
              "<div>\n",
              "<style scoped>\n",
              "    .dataframe tbody tr th:only-of-type {\n",
              "        vertical-align: middle;\n",
              "    }\n",
              "\n",
              "    .dataframe tbody tr th {\n",
              "        vertical-align: top;\n",
              "    }\n",
              "\n",
              "    .dataframe thead th {\n",
              "        text-align: right;\n",
              "    }\n",
              "</style>\n",
              "<table border=\"1\" class=\"dataframe\">\n",
              "  <thead>\n",
              "    <tr style=\"text-align: right;\">\n",
              "      <th></th>\n",
              "      <th>questions</th>\n",
              "      <th>ActualCode</th>\n",
              "      <th>PredictedCode</th>\n",
              "      <th>Prediction?</th>\n",
              "      <th>ActualQuestion</th>\n",
              "      <th>PredictedQuestion</th>\n",
              "    </tr>\n",
              "  </thead>\n",
              "  <tbody>\n",
              "    <tr>\n",
              "      <th>0</th>\n",
              "      <td>How difficult is it to find a job?</td>\n",
              "      <td>1</td>\n",
              "      <td>8.0</td>\n",
              "      <td>InCorrect</td>\n",
              "      <td>What does the job hunting experience look like ?</td>\n",
              "      <td>What is the mathematical background required t...</td>\n",
              "    </tr>\n",
              "    <tr>\n",
              "      <th>1</th>\n",
              "      <td>Please provide how data science jobs are in th...</td>\n",
              "      <td>2</td>\n",
              "      <td>2.0</td>\n",
              "      <td>correct</td>\n",
              "      <td>Any insights you can offer about the DS job ma...</td>\n",
              "      <td>Any insights you can offer about the DS job ma...</td>\n",
              "    </tr>\n",
              "    <tr>\n",
              "      <th>2</th>\n",
              "      <td>How has the Covid impacted job?</td>\n",
              "      <td>3</td>\n",
              "      <td>3.0</td>\n",
              "      <td>correct</td>\n",
              "      <td>What's the impact of Covid on hiring for DS ro...</td>\n",
              "      <td>What's the impact of Covid on hiring for DS ro...</td>\n",
              "    </tr>\n",
              "    <tr>\n",
              "      <th>3</th>\n",
              "      <td>Tell me about the skills required for Data sci...</td>\n",
              "      <td>4</td>\n",
              "      <td>10.0</td>\n",
              "      <td>InCorrect</td>\n",
              "      <td>What skills and qualities do employers look fo...</td>\n",
              "      <td>What level of proficiency is needed for a data...</td>\n",
              "    </tr>\n",
              "    <tr>\n",
              "      <th>4</th>\n",
              "      <td>Is advanced knowledge of ML required?</td>\n",
              "      <td>5</td>\n",
              "      <td>7.0</td>\n",
              "      <td>InCorrect</td>\n",
              "      <td>Do employers look for an advanced ML degree?</td>\n",
              "      <td>Is preparation of algorithms and data structur...</td>\n",
              "    </tr>\n",
              "    <tr>\n",
              "      <th>5</th>\n",
              "      <td>What are the tasks performed by a data scienti...</td>\n",
              "      <td>6</td>\n",
              "      <td>9.0</td>\n",
              "      <td>InCorrect</td>\n",
              "      <td>How does a typical day of a data scientist loo...</td>\n",
              "      <td>What are the various rounds in a data scientis...</td>\n",
              "    </tr>\n",
              "    <tr>\n",
              "      <th>6</th>\n",
              "      <td>How much is data structure important for data ...</td>\n",
              "      <td>7</td>\n",
              "      <td>8.0</td>\n",
              "      <td>InCorrect</td>\n",
              "      <td>Is preparation of algorithms and data structur...</td>\n",
              "      <td>What is the mathematical background required t...</td>\n",
              "    </tr>\n",
              "    <tr>\n",
              "      <th>7</th>\n",
              "      <td>How much maths knowledge is required to get a ...</td>\n",
              "      <td>8</td>\n",
              "      <td>8.0</td>\n",
              "      <td>correct</td>\n",
              "      <td>What is the mathematical background required t...</td>\n",
              "      <td>What is the mathematical background required t...</td>\n",
              "    </tr>\n",
              "    <tr>\n",
              "      <th>8</th>\n",
              "      <td>How many rounds of interview is done for data ...</td>\n",
              "      <td>9</td>\n",
              "      <td>7.0</td>\n",
              "      <td>InCorrect</td>\n",
              "      <td>What are the various rounds in a data scientis...</td>\n",
              "      <td>Is preparation of algorithms and data structur...</td>\n",
              "    </tr>\n",
              "    <tr>\n",
              "      <th>9</th>\n",
              "      <td>How much coding experience is required for dat...</td>\n",
              "      <td>10</td>\n",
              "      <td>10.0</td>\n",
              "      <td>correct</td>\n",
              "      <td>What level of proficiency is needed for a data...</td>\n",
              "      <td>What level of proficiency is needed for a data...</td>\n",
              "    </tr>\n",
              "  </tbody>\n",
              "</table>\n",
              "</div>"
            ],
            "text/plain": [
              "                                           questions  ...                                  PredictedQuestion\n",
              "0                 How difficult is it to find a job?  ...  What is the mathematical background required t...\n",
              "1  Please provide how data science jobs are in th...  ...  Any insights you can offer about the DS job ma...\n",
              "2                    How has the Covid impacted job?  ...  What's the impact of Covid on hiring for DS ro...\n",
              "3  Tell me about the skills required for Data sci...  ...  What level of proficiency is needed for a data...\n",
              "4              Is advanced knowledge of ML required?  ...  Is preparation of algorithms and data structur...\n",
              "5  What are the tasks performed by a data scienti...  ...  What are the various rounds in a data scientis...\n",
              "6  How much is data structure important for data ...  ...  What is the mathematical background required t...\n",
              "7  How much maths knowledge is required to get a ...  ...  What is the mathematical background required t...\n",
              "8  How many rounds of interview is done for data ...  ...  Is preparation of algorithms and data structur...\n",
              "9  How much coding experience is required for dat...  ...  What level of proficiency is needed for a data...\n",
              "\n",
              "[10 rows x 6 columns]"
            ]
          },
          "metadata": {
            "tags": []
          },
          "execution_count": 54
        }
      ]
    },
    {
      "cell_type": "code",
      "metadata": {
        "id": "qbiMxZ6IEI9m"
      },
      "source": [
        "list_data_answers=df_test.ActualCode.values.tolist()\n",
        "list_data_FoundCode=df_test.PredictedCode.values.tolist()"
      ],
      "execution_count": 55,
      "outputs": []
    },
    {
      "cell_type": "code",
      "metadata": {
        "id": "5xAxr5KVEI9q",
        "outputId": "f5f7dde4-a15c-4c52-ea68-9c816339cfa3",
        "colab": {
          "base_uri": "https://localhost:8080/"
        }
      },
      "source": [
        "#printing confusion matrix\n",
        "from sklearn.metrics import multilabel_confusion_matrix\n",
        "from sklearn import metrics\n",
        "multilabel_confusion_matrix(list_data_answers, list_data_FoundCode)\n",
        "#tn, fp, fn, tp = confusion_matrix([1, 2, 3, 4, 5, 6, 7, 8, 9, 10], [1.0, 2.0, 2.0, 10.0, 4.0, 1.0, 2.0, 1.0, 2.0, 2.0]).ravel()\n",
        "#print(metrics.classification_report(list_data_answers, list_data_FoundCode))"
      ],
      "execution_count": 56,
      "outputs": [
        {
          "output_type": "execute_result",
          "data": {
            "text/plain": [
              "array([[[9, 0],\n",
              "        [1, 0]],\n",
              "\n",
              "       [[9, 0],\n",
              "        [0, 1]],\n",
              "\n",
              "       [[9, 0],\n",
              "        [0, 1]],\n",
              "\n",
              "       [[9, 0],\n",
              "        [1, 0]],\n",
              "\n",
              "       [[9, 0],\n",
              "        [1, 0]],\n",
              "\n",
              "       [[9, 0],\n",
              "        [1, 0]],\n",
              "\n",
              "       [[7, 2],\n",
              "        [1, 0]],\n",
              "\n",
              "       [[7, 2],\n",
              "        [0, 1]],\n",
              "\n",
              "       [[8, 1],\n",
              "        [1, 0]],\n",
              "\n",
              "       [[8, 1],\n",
              "        [0, 1]]])"
            ]
          },
          "metadata": {
            "tags": []
          },
          "execution_count": 56
        }
      ]
    },
    {
      "cell_type": "code",
      "metadata": {
        "id": "MlKi8mP0EI9t"
      },
      "source": [
        "import matplotlib.pyplot as plt\n",
        "from mlxtend.evaluate import confusion_matrix\n",
        "\n",
        "\n",
        "cm = confusion_matrix(list_data_answers, list_data_FoundCode, binary=False)"
      ],
      "execution_count": 57,
      "outputs": []
    },
    {
      "cell_type": "code",
      "metadata": {
        "id": "ZqMwlEqNEI9v",
        "outputId": "d235c9ae-66a9-40dc-f935-f70591f88007",
        "colab": {
          "base_uri": "https://localhost:8080/",
          "height": 279
        }
      },
      "source": [
        "import matplotlib.pyplot as plt\n",
        "from mlxtend.evaluate import confusion_matrix\n",
        "from mlxtend.plotting import plot_confusion_matrix\n",
        "\n",
        "import pprint\n",
        "#printing confusion matrix\n",
        "fig, ax = plot_confusion_matrix(conf_mat=cm)\n",
        "plt.show()"
      ],
      "execution_count": 58,
      "outputs": [
        {
          "output_type": "display_data",
          "data": {
            "image/png": "[encoded data removed]",
            "text/plain": [
              "<Figure size 432x288 with 1 Axes>"
            ]
          },
          "metadata": {
            "tags": [],
            "needs_background": "light"
          }
        }
      ]
    },
    {
      "cell_type": "code",
      "metadata": {
        "id": "eBU8rxdLEI9z",
        "outputId": "e9c33626-62ec-4813-d1da-94da71d9359c",
        "colab": {
          "base_uri": "https://localhost:8080/"
        }
      },
      "source": [
        "print(metrics.classification_report(list_data_answers, list_data_FoundCode))"
      ],
      "execution_count": 59,
      "outputs": [
        {
          "output_type": "stream",
          "text": [
            "              precision    recall  f1-score   support\n",
            "\n",
            "           1       0.00      0.00      0.00         1\n",
            "           2       1.00      1.00      1.00         1\n",
            "           3       1.00      1.00      1.00         1\n",
            "           4       0.00      0.00      0.00         1\n",
            "           5       0.00      0.00      0.00         1\n",
            "           6       0.00      0.00      0.00         1\n",
            "           7       0.00      0.00      0.00         1\n",
            "           8       0.33      1.00      0.50         1\n",
            "           9       0.00      0.00      0.00         1\n",
            "          10       0.50      1.00      0.67         1\n",
            "\n",
            "    accuracy                           0.40        10\n",
            "   macro avg       0.28      0.40      0.32        10\n",
            "weighted avg       0.28      0.40      0.32        10\n",
            "\n"
          ],
          "name": "stdout"
        },
        {
          "output_type": "stream",
          "text": [
            "/usr/local/lib/python3.6/dist-packages/sklearn/metrics/_classification.py:1272: UndefinedMetricWarning: Precision and F-score are ill-defined and being set to 0.0 in labels with no predicted samples. Use `zero_division` parameter to control this behavior.\n",
            "  _warn_prf(average, modifier, msg_start, len(result))\n"
          ],
          "name": "stderr"
        }
      ]
    },
    {
      "cell_type": "code",
      "metadata": {
        "id": "BwHC3FlnES2Y"
      },
      "source": [
        ""
      ],
      "execution_count": 59,
      "outputs": []
    }
  ]
}